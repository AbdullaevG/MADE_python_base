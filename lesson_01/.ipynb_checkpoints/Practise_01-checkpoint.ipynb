{
 "cells": [
  {
   "cell_type": "code",
   "execution_count": 1,
   "id": "8273f569",
   "metadata": {},
   "outputs": [],
   "source": [
    "None"
   ]
  },
  {
   "cell_type": "code",
   "execution_count": 2,
   "id": "0c306688",
   "metadata": {},
   "outputs": [
    {
     "data": {
      "text/plain": [
       "False"
      ]
     },
     "execution_count": 2,
     "metadata": {},
     "output_type": "execute_result"
    }
   ],
   "source": [
    "num = 10\n",
    "num is None"
   ]
  },
  {
   "cell_type": "code",
   "execution_count": 3,
   "id": "221b9b48",
   "metadata": {},
   "outputs": [
    {
     "data": {
      "text/plain": [
       "True"
      ]
     },
     "execution_count": 3,
     "metadata": {},
     "output_type": "execute_result"
    }
   ],
   "source": [
    "d = {}\n",
    "d.get(1) is None"
   ]
  },
  {
   "cell_type": "code",
   "execution_count": 4,
   "id": "ca2734d5",
   "metadata": {},
   "outputs": [
    {
     "data": {
      "text/plain": [
       "False"
      ]
     },
     "execution_count": 4,
     "metadata": {},
     "output_type": "execute_result"
    }
   ],
   "source": [
    "s1 = object()\n",
    "s2 = object()\n",
    "s1 is s2"
   ]
  },
  {
   "cell_type": "code",
   "execution_count": 7,
   "id": "8a725a02",
   "metadata": {},
   "outputs": [
    {
     "name": "stdout",
     "output_type": "stream",
     "text": [
      "2312611603472\n",
      "2312611602928\n"
     ]
    }
   ],
   "source": [
    "for s in (s1, s2):\n",
    "    print(id(s))"
   ]
  },
  {
   "cell_type": "code",
   "execution_count": 8,
   "id": "3c52fcee",
   "metadata": {},
   "outputs": [
    {
     "name": "stdout",
     "output_type": "stream",
     "text": [
      "2312611603472\n",
      "2312611602928\n",
      "2312611602928\n"
     ]
    }
   ],
   "source": [
    "s3 = s2\n",
    "for s in (s1, s2, s3):\n",
    "    print(id(s))"
   ]
  },
  {
   "cell_type": "code",
   "execution_count": 9,
   "id": "00c07578",
   "metadata": {},
   "outputs": [
    {
     "name": "stdout",
     "output_type": "stream",
     "text": [
      "[10] [10]\n"
     ]
    }
   ],
   "source": [
    "lst1 = []\n",
    "lst2 = lst1\n",
    "\n",
    "lst1.append(10)\n",
    "print(lst1, lst2)"
   ]
  },
  {
   "cell_type": "code",
   "execution_count": 10,
   "id": "486220c1",
   "metadata": {},
   "outputs": [
    {
     "data": {
      "text/plain": [
       "True"
      ]
     },
     "execution_count": 10,
     "metadata": {},
     "output_type": "execute_result"
    }
   ],
   "source": [
    "class X:\n",
    "    pass\n",
    "\n",
    "obj = X()\n",
    "obj.x = 10\n",
    "isinstance(obj, object)"
   ]
  },
  {
   "cell_type": "code",
   "execution_count": 11,
   "id": "e03c6988",
   "metadata": {},
   "outputs": [],
   "source": [
    "def fn():\n",
    "    pass"
   ]
  },
  {
   "cell_type": "code",
   "execution_count": 12,
   "id": "d7fb1d40",
   "metadata": {},
   "outputs": [],
   "source": [
    "def fn():\n",
    "    ..."
   ]
  },
  {
   "cell_type": "code",
   "execution_count": 42,
   "id": "5c29d98c",
   "metadata": {},
   "outputs": [
    {
     "data": {
      "text/plain": [
       "(True, False, 2312611603744, 2312611603744, 2312614092752, 2312614091184)"
      ]
     },
     "execution_count": 42,
     "metadata": {},
     "output_type": "execute_result"
    }
   ],
   "source": [
    "x1 = object()\n",
    "x2 = x1\n",
    "\n",
    "addr1 = id(x1)\n",
    "addr2 = id(x2)\n",
    "\n",
    "x1 is x2, id(x1) is id(x2), addr1, addr2, id(addr1), id(addr2)"
   ]
  },
  {
   "cell_type": "code",
   "execution_count": 22,
   "id": "269b485f",
   "metadata": {},
   "outputs": [
    {
     "data": {
      "text/plain": [
       "(2, 174)"
      ]
     },
     "execution_count": 22,
     "metadata": {},
     "output_type": "execute_result"
    }
   ],
   "source": [
    "int('10', base = 2), int('10101110', base = 2)"
   ]
  },
  {
   "cell_type": "code",
   "execution_count": 18,
   "id": "195fb4c3",
   "metadata": {},
   "outputs": [
    {
     "data": {
      "text/plain": [
       "9"
      ]
     },
     "execution_count": 18,
     "metadata": {},
     "output_type": "execute_result"
    }
   ],
   "source": [
    "num = 0o11 # 8\n",
    "num"
   ]
  },
  {
   "cell_type": "code",
   "execution_count": 26,
   "id": "b8580fd6",
   "metadata": {},
   "outputs": [
    {
     "name": "stdout",
     "output_type": "stream",
     "text": [
      "6 7\n"
     ]
    }
   ],
   "source": [
    "print(round(6.5), round(6.6)) # если дробная часть 0.5 - окуругляем до ближайшего целого числа"
   ]
  },
  {
   "cell_type": "code",
   "execution_count": 25,
   "id": "4f492d36",
   "metadata": {},
   "outputs": [
    {
     "name": "stdout",
     "output_type": "stream",
     "text": [
      "-6 -7\n"
     ]
    }
   ],
   "source": [
    "print(round(-6.5), round(-6.6))"
   ]
  },
  {
   "cell_type": "code",
   "execution_count": 20,
   "id": "cdc3e2e4",
   "metadata": {},
   "outputs": [
    {
     "data": {
      "text/plain": [
       "16"
      ]
     },
     "execution_count": 20,
     "metadata": {},
     "output_type": "execute_result"
    }
   ],
   "source": [
    "num = 0x10 # 16\n",
    "num"
   ]
  },
  {
   "cell_type": "code",
   "execution_count": 28,
   "id": "e5392008",
   "metadata": {},
   "outputs": [
    {
     "data": {
      "text/plain": [
       "(65535, 30)"
      ]
     },
     "execution_count": 28,
     "metadata": {},
     "output_type": "execute_result"
    }
   ],
   "source": [
    "int(\"ffff\", 16), int(\"42\", 7)"
   ]
  },
  {
   "cell_type": "code",
   "execution_count": 29,
   "id": "4888e7f5",
   "metadata": {},
   "outputs": [
    {
     "data": {
      "text/plain": [
       "(-inf, inf, nan)"
      ]
     },
     "execution_count": 29,
     "metadata": {},
     "output_type": "execute_result"
    }
   ],
   "source": [
    ">>> float(\"-inf\"), float(\"inf\"), float(\"nan\")"
   ]
  },
  {
   "cell_type": "code",
   "execution_count": 30,
   "id": "46efbd41",
   "metadata": {},
   "outputs": [
    {
     "data": {
      "text/plain": [
       "False"
      ]
     },
     "execution_count": 30,
     "metadata": {},
     "output_type": "execute_result"
    }
   ],
   "source": [
    ">>> 0.1 + 0.2 == 0.3"
   ]
  },
  {
   "cell_type": "code",
   "execution_count": 32,
   "id": "aa43b384",
   "metadata": {},
   "outputs": [
    {
     "data": {
      "text/plain": [
       "False"
      ]
     },
     "execution_count": 32,
     "metadata": {},
     "output_type": "execute_result"
    }
   ],
   "source": [
    ">>> 0.1 + 0.2 <= 0.3"
   ]
  },
  {
   "cell_type": "code",
   "execution_count": 33,
   "id": "86fa3b40",
   "metadata": {},
   "outputs": [
    {
     "data": {
      "text/plain": [
       "0.30000000000000004"
      ]
     },
     "execution_count": 33,
     "metadata": {},
     "output_type": "execute_result"
    }
   ],
   "source": [
    ">>> 0.1 + 0.2"
   ]
  },
  {
   "cell_type": "code",
   "execution_count": 34,
   "id": "b68d1288",
   "metadata": {},
   "outputs": [
    {
     "data": {
      "text/plain": [
       "'0.1000000000000000055511151'"
      ]
     },
     "execution_count": 34,
     "metadata": {},
     "output_type": "execute_result"
    }
   ],
   "source": [
    "format(0.1, \".25f\")"
   ]
  },
  {
   "cell_type": "code",
   "execution_count": 36,
   "id": "78e15aad",
   "metadata": {},
   "outputs": [
    {
     "data": {
      "text/plain": [
       "True"
      ]
     },
     "execution_count": 36,
     "metadata": {},
     "output_type": "execute_result"
    }
   ],
   "source": [
    "import math\n",
    "math.isclose(0.1 + 0.2, 0.3)"
   ]
  },
  {
   "cell_type": "code",
   "execution_count": 37,
   "id": "db3180d1",
   "metadata": {},
   "outputs": [
    {
     "data": {
      "text/plain": [
       "(3602879701896397, 36028797018963968)"
      ]
     },
     "execution_count": 37,
     "metadata": {},
     "output_type": "execute_result"
    }
   ],
   "source": [
    "(0.1).as_integer_ratio()"
   ]
  },
  {
   "cell_type": "code",
   "execution_count": 45,
   "id": "d205d6d7",
   "metadata": {},
   "outputs": [
    {
     "name": "stdout",
     "output_type": "stream",
     "text": [
      "140709556660064\n",
      "140709556660064\n",
      "4 3 False\n",
      "140709556660096\n",
      "140709556660064\n"
     ]
    }
   ],
   "source": [
    "a, b = 3, 8\n",
    "# если мы изменяем неизменяемый объект - питон создает для него новую ячейку памяти\n",
    "c = a\n",
    "print(id(a))\n",
    "print(id(c))\n",
    "a += 1\n",
    "print(a, c, a is c)\n",
    "print(id(a))\n",
    "print(id(c))"
   ]
  },
  {
   "cell_type": "code",
   "execution_count": 46,
   "id": "ef13793e",
   "metadata": {},
   "outputs": [
    {
     "data": {
      "text/plain": [
       "(True, True)"
      ]
     },
     "execution_count": 46,
     "metadata": {},
     "output_type": "execute_result"
    }
   ],
   "source": [
    "# Число от -5 до 256 питон резервирует при старте в пямяти и сипользует их\n",
    "x1 = -5\n",
    "x2 = -5\n",
    "\n",
    "x3 = 256\n",
    "x4 = 256\n",
    "\n",
    "x1 is x2, x3 is x4"
   ]
  },
  {
   "cell_type": "code",
   "execution_count": 47,
   "id": "a8fb05cb",
   "metadata": {},
   "outputs": [
    {
     "data": {
      "text/plain": [
       "(False, False)"
      ]
     },
     "execution_count": 47,
     "metadata": {},
     "output_type": "execute_result"
    }
   ],
   "source": [
    "x1 = -6\n",
    "x2 = -6\n",
    "\n",
    "x3 = 257\n",
    "x4 = 257\n",
    "\n",
    "x1 is x2, x3 is x4"
   ]
  },
  {
   "cell_type": "code",
   "execution_count": 48,
   "id": "78534b42",
   "metadata": {},
   "outputs": [
    {
     "name": "stdout",
     "output_type": "stream",
     "text": [
      "3 -4\n",
      "0.375 0 3 (0, 3)\n",
      "0 11 0\n",
      "23384026197294446691258957323460528314494920687616\n",
      "1.82877982605164e+65\n",
      "11.313708498984761\n",
      "2.0\n",
      "0.001953125\n"
     ]
    }
   ],
   "source": [
    "a, b = 3, 8\n",
    "\n",
    "print(a, ~a)\n",
    "print(a / b, a // b, a % b, divmod(a, b))\n",
    "print(a & b, a ^ b, a ^ a)\n",
    "print(2 ** 164)\n",
    "print(2.5 ** 164)\n",
    "print(2 ** 3.5)\n",
    "print(8 ** (1/3))\n",
    "print(8 ** (-3))"
   ]
  },
  {
   "cell_type": "code",
   "execution_count": 52,
   "id": "3003875d",
   "metadata": {},
   "outputs": [
    {
     "name": "stdout",
     "output_type": "stream",
     "text": [
      "255 255\n",
      "6379\n"
     ]
    }
   ],
   "source": [
    "a = 0xFF\n",
    "print(a, int(\"ff\", base = 16))\n",
    "print(int('fij', 20))"
   ]
  },
  {
   "cell_type": "code",
   "execution_count": 54,
   "id": "9f7d6659",
   "metadata": {},
   "outputs": [
    {
     "data": {
      "text/plain": [
       "(6, 6, -6)"
      ]
     },
     "execution_count": 54,
     "metadata": {},
     "output_type": "execute_result"
    }
   ],
   "source": [
    "int(6.5), int(6.9), int(-6.9)"
   ]
  },
  {
   "cell_type": "code",
   "execution_count": 56,
   "id": "862fbd50",
   "metadata": {},
   "outputs": [
    {
     "name": "stdout",
     "output_type": "stream",
     "text": [
      "6 7\n",
      "8\n"
     ]
    }
   ],
   "source": [
    "print(round(6.5), round(6.6)) # если дробная часть 0.5 - окуругляем до ближайшего четного  числа\n",
    "print(round(7.5))"
   ]
  },
  {
   "cell_type": "code",
   "execution_count": 57,
   "id": "6b999c27",
   "metadata": {},
   "outputs": [
    {
     "data": {
      "text/plain": [
       "True"
      ]
     },
     "execution_count": 57,
     "metadata": {},
     "output_type": "execute_result"
    }
   ],
   "source": [
    "math.isclose(0.1 + 0.2, 0.3)"
   ]
  },
  {
   "cell_type": "code",
   "execution_count": 63,
   "id": "22957ec5",
   "metadata": {},
   "outputs": [
    {
     "data": {
      "text/plain": [
       "(False, True)"
      ]
     },
     "execution_count": 63,
     "metadata": {},
     "output_type": "execute_result"
    }
   ],
   "source": [
    "abs(0.3 - 0.1 - 0.2) < 10e-18, abs(0.3 - 0.1 - 0.2) < 10e-17"
   ]
  },
  {
   "cell_type": "code",
   "execution_count": 1,
   "id": "8cf36cb5",
   "metadata": {},
   "outputs": [
    {
     "name": "stdout",
     "output_type": "stream",
     "text": [
      "140709556377424 140709556377456\n",
      "140709556377424 140709556377456\n"
     ]
    }
   ],
   "source": [
    "# Для True и  False есть отдельная ячейка памяти, и все булевы объекты ссылаются на них\n",
    "a = True\n",
    "b = False\n",
    "с = True\n",
    "d = False\n",
    "print(id(a), id(b))\n",
    "print(id(с), id(d))"
   ]
  },
  {
   "cell_type": "code",
   "execution_count": 5,
   "id": "1c51775e",
   "metadata": {},
   "outputs": [
    {
     "name": "stdout",
     "output_type": "stream",
     "text": [
      "I'm a bool var\n"
     ]
    }
   ],
   "source": [
    "a = 3\n",
    "if a:\n",
    "    print(\"I'm a bool var\")\n",
    "else:\n",
    "    print(\"I'm not a bool var\")"
   ]
  },
  {
   "cell_type": "code",
   "execution_count": 7,
   "id": "133309e4",
   "metadata": {},
   "outputs": [
    {
     "name": "stdout",
     "output_type": "stream",
     "text": [
      "I'm a bool var\n"
     ]
    }
   ],
   "source": [
    "a = 0.3\n",
    "if a:\n",
    "    print(\"I'm a bool var\")\n",
    "else:\n",
    "    print(\"I'm not a bool var\")"
   ]
  },
  {
   "cell_type": "code",
   "execution_count": 10,
   "id": "07362a67",
   "metadata": {},
   "outputs": [
    {
     "data": {
      "text/plain": [
       "(True, True, True)"
      ]
     },
     "execution_count": 10,
     "metadata": {},
     "output_type": "execute_result"
    }
   ],
   "source": [
    "x = 6\n",
    "isinstance(x, int), isinstance(x, object), isinstance(object, object)"
   ]
  },
  {
   "cell_type": "code",
   "execution_count": 11,
   "id": "971edfd5",
   "metadata": {},
   "outputs": [
    {
     "name": "stdout",
     "output_type": "stream",
     "text": [
      "b'p'\n"
     ]
    }
   ],
   "source": [
    "byte_s = b'p'\n",
    "print(byte_s)"
   ]
  },
  {
   "cell_type": "code",
   "execution_count": 13,
   "id": "94778b60",
   "metadata": {},
   "outputs": [
    {
     "data": {
      "text/plain": [
       "b'a'"
      ]
     },
     "execution_count": 13,
     "metadata": {},
     "output_type": "execute_result"
    }
   ],
   "source": [
    "\"a\".encode()"
   ]
  },
  {
   "cell_type": "code",
   "execution_count": 14,
   "id": "8ecce5f0",
   "metadata": {},
   "outputs": [
    {
     "data": {
      "text/plain": [
       "'p'"
      ]
     },
     "execution_count": 14,
     "metadata": {},
     "output_type": "execute_result"
    }
   ],
   "source": [
    "byte_s.decode()"
   ]
  },
  {
   "cell_type": "code",
   "execution_count": 18,
   "id": "ee662f46",
   "metadata": {},
   "outputs": [
    {
     "name": "stdout",
     "output_type": "stream",
     "text": [
      "a\\n\\n\n"
     ]
    }
   ],
   "source": [
    "row_s = r\"a\\n\\n\"\n",
    "print(row_s)"
   ]
  },
  {
   "cell_type": "code",
   "execution_count": 20,
   "id": "d2a9d24c",
   "metadata": {},
   "outputs": [
    {
     "name": "stdout",
     "output_type": "stream",
     "text": [
      "a\n",
      "\n",
      "fg\n"
     ]
    }
   ],
   "source": [
    "string = \"a\\n\\nfg\"\n",
    "print(string)"
   ]
  },
  {
   "cell_type": "code",
   "execution_count": 21,
   "id": "a38a66d6",
   "metadata": {},
   "outputs": [
    {
     "data": {
      "text/plain": [
       "'x y 42'"
      ]
     },
     "execution_count": 21,
     "metadata": {},
     "output_type": "execute_result"
    }
   ],
   "source": [
    "\"x %s %d\" % (\"y\", 42)"
   ]
  },
  {
   "cell_type": "code",
   "execution_count": 22,
   "id": "2387dd65",
   "metadata": {},
   "outputs": [
    {
     "data": {
      "text/plain": [
       "'x y 42'"
      ]
     },
     "execution_count": 22,
     "metadata": {},
     "output_type": "execute_result"
    }
   ],
   "source": [
    "\"x %(y)s %(n)d\" % dict(y=\"y\", n=42)"
   ]
  },
  {
   "cell_type": "code",
   "execution_count": 25,
   "id": "236f477f",
   "metadata": {},
   "outputs": [
    {
     "data": {
      "text/plain": [
       "'x 1 100'"
      ]
     },
     "execution_count": 25,
     "metadata": {},
     "output_type": "execute_result"
    }
   ],
   "source": [
    "y = 1\n",
    "n = 100\n",
    "f\"x {y} {n}\" # самый быстрый способ!!!!"
   ]
  },
  {
   "cell_type": "code",
   "execution_count": 30,
   "id": "14ef46b1",
   "metadata": {},
   "outputs": [
    {
     "data": {
      "text/plain": [
       "(1, 2, [3, 4, 5])"
      ]
     },
     "execution_count": 30,
     "metadata": {},
     "output_type": "execute_result"
    }
   ],
   "source": [
    "lst = [1, 2, 3, 4, 5]\n",
    "a, b, *c = lst\n",
    "a, b, c"
   ]
  },
  {
   "cell_type": "code",
   "execution_count": 31,
   "id": "4adc74ed",
   "metadata": {},
   "outputs": [
    {
     "data": {
      "text/plain": [
       "(10, 20, 30)"
      ]
     },
     "execution_count": 31,
     "metadata": {},
     "output_type": "execute_result"
    }
   ],
   "source": [
    "a, b, с = [10, 20, 30]\n",
    "a, b, с"
   ]
  },
  {
   "cell_type": "code",
   "execution_count": 33,
   "id": "b4e7b6d6",
   "metadata": {},
   "outputs": [
    {
     "data": {
      "text/plain": [
       "(1, [2, 3, 4], 5)"
      ]
     },
     "execution_count": 33,
     "metadata": {},
     "output_type": "execute_result"
    }
   ],
   "source": [
    "lst = [1, 2, 3, 4, 5]\n",
    "a, *b, c = lst\n",
    "a, b, c"
   ]
  },
  {
   "cell_type": "code",
   "execution_count": 34,
   "id": "8909df4f",
   "metadata": {},
   "outputs": [
    {
     "data": {
      "text/plain": [
       "('1', ['2', '3'], '456')"
      ]
     },
     "execution_count": 34,
     "metadata": {},
     "output_type": "execute_result"
    }
   ],
   "source": [
    "lst = [\"123\", \"456\"]\n",
    "(a, *b), c = lst\n",
    "a, b, c"
   ]
  },
  {
   "cell_type": "code",
   "execution_count": 37,
   "id": "897047d8",
   "metadata": {},
   "outputs": [
    {
     "data": {
      "text/plain": [
       "(140709556660032, 140709556660064)"
      ]
     },
     "execution_count": 37,
     "metadata": {},
     "output_type": "execute_result"
    }
   ],
   "source": [
    "lst = [1, 2, 3]\n",
    "id(lst[1]), id(lst[2])"
   ]
  },
  {
   "cell_type": "code",
   "execution_count": 38,
   "id": "7eaa89ad",
   "metadata": {},
   "outputs": [
    {
     "data": {
      "text/plain": [
       "(140709556660608, 140709556660064)"
      ]
     },
     "execution_count": 38,
     "metadata": {},
     "output_type": "execute_result"
    }
   ],
   "source": [
    "lst[1] = 20\n",
    "id(lst[1]), id(lst[2])"
   ]
  },
  {
   "cell_type": "code",
   "execution_count": null,
   "id": "622c5859",
   "metadata": {},
   "outputs": [],
   "source": [
    "# словари или множества внутри себя содеражат хеш-таблицу от ключей\n",
    "# Питон вычисляет хеш для ключа,получаем число.  Берем количество бит в этом числе\n",
    "# в качестве дополнительного числа, которое будет нам определять позицию\n",
    "# если это место занято другим ключом питон сравнивает их\n",
    "# если они равны - "
   ]
  },
  {
   "cell_type": "code",
   "execution_count": 40,
   "id": "3a093e02",
   "metadata": {},
   "outputs": [
    {
     "data": {
      "text/plain": [
       "{'x': 10, 'y': 20, 'z': 30}"
      ]
     },
     "execution_count": 40,
     "metadata": {},
     "output_type": "execute_result"
    }
   ],
   "source": [
    "d2 = dict(x=10, y=20, z = 30)\n",
    "d2"
   ]
  },
  {
   "cell_type": "code",
   "execution_count": null,
   "id": "b2d10bbe",
   "metadata": {},
   "outputs": [],
   "source": []
  }
 ],
 "metadata": {
  "kernelspec": {
   "display_name": "Python 3",
   "language": "python",
   "name": "python3"
  },
  "language_info": {
   "codemirror_mode": {
    "name": "ipython",
    "version": 3
   },
   "file_extension": ".py",
   "mimetype": "text/x-python",
   "name": "python",
   "nbconvert_exporter": "python",
   "pygments_lexer": "ipython3",
   "version": "3.8.5"
  }
 },
 "nbformat": 4,
 "nbformat_minor": 5
}
