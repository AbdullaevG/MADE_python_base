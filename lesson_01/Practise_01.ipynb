{
 "cells": [
  {
   "cell_type": "code",
   "execution_count": 1,
   "id": "4f6a891d",
   "metadata": {},
   "outputs": [],
   "source": [
    "None"
   ]
  },
  {
   "cell_type": "code",
   "execution_count": 2,
   "id": "a583d683",
   "metadata": {},
   "outputs": [
    {
     "data": {
      "text/plain": [
       "False"
      ]
     },
     "execution_count": 2,
     "metadata": {},
     "output_type": "execute_result"
    }
   ],
   "source": [
    "num = 10\n",
    "num is None"
   ]
  },
  {
   "cell_type": "code",
   "execution_count": 3,
   "id": "0831156f",
   "metadata": {},
   "outputs": [
    {
     "data": {
      "text/plain": [
       "True"
      ]
     },
     "execution_count": 3,
     "metadata": {},
     "output_type": "execute_result"
    }
   ],
   "source": [
    "d = {}\n",
    "d.get(1) is None"
   ]
  },
  {
   "cell_type": "code",
   "execution_count": 4,
   "id": "8d266b46",
   "metadata": {},
   "outputs": [
    {
     "data": {
      "text/plain": [
       "False"
      ]
     },
     "execution_count": 4,
     "metadata": {},
     "output_type": "execute_result"
    }
   ],
   "source": [
    "s1 = object()\n",
    "s2 = object()\n",
    "s1 is s2"
   ]
  },
  {
   "cell_type": "code",
   "execution_count": 7,
   "id": "0c72cbee",
   "metadata": {},
   "outputs": [
    {
     "name": "stdout",
     "output_type": "stream",
     "text": [
      "2312611603472\n",
      "2312611602928\n"
     ]
    }
   ],
   "source": [
    "for s in (s1, s2):\n",
    "    print(id(s))"
   ]
  },
  {
   "cell_type": "code",
   "execution_count": 8,
   "id": "5c36248c",
   "metadata": {},
   "outputs": [
    {
     "name": "stdout",
     "output_type": "stream",
     "text": [
      "2312611603472\n",
      "2312611602928\n",
      "2312611602928\n"
     ]
    }
   ],
   "source": [
    "s3 = s2\n",
    "for s in (s1, s2, s3):\n",
    "    print(id(s))"
   ]
  },
  {
   "cell_type": "code",
   "execution_count": 9,
   "id": "91a58b8c",
   "metadata": {},
   "outputs": [
    {
     "name": "stdout",
     "output_type": "stream",
     "text": [
      "[10] [10]\n"
     ]
    }
   ],
   "source": [
    "lst1 = []\n",
    "lst2 = lst1\n",
    "\n",
    "lst1.append(10)\n",
    "print(lst1, lst2)"
   ]
  },
  {
   "cell_type": "code",
   "execution_count": 10,
   "id": "e5902b47",
   "metadata": {},
   "outputs": [
    {
     "data": {
      "text/plain": [
       "True"
      ]
     },
     "execution_count": 10,
     "metadata": {},
     "output_type": "execute_result"
    }
   ],
   "source": [
    "class X:\n",
    "    pass\n",
    "\n",
    "obj = X()\n",
    "obj.x = 10\n",
    "isinstance(obj, object)"
   ]
  },
  {
   "cell_type": "code",
   "execution_count": 11,
   "id": "f4dd869d",
   "metadata": {},
   "outputs": [],
   "source": [
    "def fn():\n",
    "    pass"
   ]
  },
  {
   "cell_type": "code",
   "execution_count": 12,
   "id": "1c2c475d",
   "metadata": {},
   "outputs": [],
   "source": [
    "def fn():\n",
    "    ..."
   ]
  },
  {
   "cell_type": "code",
   "execution_count": 42,
   "id": "28c8be9a",
   "metadata": {},
   "outputs": [
    {
     "data": {
      "text/plain": [
       "(True, False, 2312611603744, 2312611603744, 2312614092752, 2312614091184)"
      ]
     },
     "execution_count": 42,
     "metadata": {},
     "output_type": "execute_result"
    }
   ],
   "source": [
    "x1 = object()\n",
    "x2 = x1\n",
    "\n",
    "addr1 = id(x1)\n",
    "addr2 = id(x2)\n",
    "\n",
    "x1 is x2, id(x1) is id(x2), addr1, addr2, id(addr1), id(addr2)"
   ]
  },
  {
   "cell_type": "code",
   "execution_count": 22,
   "id": "d54e7d56",
   "metadata": {},
   "outputs": [
    {
     "data": {
      "text/plain": [
       "(2, 174)"
      ]
     },
     "execution_count": 22,
     "metadata": {},
     "output_type": "execute_result"
    }
   ],
   "source": [
    "int('10', base = 2), int('10101110', base = 2)"
   ]
  },
  {
   "cell_type": "code",
   "execution_count": 18,
   "id": "48969fd5",
   "metadata": {},
   "outputs": [
    {
     "data": {
      "text/plain": [
       "9"
      ]
     },
     "execution_count": 18,
     "metadata": {},
     "output_type": "execute_result"
    }
   ],
   "source": [
    "num = 0o11 # 8\n",
    "num"
   ]
  },
  {
   "cell_type": "code",
   "execution_count": 26,
   "id": "2fc573c7",
   "metadata": {},
   "outputs": [
    {
     "name": "stdout",
     "output_type": "stream",
     "text": [
      "6 7\n"
     ]
    }
   ],
   "source": [
    "print(round(6.5), round(6.6)) # если дробная часть 0.5 - окуругляем до ближайшего целого числа"
   ]
  },
  {
   "cell_type": "code",
   "execution_count": 25,
   "id": "867cc408",
   "metadata": {},
   "outputs": [
    {
     "name": "stdout",
     "output_type": "stream",
     "text": [
      "-6 -7\n"
     ]
    }
   ],
   "source": [
    "print(round(-6.5), round(-6.6))"
   ]
  },
  {
   "cell_type": "code",
   "execution_count": 20,
   "id": "2020eccb",
   "metadata": {},
   "outputs": [
    {
     "data": {
      "text/plain": [
       "16"
      ]
     },
     "execution_count": 20,
     "metadata": {},
     "output_type": "execute_result"
    }
   ],
   "source": [
    "num = 0x10 # 16\n",
    "num"
   ]
  },
  {
   "cell_type": "code",
   "execution_count": 28,
   "id": "f254a75c",
   "metadata": {},
   "outputs": [
    {
     "data": {
      "text/plain": [
       "(65535, 30)"
      ]
     },
     "execution_count": 28,
     "metadata": {},
     "output_type": "execute_result"
    }
   ],
   "source": [
    "int(\"ffff\", 16), int(\"42\", 7)"
   ]
  },
  {
   "cell_type": "code",
   "execution_count": 29,
   "id": "28a50700",
   "metadata": {},
   "outputs": [
    {
     "data": {
      "text/plain": [
       "(-inf, inf, nan)"
      ]
     },
     "execution_count": 29,
     "metadata": {},
     "output_type": "execute_result"
    }
   ],
   "source": [
    ">>> float(\"-inf\"), float(\"inf\"), float(\"nan\")"
   ]
  },
  {
   "cell_type": "code",
   "execution_count": 30,
   "id": "e7eca376",
   "metadata": {},
   "outputs": [
    {
     "data": {
      "text/plain": [
       "False"
      ]
     },
     "execution_count": 30,
     "metadata": {},
     "output_type": "execute_result"
    }
   ],
   "source": [
    ">>> 0.1 + 0.2 == 0.3"
   ]
  },
  {
   "cell_type": "code",
   "execution_count": 32,
   "id": "12e73369",
   "metadata": {},
   "outputs": [
    {
     "data": {
      "text/plain": [
       "False"
      ]
     },
     "execution_count": 32,
     "metadata": {},
     "output_type": "execute_result"
    }
   ],
   "source": [
    ">>> 0.1 + 0.2 <= 0.3"
   ]
  },
  {
   "cell_type": "code",
   "execution_count": 33,
   "id": "2f7bdc12",
   "metadata": {},
   "outputs": [
    {
     "data": {
      "text/plain": [
       "0.30000000000000004"
      ]
     },
     "execution_count": 33,
     "metadata": {},
     "output_type": "execute_result"
    }
   ],
   "source": [
    ">>> 0.1 + 0.2"
   ]
  },
  {
   "cell_type": "code",
   "execution_count": 34,
   "id": "7d03217a",
   "metadata": {},
   "outputs": [
    {
     "data": {
      "text/plain": [
       "'0.1000000000000000055511151'"
      ]
     },
     "execution_count": 34,
     "metadata": {},
     "output_type": "execute_result"
    }
   ],
   "source": [
    "format(0.1, \".25f\")"
   ]
  },
  {
   "cell_type": "code",
   "execution_count": 36,
   "id": "9b445479",
   "metadata": {},
   "outputs": [
    {
     "data": {
      "text/plain": [
       "True"
      ]
     },
     "execution_count": 36,
     "metadata": {},
     "output_type": "execute_result"
    }
   ],
   "source": [
    "import math\n",
    "math.isclose(0.1 + 0.2, 0.3)"
   ]
  },
  {
   "cell_type": "code",
   "execution_count": 37,
   "id": "706a7d14",
   "metadata": {},
   "outputs": [
    {
     "data": {
      "text/plain": [
       "(3602879701896397, 36028797018963968)"
      ]
     },
     "execution_count": 37,
     "metadata": {},
     "output_type": "execute_result"
    }
   ],
   "source": [
    "(0.1).as_integer_ratio()"
   ]
  },
  {
   "cell_type": "code",
   "execution_count": 45,
   "id": "7f1a0391",
   "metadata": {},
   "outputs": [
    {
     "name": "stdout",
     "output_type": "stream",
     "text": [
      "140709556660064\n",
      "140709556660064\n",
      "4 3 False\n",
      "140709556660096\n",
      "140709556660064\n"
     ]
    }
   ],
   "source": [
    "a, b = 3, 8\n",
    "# если мы изменяем неизменяемый объект - питон создает для него новую ячейку памяти\n",
    "c = a\n",
    "print(id(a))\n",
    "print(id(c))\n",
    "a += 1\n",
    "print(a, c, a is c)\n",
    "print(id(a))\n",
    "print(id(c))"
   ]
  },
  {
   "cell_type": "code",
   "execution_count": 46,
   "id": "77d27aa5",
   "metadata": {},
   "outputs": [
    {
     "data": {
      "text/plain": [
       "(True, True)"
      ]
     },
     "execution_count": 46,
     "metadata": {},
     "output_type": "execute_result"
    }
   ],
   "source": [
    "# Число от -5 до 256 питон резервирует при старте в пямяти и сипользует их\n",
    "x1 = -5\n",
    "x2 = -5\n",
    "\n",
    "x3 = 256\n",
    "x4 = 256\n",
    "\n",
    "x1 is x2, x3 is x4"
   ]
  },
  {
   "cell_type": "code",
   "execution_count": 47,
   "id": "58cf0399",
   "metadata": {},
   "outputs": [
    {
     "data": {
      "text/plain": [
       "(False, False)"
      ]
     },
     "execution_count": 47,
     "metadata": {},
     "output_type": "execute_result"
    }
   ],
   "source": [
    "x1 = -6\n",
    "x2 = -6\n",
    "\n",
    "x3 = 257\n",
    "x4 = 257\n",
    "\n",
    "x1 is x2, x3 is x4"
   ]
  },
  {
   "cell_type": "code",
   "execution_count": 48,
   "id": "46b2332c",
   "metadata": {},
   "outputs": [
    {
     "name": "stdout",
     "output_type": "stream",
     "text": [
      "3 -4\n",
      "0.375 0 3 (0, 3)\n",
      "0 11 0\n",
      "23384026197294446691258957323460528314494920687616\n",
      "1.82877982605164e+65\n",
      "11.313708498984761\n",
      "2.0\n",
      "0.001953125\n"
     ]
    }
   ],
   "source": [
    "a, b = 3, 8\n",
    "\n",
    "print(a, ~a)\n",
    "print(a / b, a // b, a % b, divmod(a, b))\n",
    "print(a & b, a ^ b, a ^ a)\n",
    "print(2 ** 164)\n",
    "print(2.5 ** 164)\n",
    "print(2 ** 3.5)\n",
    "print(8 ** (1/3))\n",
    "print(8 ** (-3))"
   ]
  },
  {
   "cell_type": "code",
   "execution_count": 52,
   "id": "4791cb09",
   "metadata": {},
   "outputs": [
    {
     "name": "stdout",
     "output_type": "stream",
     "text": [
      "255 255\n",
      "6379\n"
     ]
    }
   ],
   "source": [
    "a = 0xFF\n",
    "print(a, int(\"ff\", base = 16))\n",
    "print(int('fij', 20))"
   ]
  },
  {
   "cell_type": "code",
   "execution_count": 54,
   "id": "ebcef283",
   "metadata": {},
   "outputs": [
    {
     "data": {
      "text/plain": [
       "(6, 6, -6)"
      ]
     },
     "execution_count": 54,
     "metadata": {},
     "output_type": "execute_result"
    }
   ],
   "source": [
    "int(6.5), int(6.9), int(-6.9)"
   ]
  },
  {
   "cell_type": "code",
   "execution_count": 56,
   "id": "32d4cb08",
   "metadata": {},
   "outputs": [
    {
     "name": "stdout",
     "output_type": "stream",
     "text": [
      "6 7\n",
      "8\n"
     ]
    }
   ],
   "source": [
    "print(round(6.5), round(6.6)) # если дробная часть 0.5 - окуругляем до ближайшего четного  числа\n",
    "print(round(7.5))"
   ]
  },
  {
   "cell_type": "code",
   "execution_count": 57,
   "id": "dd18ddf6",
   "metadata": {},
   "outputs": [
    {
     "data": {
      "text/plain": [
       "True"
      ]
     },
     "execution_count": 57,
     "metadata": {},
     "output_type": "execute_result"
    }
   ],
   "source": [
    "math.isclose(0.1 + 0.2, 0.3)"
   ]
  },
  {
   "cell_type": "code",
   "execution_count": 63,
   "id": "e5a596c1",
   "metadata": {},
   "outputs": [
    {
     "data": {
      "text/plain": [
       "(False, True)"
      ]
     },
     "execution_count": 63,
     "metadata": {},
     "output_type": "execute_result"
    }
   ],
   "source": [
    "abs(0.3 - 0.1 - 0.2) < 10e-18, abs(0.3 - 0.1 - 0.2) < 10e-17"
   ]
  },
  {
   "cell_type": "code",
   "execution_count": 1,
   "id": "fa861b54",
   "metadata": {},
   "outputs": [
    {
     "name": "stdout",
     "output_type": "stream",
     "text": [
      "140709556377424 140709556377456\n",
      "140709556377424 140709556377456\n"
     ]
    }
   ],
   "source": [
    "# Для True и  False есть отдельная ячейка памяти, и все булевы объекты ссылаются на них\n",
    "a = True\n",
    "b = False\n",
    "с = True\n",
    "d = False\n",
    "print(id(a), id(b))\n",
    "print(id(с), id(d))"
   ]
  },
  {
   "cell_type": "code",
   "execution_count": 5,
   "id": "24c1ca96",
   "metadata": {},
   "outputs": [
    {
     "name": "stdout",
     "output_type": "stream",
     "text": [
      "I'm a bool var\n"
     ]
    }
   ],
   "source": [
    "a = 3\n",
    "if a:\n",
    "    print(\"I'm a bool var\")\n",
    "else:\n",
    "    print(\"I'm not a bool var\")"
   ]
  },
  {
   "cell_type": "code",
   "execution_count": 7,
   "id": "66f4dd54",
   "metadata": {},
   "outputs": [
    {
     "name": "stdout",
     "output_type": "stream",
     "text": [
      "I'm a bool var\n"
     ]
    }
   ],
   "source": [
    "a = 0.3\n",
    "if a:\n",
    "    print(\"I'm a bool var\")\n",
    "else:\n",
    "    print(\"I'm not a bool var\")"
   ]
  },
  {
   "cell_type": "code",
   "execution_count": 10,
   "id": "f2c4e142",
   "metadata": {},
   "outputs": [
    {
     "data": {
      "text/plain": [
       "(True, True, True)"
      ]
     },
     "execution_count": 10,
     "metadata": {},
     "output_type": "execute_result"
    }
   ],
   "source": [
    "x = 6\n",
    "isinstance(x, int), isinstance(x, object), isinstance(object, object)"
   ]
  },
  {
   "cell_type": "code",
   "execution_count": 11,
   "id": "452f2de3",
   "metadata": {},
   "outputs": [
    {
     "name": "stdout",
     "output_type": "stream",
     "text": [
      "b'p'\n"
     ]
    }
   ],
   "source": [
    "byte_s = b'p'\n",
    "print(byte_s)"
   ]
  },
  {
   "cell_type": "code",
   "execution_count": 13,
   "id": "63192fef",
   "metadata": {},
   "outputs": [
    {
     "data": {
      "text/plain": [
       "b'a'"
      ]
     },
     "execution_count": 13,
     "metadata": {},
     "output_type": "execute_result"
    }
   ],
   "source": [
    "\"a\".encode()"
   ]
  },
  {
   "cell_type": "code",
   "execution_count": 14,
   "id": "e889fbdd",
   "metadata": {},
   "outputs": [
    {
     "data": {
      "text/plain": [
       "'p'"
      ]
     },
     "execution_count": 14,
     "metadata": {},
     "output_type": "execute_result"
    }
   ],
   "source": [
    "byte_s.decode()"
   ]
  },
  {
   "cell_type": "code",
   "execution_count": 18,
   "id": "b564978a",
   "metadata": {},
   "outputs": [
    {
     "name": "stdout",
     "output_type": "stream",
     "text": [
      "a\\n\\n\n"
     ]
    }
   ],
   "source": [
    "row_s = r\"a\\n\\n\"\n",
    "print(row_s)"
   ]
  },
  {
   "cell_type": "code",
   "execution_count": 20,
   "id": "e6cac65c",
   "metadata": {},
   "outputs": [
    {
     "name": "stdout",
     "output_type": "stream",
     "text": [
      "a\n",
      "\n",
      "fg\n"
     ]
    }
   ],
   "source": [
    "string = \"a\\n\\nfg\"\n",
    "print(string)"
   ]
  },
  {
   "cell_type": "code",
   "execution_count": 21,
   "id": "ff4d3e67",
   "metadata": {},
   "outputs": [
    {
     "data": {
      "text/plain": [
       "'x y 42'"
      ]
     },
     "execution_count": 21,
     "metadata": {},
     "output_type": "execute_result"
    }
   ],
   "source": [
    "\"x %s %d\" % (\"y\", 42)"
   ]
  },
  {
   "cell_type": "code",
   "execution_count": 22,
   "id": "0fd9633b",
   "metadata": {},
   "outputs": [
    {
     "data": {
      "text/plain": [
       "'x y 42'"
      ]
     },
     "execution_count": 22,
     "metadata": {},
     "output_type": "execute_result"
    }
   ],
   "source": [
    "\"x %(y)s %(n)d\" % dict(y=\"y\", n=42)"
   ]
  },
  {
   "cell_type": "code",
   "execution_count": 25,
   "id": "1acd305e",
   "metadata": {},
   "outputs": [
    {
     "data": {
      "text/plain": [
       "'x 1 100'"
      ]
     },
     "execution_count": 25,
     "metadata": {},
     "output_type": "execute_result"
    }
   ],
   "source": [
    "y = 1\n",
    "n = 100\n",
    "f\"x {y} {n}\" # самый быстрый способ!!!!"
   ]
  },
  {
   "cell_type": "code",
   "execution_count": 30,
   "id": "7a452013",
   "metadata": {},
   "outputs": [
    {
     "data": {
      "text/plain": [
       "(1, 2, [3, 4, 5])"
      ]
     },
     "execution_count": 30,
     "metadata": {},
     "output_type": "execute_result"
    }
   ],
   "source": [
    "lst = [1, 2, 3, 4, 5]\n",
    "a, b, *c = lst\n",
    "a, b, c"
   ]
  },
  {
   "cell_type": "code",
   "execution_count": 31,
   "id": "ea308dfa",
   "metadata": {},
   "outputs": [
    {
     "data": {
      "text/plain": [
       "(10, 20, 30)"
      ]
     },
     "execution_count": 31,
     "metadata": {},
     "output_type": "execute_result"
    }
   ],
   "source": [
    "a, b, с = [10, 20, 30]\n",
    "a, b, с"
   ]
  },
  {
   "cell_type": "code",
   "execution_count": 33,
   "id": "da476c98",
   "metadata": {},
   "outputs": [
    {
     "data": {
      "text/plain": [
       "(1, [2, 3, 4], 5)"
      ]
     },
     "execution_count": 33,
     "metadata": {},
     "output_type": "execute_result"
    }
   ],
   "source": [
    "lst = [1, 2, 3, 4, 5]\n",
    "a, *b, c = lst\n",
    "a, b, c"
   ]
  },
  {
   "cell_type": "code",
   "execution_count": 34,
   "id": "fe482b2c",
   "metadata": {},
   "outputs": [
    {
     "data": {
      "text/plain": [
       "('1', ['2', '3'], '456')"
      ]
     },
     "execution_count": 34,
     "metadata": {},
     "output_type": "execute_result"
    }
   ],
   "source": [
    "lst = [\"123\", \"456\"]\n",
    "(a, *b), c = lst\n",
    "a, b, c"
   ]
  },
  {
   "cell_type": "code",
   "execution_count": 37,
   "id": "f28c36c7",
   "metadata": {},
   "outputs": [
    {
     "data": {
      "text/plain": [
       "(140709556660032, 140709556660064)"
      ]
     },
     "execution_count": 37,
     "metadata": {},
     "output_type": "execute_result"
    }
   ],
   "source": [
    "lst = [1, 2, 3]\n",
    "id(lst[1]), id(lst[2])"
   ]
  },
  {
   "cell_type": "code",
   "execution_count": 38,
   "id": "96235fff",
   "metadata": {},
   "outputs": [
    {
     "data": {
      "text/plain": [
       "(140709556660608, 140709556660064)"
      ]
     },
     "execution_count": 38,
     "metadata": {},
     "output_type": "execute_result"
    }
   ],
   "source": [
    "lst[1] = 20\n",
    "id(lst[1]), id(lst[2])"
   ]
  },
  {
   "cell_type": "code",
   "execution_count": 52,
   "id": "f649a6aa",
   "metadata": {},
   "outputs": [
    {
     "name": "stdout",
     "output_type": "stream",
     "text": [
      "b'\\xd0\\xbf\\xd0\\xb0\\xd1\\x80\\xd0\\xbe\\xd0\\xbb\\xd1\\x8c'\n",
      "пароль\n"
     ]
    }
   ],
   "source": [
    "s1 = \"пароль\"\n",
    "s2 = s1.encode() # байтовая строка\n",
    "s3 = s2.decode()\n",
    "\n",
    "print(s2)\n",
    "print(s3)"
   ]
  },
  {
   "cell_type": "code",
   "execution_count": 53,
   "id": "34113981",
   "metadata": {},
   "outputs": [
    {
     "name": "stdout",
     "output_type": "stream",
     "text": [
      "b'\\xef\\xe0\\xf0\\xee\\xeb\\xfc'\n",
      "пароль\n"
     ]
    }
   ],
   "source": [
    "s1 = \"пароль\"\n",
    "s4 = s1.encode(\"cp1251\")\n",
    "s5 = s4.decode(\"cp1251\")\n",
    "print(s4)\n",
    "print(s5)"
   ]
  },
  {
   "cell_type": "code",
   "execution_count": 54,
   "id": "8132cf13",
   "metadata": {},
   "outputs": [
    {
     "name": "stdout",
     "output_type": "stream",
     "text": [
      "qw_\n",
      "_er_\t_1\n"
     ]
    },
    {
     "data": {
      "text/plain": [
       "\"'qw_\\\\n_er_\\\\t_1'\""
      ]
     },
     "execution_count": 54,
     "metadata": {},
     "output_type": "execute_result"
    }
   ],
   "source": [
    "s1 = \"qw_\\n_er_\\t_1\"\n",
    "print(s1)\n",
    "repr(s1)"
   ]
  },
  {
   "cell_type": "code",
   "execution_count": 55,
   "id": "a8d92e64",
   "metadata": {},
   "outputs": [
    {
     "name": "stdout",
     "output_type": "stream",
     "text": [
      "qw_\\n_er_\\t_1\n"
     ]
    },
    {
     "data": {
      "text/plain": [
       "\"'qw_\\\\\\\\n_er_\\\\\\\\t_1'\""
      ]
     },
     "execution_count": 55,
     "metadata": {},
     "output_type": "execute_result"
    }
   ],
   "source": [
    "s2 = \"qw_\\\\n_er_\\\\t_1\"\n",
    "print(s2)\n",
    "repr(s2)"
   ]
  },
  {
   "cell_type": "code",
   "execution_count": 56,
   "id": "b298ff04",
   "metadata": {},
   "outputs": [
    {
     "name": "stdout",
     "output_type": "stream",
     "text": [
      "qw_\\n_er_\\t_1\n"
     ]
    },
    {
     "data": {
      "text/plain": [
       "\"'qw_\\\\\\\\n_er_\\\\\\\\t_1'\""
      ]
     },
     "execution_count": 56,
     "metadata": {},
     "output_type": "execute_result"
    }
   ],
   "source": [
    "s3 = r\"qw_\\n_er_\\t_1\"\n",
    "print(s3)\n",
    "repr(s3)"
   ]
  },
  {
   "cell_type": "code",
   "execution_count": null,
   "id": "79ec4995",
   "metadata": {},
   "outputs": [],
   "source": [
    "# словари или множества внутри себя содеражат хеш-таблицу от ключей\n",
    "# Питон вычисляет хеш для ключа,получаем число.  Берем количество бит в этом числе\n",
    "# в качестве дополнительного числа, которое будет нам определять позицию\n",
    "# если это место занято другим ключом питон сравнивает их\n",
    "# если они равны - все хорошо, если нет находим другое место - другим алгоритмом\n",
    "# Разряженность - 1/3, т.е. треть мест свободна"
   ]
  },
  {
   "cell_type": "code",
   "execution_count": 41,
   "id": "59a8ffaf",
   "metadata": {},
   "outputs": [
    {
     "data": {
      "text/plain": [
       "{'x': 10, 'y': 20, 'z': 30}"
      ]
     },
     "execution_count": 41,
     "metadata": {},
     "output_type": "execute_result"
    }
   ],
   "source": [
    "d1 = {}\n",
    "d1[1] = 11\n",
    "d1[2] = 12\n",
    "d2 = dict(x=10, y=20, z = 30)\n",
    "d2"
   ]
  },
  {
   "cell_type": "code",
   "execution_count": 42,
   "id": "6599cea8",
   "metadata": {},
   "outputs": [
    {
     "data": {
      "text/plain": [
       "{1: 11, 2: 12, 'x': 10, 'y': 20, 'z': 30, 3: 33}"
      ]
     },
     "execution_count": 42,
     "metadata": {},
     "output_type": "execute_result"
    }
   ],
   "source": [
    "d3 = {**d1, **d2, 3: 33}\n",
    "d3"
   ]
  },
  {
   "cell_type": "code",
   "execution_count": 45,
   "id": "55035b20",
   "metadata": {},
   "outputs": [
    {
     "name": "stdout",
     "output_type": "stream",
     "text": [
      "1 2\n"
     ]
    }
   ],
   "source": [
    "print(*d1)"
   ]
  },
  {
   "cell_type": "code",
   "execution_count": 46,
   "id": "61399a49",
   "metadata": {},
   "outputs": [
    {
     "data": {
      "text/plain": [
       "True"
      ]
     },
     "execution_count": 46,
     "metadata": {},
     "output_type": "execute_result"
    }
   ],
   "source": [
    "lst = [1, 3, 2] # 1 in lst - O(n)\n",
    "dct = {1: 11, 2: 22} # 1 in dct - O(1)\n",
    "\"456\" in \"123456\" # O(n*n)"
   ]
  },
  {
   "cell_type": "code",
   "execution_count": null,
   "id": "63913589",
   "metadata": {},
   "outputs": [],
   "source": [
    "Неизменяемые\n",
    "    ○ int, float, bool, complex\n",
    "    ○ str, bytes\n",
    "    ○ tuple\n",
    "    ○ frozenset\n",
    "Изменяемые\n",
    "    ○ list\n",
    "    ○ dict, set\n",
    "    ○ user defined"
   ]
  },
  {
   "cell_type": "code",
   "execution_count": 49,
   "id": "aebbb0e3",
   "metadata": {},
   "outputs": [
    {
     "data": {
      "text/plain": [
       "'chetniy'"
      ]
     },
     "execution_count": 49,
     "metadata": {},
     "output_type": "execute_result"
    }
   ],
   "source": [
    "f = lambda x: x % 2\n",
    "\n",
    "string = \"ne_chetniy\" if f(4) else \"chetniy\"\n",
    "string"
   ]
  },
  {
   "cell_type": "code",
   "execution_count": 50,
   "id": "6f94d90f",
   "metadata": {},
   "outputs": [
    {
     "ename": "SyntaxError",
     "evalue": "invalid syntax (<ipython-input-50-64a6b500d5a4>, line 2)",
     "output_type": "error",
     "traceback": [
      "\u001b[1;36m  File \u001b[1;32m\"<ipython-input-50-64a6b500d5a4>\"\u001b[1;36m, line \u001b[1;32m2\u001b[0m\n\u001b[1;33m    match value:\u001b[0m\n\u001b[1;37m          ^\u001b[0m\n\u001b[1;31mSyntaxError\u001b[0m\u001b[1;31m:\u001b[0m invalid syntax\n"
     ]
    }
   ],
   "source": []
  },
  {
   "cell_type": "code",
   "execution_count": null,
   "id": "84483e89",
   "metadata": {},
   "outputs": [],
   "source": [
    "# Pattern matching (3.10)\n",
    "value = 42\n",
    "match value:\n",
    "    case 41:\n",
    "        act_41()\n",
    "    case 42:\n",
    "        act_42()\n",
    "    case other:\n",
    "        act_other(other)"
   ]
  },
  {
   "cell_type": "code",
   "execution_count": 57,
   "id": "2d47ccc3",
   "metadata": {},
   "outputs": [
    {
     "name": "stdout",
     "output_type": "stream",
     "text": [
      "(1, 3, 2)\n"
     ]
    }
   ],
   "source": [
    "t1 = tuple(lst)\n",
    "print(t1)"
   ]
  },
  {
   "cell_type": "code",
   "execution_count": 58,
   "id": "7dd2ccbb",
   "metadata": {},
   "outputs": [
    {
     "ename": "TypeError",
     "evalue": "'tuple' object does not support item assignment",
     "output_type": "error",
     "traceback": [
      "\u001b[1;31m---------------------------------------------------------------------------\u001b[0m",
      "\u001b[1;31mTypeError\u001b[0m                                 Traceback (most recent call last)",
      "\u001b[1;32m<ipython-input-58-f6d7e065b405>\u001b[0m in \u001b[0;36m<module>\u001b[1;34m\u001b[0m\n\u001b[1;32m----> 1\u001b[1;33m \u001b[0mt1\u001b[0m\u001b[1;33m[\u001b[0m\u001b[1;36m0\u001b[0m\u001b[1;33m]\u001b[0m \u001b[1;33m=\u001b[0m \u001b[1;36m12\u001b[0m\u001b[1;33m\u001b[0m\u001b[1;33m\u001b[0m\u001b[0m\n\u001b[0m",
      "\u001b[1;31mTypeError\u001b[0m: 'tuple' object does not support item assignment"
     ]
    }
   ],
   "source": [
    "t1[0] = 12"
   ]
  },
  {
   "cell_type": "code",
   "execution_count": 59,
   "id": "9d09ea6a",
   "metadata": {},
   "outputs": [
    {
     "name": "stdout",
     "output_type": "stream",
     "text": [
      "ok\n"
     ]
    }
   ],
   "source": [
    "def is_uniq_elems(nums) -> bool:\n",
    "    seen = set()\n",
    "\n",
    "    for n in nums:\n",
    "        if n in seen:\n",
    "            return False\n",
    "        seen.add(n)\n",
    "    \n",
    "    return True\n",
    "\n",
    "\n",
    "assert is_uniq_elems([])\n",
    "assert is_uniq_elems([1, 2, 3])\n",
    "assert not is_uniq_elems([1, 2, 3, 1])\n",
    "\n",
    "print('ok')"
   ]
  },
  {
   "cell_type": "code",
   "execution_count": null,
   "id": "ffcd3aa6",
   "metadata": {},
   "outputs": [],
   "source": []
  },
  {
   "cell_type": "code",
   "execution_count": null,
   "id": "1a6eb506",
   "metadata": {},
   "outputs": [],
   "source": []
  },
  {
   "cell_type": "code",
   "execution_count": null,
   "id": "d63821fe",
   "metadata": {},
   "outputs": [],
   "source": []
  },
  {
   "cell_type": "code",
   "execution_count": null,
   "id": "c491f22b",
   "metadata": {},
   "outputs": [],
   "source": []
  },
  {
   "cell_type": "code",
   "execution_count": null,
   "id": "8df30b52",
   "metadata": {},
   "outputs": [],
   "source": []
  },
  {
   "cell_type": "code",
   "execution_count": null,
   "id": "9fa474b2",
   "metadata": {},
   "outputs": [],
   "source": []
  },
  {
   "cell_type": "code",
   "execution_count": null,
   "id": "93db6777",
   "metadata": {},
   "outputs": [],
   "source": []
  }
 ],
 "metadata": {
  "kernelspec": {
   "display_name": "Python 3",
   "language": "python",
   "name": "python3"
  },
  "language_info": {
   "codemirror_mode": {
    "name": "ipython",
    "version": 3
   },
   "file_extension": ".py",
   "mimetype": "text/x-python",
   "name": "python",
   "nbconvert_exporter": "python",
   "pygments_lexer": "ipython3",
   "version": "3.8.5"
  }
 },
 "nbformat": 4,
 "nbformat_minor": 5
}
