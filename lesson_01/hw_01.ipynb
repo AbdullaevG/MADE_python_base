{
 "cells": [
  {
   "cell_type": "code",
   "execution_count": 1,
   "id": "00a13235",
   "metadata": {},
   "outputs": [],
   "source": [
    "import cmath\n",
    "\n",
    "def solve_quadratic_equation(a, b, c):\n",
    "    \n",
    "    if a == 0 and b == 0 and c == 0:\n",
    "        return f\"x is any number in C\"\n",
    "    \n",
    "    elif a==0 and b==0 and c!= 0:\n",
    "        return f\"The solution doesn't exist\"\n",
    "    \n",
    "    elif a == 0:\n",
    "        if b != 0:\n",
    "            return (-c/b, )\n",
    "    elif c == 0:\n",
    "        return (0, -b/a)\n",
    "        \n",
    "    else:\n",
    "        return ((-b - cmath.sqrt(b**2 - 4*a*c))/(2*a), (-b + cmath.sqrt(b**2 - 4*a*c))/(2*a))\n",
    "\n",
    "assert solve_quadratic_equation(0, 0, 0) == f\"x is any number in C\"\n",
    "assert solve_quadratic_equation(0, 0, 5) == f\"The solution doesn't exist\"\n",
    "assert solve_quadratic_equation(0, 5, 0) == (0, )\n",
    "assert solve_quadratic_equation(6, 0, 0) == (0, 0)\n",
    "assert solve_quadratic_equation(0, 10, 5) == (-0.5, )\n",
    "assert solve_quadratic_equation(1, 0, -9) == (-3, 3)\n",
    "assert solve_quadratic_equation(1, 0, 9) == (-3j, 3j)\n",
    "assert solve_quadratic_equation(1, 5, 0) == (0, -5)\n",
    "assert solve_quadratic_equation(1, -5, 6) == (2, 3)"
   ]
  },
  {
   "cell_type": "code",
   "execution_count": 2,
   "id": "0d9263c3",
   "metadata": {},
   "outputs": [],
   "source": [
    "def odd_seperate(lst: list):\n",
    "    odd = tuple()\n",
    "    even = tuple()\n",
    "    for item in lst:\n",
    "        if item % 2:\n",
    "            odd += (item, )\n",
    "        else:\n",
    "            even += (item, )\n",
    "            \n",
    "    return odd, even\n",
    "\n",
    "assert odd_seperate(list(range(10))) == ((1, 3, 5, 7, 9), (0, 2, 4, 6, 8))\n",
    "assert odd_seperate([1, 3, 5]) == ((1, 3, 5), ())\n",
    "assert odd_seperate([22, -4, -56]) == ((), (22, -4, -56))\n",
    "assert odd_seperate([]) == ((), ())"
   ]
  },
  {
   "cell_type": "code",
   "execution_count": null,
   "id": "700d29b9",
   "metadata": {},
   "outputs": [],
   "source": []
  }
 ],
 "metadata": {
  "kernelspec": {
   "display_name": "Python 3",
   "language": "python",
   "name": "python3"
  },
  "language_info": {
   "codemirror_mode": {
    "name": "ipython",
    "version": 3
   },
   "file_extension": ".py",
   "mimetype": "text/x-python",
   "name": "python",
   "nbconvert_exporter": "python",
   "pygments_lexer": "ipython3",
   "version": "3.8.5"
  }
 },
 "nbformat": 4,
 "nbformat_minor": 5
}
