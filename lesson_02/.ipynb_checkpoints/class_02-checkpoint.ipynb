{
 "cells": [
  {
   "cell_type": "code",
   "execution_count": 1,
   "id": "1e371ca7",
   "metadata": {},
   "outputs": [],
   "source": [
    "def gen(count):\n",
    "    return 10\n",
    "    yield 99\n",
    "\n",
    "\n",
    "for i in gen(0):\n",
    "    print(i)"
   ]
  },
  {
   "cell_type": "code",
   "execution_count": 2,
   "id": "7509d72c",
   "metadata": {},
   "outputs": [
    {
     "data": {
      "text/plain": [
       "<generator object gen at 0x00000184D8914740>"
      ]
     },
     "execution_count": 2,
     "metadata": {},
     "output_type": "execute_result"
    }
   ],
   "source": [
    "g = gen(0)\n",
    "g"
   ]
  },
  {
   "cell_type": "code",
   "execution_count": 3,
   "id": "99709159",
   "metadata": {},
   "outputs": [
    {
     "name": "stdout",
     "output_type": "stream",
     "text": [
      "5\n",
      "4\n",
      "3\n",
      "2\n",
      "1\n"
     ]
    }
   ],
   "source": [
    "def counter(count):\n",
    "    while count > 0:\n",
    "        yield count\n",
    "        count -= 1\n",
    "        \n",
    "for i in counter(5):\n",
    "    print(i)"
   ]
  },
  {
   "cell_type": "code",
   "execution_count": 4,
   "id": "d5553944",
   "metadata": {},
   "outputs": [
    {
     "name": "stdout",
     "output_type": "stream",
     "text": [
      "5\n",
      "4\n",
      "3\n",
      "2\n",
      "1\n"
     ]
    }
   ],
   "source": [
    "def counter(count):\n",
    "    while count > 0:\n",
    "        yield count\n",
    "        count -= 1\n",
    "\n",
    "    return {1:11}\n",
    "\n",
    "\n",
    "for i in counter(5):\n",
    "    print(i)"
   ]
  },
  {
   "cell_type": "code",
   "execution_count": 5,
   "id": "28e5cdec",
   "metadata": {},
   "outputs": [
    {
     "name": "stdout",
     "output_type": "stream",
     "text": [
      "<generator object counter at 0x00000184D8914820>\n",
      "5\n",
      "4\n",
      "3\n",
      "2\n",
      "1\n",
      "StopIteration({1: 11})\n",
      "{1: 11}\n",
      "str= {1: 11}\n"
     ]
    }
   ],
   "source": [
    "cnt_gen = counter(5)\n",
    "print(cnt_gen)\n",
    "\n",
    "for _ in range(5):\n",
    "    print(next(cnt_gen))\n",
    "\n",
    "try:\n",
    "    print(next(cnt_gen))\n",
    "except StopIteration as err:\n",
    "    print(repr(err))\n",
    "    print(err)\n",
    "    print('str=', err.__str__())\n",
    "    "
   ]
  },
  {
   "cell_type": "code",
   "execution_count": 6,
   "id": "254490df",
   "metadata": {},
   "outputs": [
    {
     "name": "stdout",
     "output_type": "stream",
     "text": [
      "a=5\n"
     ]
    }
   ],
   "source": [
    "a = 5\n",
    "print(f\"{a=}\")"
   ]
  },
  {
   "cell_type": "code",
   "execution_count": 7,
   "id": "83cfc6ba",
   "metadata": {},
   "outputs": [
    {
     "name": "stdout",
     "output_type": "stream",
     "text": [
      "5\n",
      "in counter diff=None\n",
      "4\n",
      "in counter diff=None\n",
      "3\n",
      "in counter diff=None\n",
      "2\n",
      "in counter diff=None\n",
      "1\n",
      "in counter diff=None\n"
     ]
    }
   ],
   "source": [
    "def counter(count):\n",
    "    while count > 0:\n",
    "        diff = yield count\n",
    "        print(f\"in counter {diff=}\")\n",
    "\n",
    "        if diff is None:\n",
    "            diff = 1\n",
    "\n",
    "        count -= diff\n",
    "\n",
    "for i in counter(5):\n",
    "    print(i)"
   ]
  },
  {
   "cell_type": "code",
   "execution_count": 8,
   "id": "560aebff",
   "metadata": {},
   "outputs": [
    {
     "name": "stdout",
     "output_type": "stream",
     "text": [
      "10\n",
      "in counter diff=2\n",
      "8\n",
      "in counter diff=5\n",
      "3\n"
     ]
    }
   ],
   "source": [
    "def counter(count):\n",
    "    while count > 0:\n",
    "        diff = yield count\n",
    "        print(f\"in counter {diff=}\")\n",
    "\n",
    "        if diff is None:\n",
    "            diff = 1\n",
    "\n",
    "        count -= diff\n",
    "\n",
    "cnt = counter(10)\n",
    "print(next(cnt))\n",
    "print(cnt.send(2))\n",
    "print(cnt.send(5))"
   ]
  },
  {
   "cell_type": "code",
   "execution_count": 9,
   "id": "1ec61e4d",
   "metadata": {},
   "outputs": [],
   "source": [
    "def usual_function(x):\n",
    "    if x > 0:\n",
    "        return x + 1\n",
    "    else:\n",
    "        return x - 1"
   ]
  },
  {
   "cell_type": "code",
   "execution_count": 10,
   "id": "3323a708",
   "metadata": {},
   "outputs": [],
   "source": [
    "points = (1, 2, [])\n"
   ]
  },
  {
   "cell_type": "code",
   "execution_count": 11,
   "id": "632e54ad",
   "metadata": {},
   "outputs": [
    {
     "ename": "TypeError",
     "evalue": "'tuple' object does not support item assignment",
     "output_type": "error",
     "traceback": [
      "\u001b[1;31m---------------------------------------------------------------------------\u001b[0m",
      "\u001b[1;31mTypeError\u001b[0m                                 Traceback (most recent call last)",
      "\u001b[1;32m<ipython-input-11-cff9cb6e93e6>\u001b[0m in \u001b[0;36m<module>\u001b[1;34m\u001b[0m\n\u001b[1;32m----> 1\u001b[1;33m \u001b[0mpoints\u001b[0m\u001b[1;33m[\u001b[0m\u001b[1;36m0\u001b[0m\u001b[1;33m]\u001b[0m \u001b[1;33m=\u001b[0m \u001b[1;36m3\u001b[0m\u001b[1;33m\u001b[0m\u001b[1;33m\u001b[0m\u001b[0m\n\u001b[0m",
      "\u001b[1;31mTypeError\u001b[0m: 'tuple' object does not support item assignment"
     ]
    }
   ],
   "source": [
    "points[0] = 3"
   ]
  },
  {
   "cell_type": "code",
   "execution_count": 14,
   "id": "379dc2c5",
   "metadata": {},
   "outputs": [
    {
     "name": "stdout",
     "output_type": "stream",
     "text": [
      "(1, 2, [3, 3, 3])\n"
     ]
    }
   ],
   "source": [
    "points[2].append(3)\n",
    "print(points)"
   ]
  },
  {
   "cell_type": "code",
   "execution_count": 19,
   "id": "bb4970e4",
   "metadata": {},
   "outputs": [
    {
     "name": "stdout",
     "output_type": "stream",
     "text": [
      "name='val', val='name'\n"
     ]
    },
    {
     "ename": "TypeError",
     "evalue": "Immutable!!!",
     "output_type": "error",
     "traceback": [
      "\u001b[1;31m---------------------------------------------------------------------------\u001b[0m",
      "\u001b[1;31mTypeError\u001b[0m                                 Traceback (most recent call last)",
      "\u001b[1;32m<ipython-input-19-2eabe7eb350f>\u001b[0m in \u001b[0;36m<module>\u001b[1;34m\u001b[0m\n\u001b[0;32m     13\u001b[0m \u001b[1;33m\u001b[0m\u001b[0m\n\u001b[0;32m     14\u001b[0m \u001b[1;33m\u001b[0m\u001b[0m\n\u001b[1;32m---> 15\u001b[1;33m \u001b[0muser\u001b[0m \u001b[1;33m=\u001b[0m \u001b[0mUserImmutable\u001b[0m\u001b[1;33m(\u001b[0m\u001b[1;34m\"name\"\u001b[0m\u001b[1;33m)\u001b[0m\u001b[1;33m\u001b[0m\u001b[1;33m\u001b[0m\u001b[0m\n\u001b[0m",
      "\u001b[1;32m<ipython-input-19-2eabe7eb350f>\u001b[0m in \u001b[0;36m__init__\u001b[1;34m(self, val)\u001b[0m\n\u001b[0;32m      1\u001b[0m \u001b[1;32mclass\u001b[0m \u001b[0mUserImmutable\u001b[0m\u001b[1;33m:\u001b[0m\u001b[1;33m\u001b[0m\u001b[1;33m\u001b[0m\u001b[0m\n\u001b[0;32m      2\u001b[0m     \u001b[1;32mdef\u001b[0m \u001b[0m__init__\u001b[0m\u001b[1;33m(\u001b[0m\u001b[0mself\u001b[0m\u001b[1;33m,\u001b[0m \u001b[0mval\u001b[0m\u001b[1;33m)\u001b[0m\u001b[1;33m:\u001b[0m\u001b[1;33m\u001b[0m\u001b[1;33m\u001b[0m\u001b[0m\n\u001b[1;32m----> 3\u001b[1;33m         \u001b[0mself\u001b[0m\u001b[1;33m.\u001b[0m\u001b[0mval\u001b[0m \u001b[1;33m=\u001b[0m \u001b[0mval\u001b[0m\u001b[1;33m\u001b[0m\u001b[1;33m\u001b[0m\u001b[0m\n\u001b[0m\u001b[0;32m      4\u001b[0m \u001b[1;33m\u001b[0m\u001b[0m\n\u001b[0;32m      5\u001b[0m \u001b[1;33m\u001b[0m\u001b[0m\n",
      "\u001b[1;32m<ipython-input-19-2eabe7eb350f>\u001b[0m in \u001b[0;36m__setattr__\u001b[1;34m(self, name, val)\u001b[0m\n\u001b[0;32m      7\u001b[0m         \u001b[0mprint\u001b[0m\u001b[1;33m(\u001b[0m\u001b[1;34mf\"{name=}, {val=}\"\u001b[0m\u001b[1;33m)\u001b[0m\u001b[1;33m\u001b[0m\u001b[1;33m\u001b[0m\u001b[0m\n\u001b[0;32m      8\u001b[0m \u001b[1;33m\u001b[0m\u001b[0m\n\u001b[1;32m----> 9\u001b[1;33m         \u001b[1;32mraise\u001b[0m \u001b[0mTypeError\u001b[0m\u001b[1;33m(\u001b[0m\u001b[1;34m'Immutable!!!'\u001b[0m\u001b[1;33m)\u001b[0m\u001b[1;33m\u001b[0m\u001b[1;33m\u001b[0m\u001b[0m\n\u001b[0m\u001b[0;32m     10\u001b[0m \u001b[1;33m\u001b[0m\u001b[0m\n\u001b[0;32m     11\u001b[0m \u001b[1;33m\u001b[0m\u001b[0m\n",
      "\u001b[1;31mTypeError\u001b[0m: Immutable!!!"
     ]
    }
   ],
   "source": [
    "class UserImmutable:\n",
    "    def __init__(self, val):\n",
    "        self.val = val\n",
    "        \n",
    "\n",
    "    def __setattr__(self, name, val):\n",
    "        print(f\"{name=}, {val=}\")\n",
    "        \n",
    "        raise TypeError('Immutable!!!')\n",
    "\n",
    "        \n",
    "\n",
    "\n",
    "user = UserImmutable(\"name\")"
   ]
  },
  {
   "cell_type": "code",
   "execution_count": 20,
   "id": "e71d5b49",
   "metadata": {},
   "outputs": [
    {
     "ename": "NameError",
     "evalue": "name 'user' is not defined",
     "output_type": "error",
     "traceback": [
      "\u001b[1;31m---------------------------------------------------------------------------\u001b[0m",
      "\u001b[1;31mNameError\u001b[0m                                 Traceback (most recent call last)",
      "\u001b[1;32m<ipython-input-20-8ef458f7e78f>\u001b[0m in \u001b[0;36m<module>\u001b[1;34m\u001b[0m\n\u001b[1;32m----> 1\u001b[1;33m \u001b[0muser\u001b[0m\u001b[1;33m.\u001b[0m\u001b[0m__dict__\u001b[0m\u001b[1;33m\u001b[0m\u001b[1;33m\u001b[0m\u001b[0m\n\u001b[0m",
      "\u001b[1;31mNameError\u001b[0m: name 'user' is not defined"
     ]
    }
   ],
   "source": [
    "user.__dict__"
   ]
  },
  {
   "cell_type": "code",
   "execution_count": 44,
   "id": "801e199e",
   "metadata": {},
   "outputs": [],
   "source": [
    "user.val = \"tre\""
   ]
  },
  {
   "cell_type": "code",
   "execution_count": null,
   "id": "cf9b5c1d",
   "metadata": {},
   "outputs": [],
   "source": []
  },
  {
   "cell_type": "code",
   "execution_count": null,
   "id": "f45ca65a",
   "metadata": {},
   "outputs": [],
   "source": []
  },
  {
   "cell_type": "code",
   "execution_count": null,
   "id": "33c8aade",
   "metadata": {},
   "outputs": [],
   "source": []
  },
  {
   "cell_type": "code",
   "execution_count": 21,
   "id": "8db1dd20",
   "metadata": {},
   "outputs": [
    {
     "name": "stdout",
     "output_type": "stream",
     "text": [
      "[1, 2, 3]\n"
     ]
    }
   ],
   "source": [
    "lst = [1, 2, 3]\n",
    "\n",
    "if lst:\n",
    "    print(lst)"
   ]
  },
  {
   "cell_type": "code",
   "execution_count": 22,
   "id": "8d15c66f",
   "metadata": {},
   "outputs": [
    {
     "name": "stdout",
     "output_type": "stream",
     "text": [
      "empty\n"
     ]
    }
   ],
   "source": [
    "lst = [] # пустой список None\n",
    "\n",
    "if lst:\n",
    "    print(lst)\n",
    "else:\n",
    "    print('empty')"
   ]
  },
  {
   "cell_type": "code",
   "execution_count": 26,
   "id": "fb76afef",
   "metadata": {},
   "outputs": [
    {
     "name": "stdout",
     "output_type": "stream",
     "text": [
      "empty\n"
     ]
    }
   ],
   "source": [
    "tpl = () # пустой список None\n",
    "\n",
    "if tpl:\n",
    "    print(tpl)\n",
    "else:\n",
    "    print('empty')"
   ]
  },
  {
   "cell_type": "code",
   "execution_count": 27,
   "id": "9226d055",
   "metadata": {},
   "outputs": [
    {
     "name": "stdout",
     "output_type": "stream",
     "text": [
      "(1, 2, 3)\n"
     ]
    }
   ],
   "source": [
    "res = (1, 2) and (1, 2, 3) # если первый объект True, вычисляется и второй объект\n",
    "print(res)"
   ]
  },
  {
   "cell_type": "code",
   "execution_count": 28,
   "id": "4407cb98",
   "metadata": {},
   "outputs": [
    {
     "name": "stdout",
     "output_type": "stream",
     "text": [
      "()\n"
     ]
    }
   ],
   "source": [
    "res = () and (1, 2, 3) # если первый объект False, второй объект не вычисляется \n",
    "print(res)"
   ]
  },
  {
   "cell_type": "code",
   "execution_count": 29,
   "id": "16e3aa80",
   "metadata": {},
   "outputs": [
    {
     "name": "stdout",
     "output_type": "stream",
     "text": [
      "(1, 2, 3)\n"
     ]
    }
   ],
   "source": [
    "res = () or (1, 2, 3) # если первый объект False, второй объект  вычисляется \n",
    "print(res)"
   ]
  },
  {
   "cell_type": "code",
   "execution_count": 30,
   "id": "7161aa9c",
   "metadata": {},
   "outputs": [
    {
     "name": "stdout",
     "output_type": "stream",
     "text": [
      "[]\n"
     ]
    }
   ],
   "source": [
    "res = [] and (1, 2, 3)\n",
    "print(res)"
   ]
  },
  {
   "cell_type": "code",
   "execution_count": 36,
   "id": "1a95c1e1",
   "metadata": {},
   "outputs": [
    {
     "name": "stdout",
     "output_type": "stream",
     "text": [
      "1\n"
     ]
    }
   ],
   "source": [
    "def print1():\n",
    "    print(1)\n",
    "    return None    \n",
    "def print2():\n",
    "    print(2)\n",
    "    return None\n",
    "print1() and print2()"
   ]
  },
  {
   "cell_type": "code",
   "execution_count": 37,
   "id": "488b89af",
   "metadata": {},
   "outputs": [
    {
     "name": "stdout",
     "output_type": "stream",
     "text": [
      "1\n",
      "2\n"
     ]
    },
    {
     "data": {
      "text/plain": [
       "222"
      ]
     },
     "execution_count": 37,
     "metadata": {},
     "output_type": "execute_result"
    }
   ],
   "source": [
    "def print1():\n",
    "    print(1)\n",
    "    return 111    \n",
    "def print2():\n",
    "    print(2)\n",
    "    return 222\n",
    "print1() and print2()"
   ]
  },
  {
   "cell_type": "code",
   "execution_count": 38,
   "id": "1cdbdd7a",
   "metadata": {},
   "outputs": [
    {
     "name": "stdout",
     "output_type": "stream",
     "text": [
      "1\n"
     ]
    },
    {
     "data": {
      "text/plain": [
       "111"
      ]
     },
     "execution_count": 38,
     "metadata": {},
     "output_type": "execute_result"
    }
   ],
   "source": [
    "def print1():\n",
    "    print(1)\n",
    "    return 111\n",
    "\n",
    "    \n",
    "def print2():\n",
    "    print(2)\n",
    "    return 222\n",
    "\n",
    "\n",
    "print1() or print2()"
   ]
  },
  {
   "cell_type": "code",
   "execution_count": 39,
   "id": "4e7a7655",
   "metadata": {},
   "outputs": [
    {
     "data": {
      "text/plain": [
       "[1, 2, 3]"
      ]
     },
     "execution_count": 39,
     "metadata": {},
     "output_type": "execute_result"
    }
   ],
   "source": [
    "[1] and [1, 2] and [1, 2, 3] or []"
   ]
  },
  {
   "cell_type": "markdown",
   "id": "193d9d19",
   "metadata": {},
   "source": [
    "## False"
   ]
  },
  {
   "cell_type": "code",
   "execution_count": 40,
   "id": "507c6528",
   "metadata": {},
   "outputs": [
    {
     "name": "stdout",
     "output_type": "stream",
     "text": [
      "42\n"
     ]
    }
   ],
   "source": [
    "print(\n",
    "    None or 0 or [] or {} or 0.0 or False\n",
    "    or set() or () or \"\" or b\"\" or 42\n",
    ")"
   ]
  },
  {
   "cell_type": "code",
   "execution_count": 41,
   "id": "564c844f",
   "metadata": {},
   "outputs": [],
   "source": [
    "if (\n",
    "    None\n",
    "    or 0\n",
    "    or []\n",
    "):\n",
    "    pass"
   ]
  },
  {
   "cell_type": "code",
   "execution_count": 42,
   "id": "8f987768",
   "metadata": {},
   "outputs": [],
   "source": [
    "def fn(\n",
    "    super_long=12,\n",
    "    extra_super_long=9999999\n",
    "):\n",
    "    pass\n",
    "\n",
    "\n",
    "res = fn(\n",
    "    super_long=12,\n",
    "    extra_super_long=9999999,\n",
    ")"
   ]
  },
  {
   "cell_type": "code",
   "execution_count": 43,
   "id": "72c9eb0c",
   "metadata": {},
   "outputs": [
    {
     "name": "stdout",
     "output_type": "stream",
     "text": [
      "2\n"
     ]
    }
   ],
   "source": [
    "x = (1 + 1)\n",
    "print(x)"
   ]
  },
  {
   "cell_type": "code",
   "execution_count": 44,
   "id": "0eb6d0d4",
   "metadata": {},
   "outputs": [
    {
     "name": "stdout",
     "output_type": "stream",
     "text": [
      "(2,)\n"
     ]
    }
   ],
   "source": [
    "x = (1 + 1,)\n",
    "print(x)"
   ]
  },
  {
   "cell_type": "code",
   "execution_count": 50,
   "id": "bc98fa6f",
   "metadata": {},
   "outputs": [
    {
     "name": "stdout",
     "output_type": "stream",
     "text": [
      "<_io.TextIOWrapper name='homework.md' mode='r' encoding='cp1251'>\n"
     ]
    }
   ],
   "source": [
    "with open('homework.md') as xxx:\n",
    "    print(xxx,)\n",
    "    "
   ]
  },
  {
   "cell_type": "code",
   "execution_count": 51,
   "id": "76b94b3b",
   "metadata": {},
   "outputs": [
    {
     "ename": "SyntaxError",
     "evalue": "invalid syntax (<ipython-input-51-f96d1aca212a>, line 2)",
     "output_type": "error",
     "traceback": [
      "\u001b[1;36m  File \u001b[1;32m\"<ipython-input-51-f96d1aca212a>\"\u001b[1;36m, line \u001b[1;32m2\u001b[0m\n\u001b[1;33m    open('homework.md') as xxx,\u001b[0m\n\u001b[1;37m                        ^\u001b[0m\n\u001b[1;31mSyntaxError\u001b[0m\u001b[1;31m:\u001b[0m invalid syntax\n"
     ]
    }
   ],
   "source": [
    "with (\n",
    "    open('homework.md') as xxx,\n",
    "    open('homework.md') as yyy,\n",
    "):\n",
    "    print(xxx, yyy)"
   ]
  },
  {
   "cell_type": "code",
   "execution_count": 52,
   "id": "245126dd",
   "metadata": {},
   "outputs": [],
   "source": [
    "from sys import (\n",
    "    getdefaultencoding,\n",
    "    getrecursionlimit,\n",
    ")"
   ]
  },
  {
   "cell_type": "code",
   "execution_count": 56,
   "id": "f9c836c1",
   "metadata": {},
   "outputs": [
    {
     "name": "stdout",
     "output_type": "stream",
     "text": [
      "abc123\n"
     ]
    }
   ],
   "source": [
    "s = (\n",
    "    \"abc\"\n",
    "    \"123\"\n",
    ")\n",
    "print(s)\n",
    "\n",
    "fn(\n",
    "    \"abc\"\n",
    "    \"123\"\n",
    ")"
   ]
  },
  {
   "cell_type": "code",
   "execution_count": null,
   "id": "9e08b681",
   "metadata": {},
   "outputs": [],
   "source": []
  },
  {
   "cell_type": "code",
   "execution_count": 60,
   "id": "a24bca62",
   "metadata": {},
   "outputs": [
    {
     "data": {
      "text/plain": [
       "[1, 6]"
      ]
     },
     "execution_count": 60,
     "metadata": {},
     "output_type": "execute_result"
    }
   ],
   "source": [
    "[1] and [1, 2] and [1, 6] or []"
   ]
  },
  {
   "cell_type": "code",
   "execution_count": 57,
   "id": "18ff07cf",
   "metadata": {},
   "outputs": [
    {
     "name": "stdout",
     "output_type": "stream",
     "text": [
      "no\n"
     ]
    }
   ],
   "source": [
    "d = {}\n",
    "if \"key\" in d and len(d[\"key\"]) > 10 and d[\"key\"][10] == \"niddle\":\n",
    "    print(\"yes\")\n",
    "else:\n",
    "    print(\"no\")"
   ]
  },
  {
   "cell_type": "code",
   "execution_count": 58,
   "id": "5ab1f201",
   "metadata": {},
   "outputs": [
    {
     "name": "stdout",
     "output_type": "stream",
     "text": [
      "yes\n"
     ]
    }
   ],
   "source": [
    "d = {\"key\": [\"niddle\"] * 11}\n",
    "\n",
    "if \"key\" in d and len(d[\"key\"]) > 10 and d[\"key\"][10] == \"niddle\":\n",
    "    print(\"yes\")\n",
    "else:\n",
    "    print(\"no\")"
   ]
  },
  {
   "cell_type": "code",
   "execution_count": 59,
   "id": "86af401a",
   "metadata": {},
   "outputs": [
    {
     "name": "stdout",
     "output_type": "stream",
     "text": [
      "niddle\n"
     ]
    }
   ],
   "source": [
    "res = \"key\" in d and len(d[\"key\"]) > 10 and d[\"key\"][10]\n",
    "print(res)"
   ]
  },
  {
   "cell_type": "code",
   "execution_count": null,
   "id": "525a61c7",
   "metadata": {},
   "outputs": [],
   "source": []
  },
  {
   "cell_type": "code",
   "execution_count": 60,
   "id": "c6ee3a20",
   "metadata": {},
   "outputs": [
    {
     "name": "stdout",
     "output_type": "stream",
     "text": [
      "(1, 2, [3, 4], 5, 6, [7, 8])\n",
      "(1, 2, [3, 4, 99], 5, 6, [7, 8])\n",
      "(1, 2, [3, 4, 99])\n"
     ]
    }
   ],
   "source": [
    "tp1 = (1, 2, [3, 4])\n",
    "tp2 = (5, 6, [7, 8])\n",
    "\n",
    "tp = tp1 + tp2\n",
    "print(tp)\n",
    "\n",
    "tp[2].append(99)\n",
    "print(tp)\n",
    "print(tp1)"
   ]
  },
  {
   "cell_type": "code",
   "execution_count": 61,
   "id": "f88a1d4d",
   "metadata": {},
   "outputs": [
    {
     "data": {
      "text/plain": [
       "(('q', 'w', 'e', 'r', 't', 'y'), (1, 2, 3))"
      ]
     },
     "execution_count": 61,
     "metadata": {},
     "output_type": "execute_result"
    }
   ],
   "source": [
    "tuple(\"qwerty\"), tuple([1, 2, 3])"
   ]
  },
  {
   "cell_type": "code",
   "execution_count": null,
   "id": "a207b59f",
   "metadata": {},
   "outputs": [],
   "source": []
  },
  {
   "cell_type": "code",
   "execution_count": 62,
   "id": "4c017221",
   "metadata": {},
   "outputs": [
    {
     "name": "stdout",
     "output_type": "stream",
     "text": [
      "['q', 'w', 'e', 'r', 't', 'y']\n"
     ]
    }
   ],
   "source": [
    "lst = []\n",
    "lst = list(\"qwerty\")\n",
    "print(lst)"
   ]
  },
  {
   "cell_type": "code",
   "execution_count": 63,
   "id": "38622058",
   "metadata": {},
   "outputs": [
    {
     "name": "stdout",
     "output_type": "stream",
     "text": [
      "['99']\n",
      "['99', 5, 6, [7, 8]]\n",
      "['99', 5, 6, [7, 8], (5, 6, [7, 8])]\n"
     ]
    }
   ],
   "source": [
    "lst = []\n",
    "\n",
    "lst.append('99')\n",
    "print(lst)\n",
    "\n",
    "lst.extend(tp2)\n",
    "print(lst)\n",
    "\n",
    "lst.append(tp2)\n",
    "print(lst)"
   ]
  },
  {
   "cell_type": "code",
   "execution_count": 64,
   "id": "24027f3f",
   "metadata": {},
   "outputs": [
    {
     "name": "stdout",
     "output_type": "stream",
     "text": [
      "['99', 5, [7, 8], (5, 6, [7, 8])]\n"
     ]
    }
   ],
   "source": [
    "lst.remove(6)\n",
    "print(lst)"
   ]
  },
  {
   "cell_type": "code",
   "execution_count": 65,
   "id": "0e678d05",
   "metadata": {},
   "outputs": [
    {
     "ename": "ValueError",
     "evalue": "list.remove(x): x not in list",
     "output_type": "error",
     "traceback": [
      "\u001b[1;31m---------------------------------------------------------------------------\u001b[0m",
      "\u001b[1;31mValueError\u001b[0m                                Traceback (most recent call last)",
      "\u001b[1;32m<ipython-input-65-65f6bb34b978>\u001b[0m in \u001b[0;36m<module>\u001b[1;34m\u001b[0m\n\u001b[1;32m----> 1\u001b[1;33m \u001b[0mlst\u001b[0m\u001b[1;33m.\u001b[0m\u001b[0mremove\u001b[0m\u001b[1;33m(\u001b[0m\u001b[1;36m6\u001b[0m\u001b[1;33m)\u001b[0m\u001b[1;33m\u001b[0m\u001b[1;33m\u001b[0m\u001b[0m\n\u001b[0m\u001b[0;32m      2\u001b[0m \u001b[0mprint\u001b[0m\u001b[1;33m(\u001b[0m\u001b[0mlst\u001b[0m\u001b[1;33m)\u001b[0m\u001b[1;33m\u001b[0m\u001b[1;33m\u001b[0m\u001b[0m\n",
      "\u001b[1;31mValueError\u001b[0m: list.remove(x): x not in list"
     ]
    }
   ],
   "source": [
    "lst.remove(6)\n",
    "print(lst)"
   ]
  },
  {
   "cell_type": "code",
   "execution_count": 66,
   "id": "68ae61bf",
   "metadata": {},
   "outputs": [
    {
     "name": "stdout",
     "output_type": "stream",
     "text": [
      "[1, 1]\n"
     ]
    }
   ],
   "source": [
    "x = [1, 1, 1]\n",
    "x.remove(1)\n",
    "print(x)"
   ]
  },
  {
   "cell_type": "code",
   "execution_count": 67,
   "id": "be7de2e7",
   "metadata": {},
   "outputs": [
    {
     "name": "stdout",
     "output_type": "stream",
     "text": [
      "[0, 1, 2, 3, 4]\n",
      "[1, 2, 3, 4]\n",
      "[2, 3, 4]\n",
      "[2, 4]\n"
     ]
    }
   ],
   "source": [
    "lst = [1, 2, 3, 4, 5]\n",
    "lst.insert(0, 0)\n",
    "lst.pop()\n",
    "print(lst)\n",
    "\n",
    "lst.pop(0)\n",
    "print(lst)\n",
    "\n",
    "lst.pop(0)\n",
    "print(lst)\n",
    "\n",
    "lst.pop(1)\n",
    "print(lst)"
   ]
  },
  {
   "cell_type": "code",
   "execution_count": 68,
   "id": "847f73fc",
   "metadata": {},
   "outputs": [
    {
     "name": "stdout",
     "output_type": "stream",
     "text": [
      "[0, 2, 4, 6, 8]\n"
     ]
    }
   ],
   "source": [
    "lst = list(range(0, 10, 2))\n",
    "print(lst)"
   ]
  },
  {
   "cell_type": "code",
   "execution_count": 69,
   "id": "178c5d34",
   "metadata": {},
   "outputs": [
    {
     "name": "stdout",
     "output_type": "stream",
     "text": [
      "[0, 1, 2, 3, 4, 5, 6, 7, 8, 9]\n",
      "[0, 1, 2, 3, 4, 5, 6, 7, 8, 9]\n",
      "[0, 1, 2, 3, 4, 5, 6, 7, 8, 9]\n",
      "[1, 3, 5]\n"
     ]
    }
   ],
   "source": [
    "lst = list(range(10))\n",
    "print(lst)\n",
    "\n",
    "print(lst[0:len(lst):1])\n",
    "print(lst[:])\n",
    "\n",
    "print(lst[1:6:2])"
   ]
  },
  {
   "cell_type": "code",
   "execution_count": 77,
   "id": "115b3ff9",
   "metadata": {},
   "outputs": [
    {
     "name": "stdout",
     "output_type": "stream",
     "text": [
      "[0, 1, 2, 3, 4, 5, 6, 7, 8, 9]\n",
      "[0, 1, 2, 3, 4, 5, 6, 7, 8, 9]\n",
      "[0, 1, 2, 3, 4, 5, 6, 7, 8, 9]\n",
      "[0, 1, 2, 3, 4, 1000, 6, 7, 8, 9]\n"
     ]
    }
   ],
   "source": [
    "lst = list(range(10))\n",
    "print(lst)\n",
    "x = lst[:]  # копия листа, если изменить lst то x - не изменится\n",
    "print(x)\n",
    "lst[5] = 1000\n",
    "print(x)\n",
    "print(lst)"
   ]
  },
  {
   "cell_type": "code",
   "execution_count": 80,
   "id": "cfb8319f",
   "metadata": {},
   "outputs": [
    {
     "name": "stdout",
     "output_type": "stream",
     "text": [
      "[0, 1, 2, 3, 4]\n",
      "[0, 1, 2, 3, 4]\n",
      "[0, 1, 2, 3, 4]\n",
      "[0, 1, 2, 3, 1000]\n"
     ]
    }
   ],
   "source": [
    "lst = list(range(5))\n",
    "print(lst) # [0, 1, 2, 3, 4]\n",
    "x = lst[:]  # копия листа, если изменить lst то x - не изменится\n",
    "print(x) # [0, 1, 2, 3, 4]\n",
    "lst[4] = 1000\n",
    "print(x) # [0, 1, 2, 3, 4]\n",
    "print(lst) # [0, 1, 2, 3, 1000]"
   ]
  },
  {
   "cell_type": "code",
   "execution_count": 81,
   "id": "3700fa82",
   "metadata": {},
   "outputs": [
    {
     "name": "stdout",
     "output_type": "stream",
     "text": [
      "[0, 888, 2, 3, 4]\n",
      "[0, 1, 2, 3, 1000]\n"
     ]
    }
   ],
   "source": [
    "x[1] =888\n",
    "print(x)\n",
    "print(lst)"
   ]
  },
  {
   "cell_type": "code",
   "execution_count": 84,
   "id": "2d16a4e8",
   "metadata": {},
   "outputs": [
    {
     "name": "stdout",
     "output_type": "stream",
     "text": [
      "[0, 1, 2, 3, 4, 5, 6, 7, 8, 9] 1670080814912\n",
      "1670080865536\n",
      "-------\n",
      "base 1670080832256\n",
      "[1, 10] 1670080832256\n"
     ]
    }
   ],
   "source": [
    "lst = list(range(10))\n",
    "print(lst, id(lst))\n",
    "\n",
    "lst = [1, 10]\n",
    "print(id(lst))\n",
    "\n",
    "print('-------')\n",
    "\n",
    "lst = list(range(10))\n",
    "print('base', id(lst))\n",
    "\n",
    "lst[:] = [1, 10]  # новые значения подставляются в текущщий список \n",
    "print(lst, id(lst))"
   ]
  },
  {
   "cell_type": "code",
   "execution_count": null,
   "id": "afdb1b82",
   "metadata": {},
   "outputs": [],
   "source": []
  },
  {
   "cell_type": "code",
   "execution_count": 85,
   "id": "1ca9333e",
   "metadata": {},
   "outputs": [
    {
     "name": "stdout",
     "output_type": "stream",
     "text": [
      "[0, 1, 2, 3, 4, 5, 6, 7, 8, 9]\n",
      "[0, 1, 2, 98, 99, 8, 9]\n",
      "[]\n"
     ]
    }
   ],
   "source": [
    "lst = list(range(10))\n",
    "print(lst)\n",
    "\n",
    "lst[3:8] = [98, 99]\n",
    "print(lst)\n",
    "\n",
    "lst[:] = []\n",
    "print(lst)"
   ]
  },
  {
   "cell_type": "code",
   "execution_count": 86,
   "id": "2f119060",
   "metadata": {},
   "outputs": [
    {
     "name": "stdout",
     "output_type": "stream",
     "text": [
      "[0, 1, 2, 3, 4, 5, 6, 7, 8, 9]\n",
      "[0, 1, 2, 98, 4, 99, 6, 7, 8, 9]\n"
     ]
    },
    {
     "ename": "ValueError",
     "evalue": "attempt to assign sequence of size 3 to extended slice of size 2",
     "output_type": "error",
     "traceback": [
      "\u001b[1;31m---------------------------------------------------------------------------\u001b[0m",
      "\u001b[1;31mValueError\u001b[0m                                Traceback (most recent call last)",
      "\u001b[1;32m<ipython-input-86-65a88d6f8fe1>\u001b[0m in \u001b[0;36m<module>\u001b[1;34m\u001b[0m\n\u001b[0;32m      5\u001b[0m \u001b[0mprint\u001b[0m\u001b[1;33m(\u001b[0m\u001b[0mlst\u001b[0m\u001b[1;33m)\u001b[0m\u001b[1;33m\u001b[0m\u001b[1;33m\u001b[0m\u001b[0m\n\u001b[0;32m      6\u001b[0m \u001b[1;33m\u001b[0m\u001b[0m\n\u001b[1;32m----> 7\u001b[1;33m \u001b[0mlst\u001b[0m\u001b[1;33m[\u001b[0m\u001b[1;36m3\u001b[0m\u001b[1;33m:\u001b[0m\u001b[1;36m6\u001b[0m\u001b[1;33m:\u001b[0m\u001b[1;36m2\u001b[0m\u001b[1;33m]\u001b[0m \u001b[1;33m=\u001b[0m \u001b[1;33m[\u001b[0m\u001b[1;36m98\u001b[0m\u001b[1;33m,\u001b[0m \u001b[1;36m99\u001b[0m\u001b[1;33m,\u001b[0m \u001b[1;36m100\u001b[0m\u001b[1;33m]\u001b[0m\u001b[1;33m\u001b[0m\u001b[1;33m\u001b[0m\u001b[0m\n\u001b[0m\u001b[0;32m      8\u001b[0m \u001b[0mprint\u001b[0m\u001b[1;33m(\u001b[0m\u001b[0mlst\u001b[0m\u001b[1;33m)\u001b[0m\u001b[1;33m\u001b[0m\u001b[1;33m\u001b[0m\u001b[0m\n",
      "\u001b[1;31mValueError\u001b[0m: attempt to assign sequence of size 3 to extended slice of size 2"
     ]
    }
   ],
   "source": [
    "lst = list(range(10))\n",
    "print(lst)\n",
    "\n",
    "lst[3:6:2] = [98, 99]\n",
    "print(lst)\n",
    "\n",
    "lst[3:6:2] = [98, 99, 100]\n",
    "print(lst)"
   ]
  },
  {
   "cell_type": "code",
   "execution_count": 87,
   "id": "a42efe1b",
   "metadata": {},
   "outputs": [
    {
     "name": "stdout",
     "output_type": "stream",
     "text": [
      "[0, 1, 2, 3, 4]\n",
      "0\n",
      "1\n",
      "2\n",
      "3\n",
      "4\n",
      "=====\n",
      "0\n",
      "1\n",
      "2\n",
      "3\n",
      "4\n"
     ]
    }
   ],
   "source": [
    "lst = list(range(5))\n",
    "print(lst)\n",
    "\n",
    "for n in lst:\n",
    "    print(n)\n",
    "\n",
    "print('=====')\n",
    "\n",
    "i = 0\n",
    "while i < len(lst):\n",
    "    print(lst[i])\n",
    "    i += 1"
   ]
  },
  {
   "cell_type": "code",
   "execution_count": null,
   "id": "4d850599",
   "metadata": {},
   "outputs": [],
   "source": []
  },
  {
   "cell_type": "code",
   "execution_count": null,
   "id": "8667c4f5",
   "metadata": {},
   "outputs": [],
   "source": []
  },
  {
   "cell_type": "code",
   "execution_count": 88,
   "id": "9b43b5ef",
   "metadata": {},
   "outputs": [
    {
     "name": "stdout",
     "output_type": "stream",
     "text": [
      "[0, 1, 2, 3, 4]\n",
      "10 0\n",
      "11 1\n",
      "12 2\n",
      "13 3\n",
      "14 4\n"
     ]
    }
   ],
   "source": [
    "lst = list(range(5))\n",
    "print(lst)\n",
    "\n",
    "for i, n in enumerate(lst, 10):\n",
    "    print(i, n)"
   ]
  },
  {
   "cell_type": "code",
   "execution_count": null,
   "id": "f945ae43",
   "metadata": {},
   "outputs": [],
   "source": []
  },
  {
   "cell_type": "code",
   "execution_count": 89,
   "id": "cebc6bad",
   "metadata": {},
   "outputs": [
    {
     "name": "stdout",
     "output_type": "stream",
     "text": [
      "{} {1: 11, 2: 22} {'q': 33, 'w': 44}\n"
     ]
    }
   ],
   "source": [
    "dct1 = {}\n",
    "dct2 = {1: 11, 2: 22}\n",
    "dct3 = dict(q=33, w=44)\n",
    "\n",
    "print(dct1, dct2, dct3)"
   ]
  },
  {
   "cell_type": "code",
   "execution_count": 90,
   "id": "9784c97f",
   "metadata": {},
   "outputs": [
    {
     "name": "stdout",
     "output_type": "stream",
     "text": [
      "{1: 11, 2: 22, 'q': 33, 'w': 44}\n"
     ]
    }
   ],
   "source": [
    "dct4 = {**dct1, **dct2, **dct3}\n",
    "print(dct4)"
   ]
  },
  {
   "cell_type": "code",
   "execution_count": 91,
   "id": "cb963e60",
   "metadata": {},
   "outputs": [
    {
     "name": "stdout",
     "output_type": "stream",
     "text": [
      "{1: 11, 2: 22, 'q': 33, 'w': 44, 42: 4422}\n",
      "4422\n"
     ]
    }
   ],
   "source": [
    "dct4[42] = 4422\n",
    "print(dct4)\n",
    "print(dct4[42])"
   ]
  },
  {
   "cell_type": "code",
   "execution_count": 92,
   "id": "40ab798b",
   "metadata": {},
   "outputs": [
    {
     "name": "stdout",
     "output_type": "stream",
     "text": [
      "pop 4422\n",
      "{1: 11, 2: 22, 'q': 33, 'w': 44}\n"
     ]
    }
   ],
   "source": [
    "print('pop', dct4.pop(42))\n",
    "print(dct4)"
   ]
  },
  {
   "cell_type": "code",
   "execution_count": 93,
   "id": "26278487",
   "metadata": {},
   "outputs": [
    {
     "name": "stdout",
     "output_type": "stream",
     "text": [
      "pop default\n",
      "{1: 11, 2: 22, 'q': 33, 'w': 44}\n"
     ]
    }
   ],
   "source": [
    "print('pop', dct4.pop(42, \"default\"))\n",
    "print(dct4)"
   ]
  },
  {
   "cell_type": "code",
   "execution_count": 94,
   "id": "dc3b489e",
   "metadata": {},
   "outputs": [
    {
     "data": {
      "text/plain": [
       "(False, True)"
      ]
     },
     "execution_count": 94,
     "metadata": {},
     "output_type": "execute_result"
    }
   ],
   "source": [
    "(42 in dct4, 1 in dct4)"
   ]
  },
  {
   "cell_type": "code",
   "execution_count": 95,
   "id": "9443185a",
   "metadata": {},
   "outputs": [
    {
     "name": "stdout",
     "output_type": "stream",
     "text": [
      "1\n",
      "2\n",
      "0\n"
     ]
    }
   ],
   "source": [
    "dct = {1: 11, 2: 22, 0: 0}\n",
    "for i in dct:\n",
    "    print(i)"
   ]
  },
  {
   "cell_type": "code",
   "execution_count": 96,
   "id": "18e04826",
   "metadata": {},
   "outputs": [
    {
     "name": "stdout",
     "output_type": "stream",
     "text": [
      "keys()\n",
      "1\n",
      "2\n",
      "0\n"
     ]
    }
   ],
   "source": [
    "print('keys()')\n",
    "for i in dct.keys():\n",
    "    print(i)"
   ]
  },
  {
   "cell_type": "code",
   "execution_count": 97,
   "id": "39319a29",
   "metadata": {},
   "outputs": [
    {
     "name": "stdout",
     "output_type": "stream",
     "text": [
      "values()\n",
      "11\n",
      "22\n",
      "0\n"
     ]
    }
   ],
   "source": [
    "print('values()')\n",
    "for i in dct.values():\n",
    "    print(i)"
   ]
  },
  {
   "cell_type": "code",
   "execution_count": 98,
   "id": "cb6412b0",
   "metadata": {},
   "outputs": [
    {
     "name": "stdout",
     "output_type": "stream",
     "text": [
      "items()\n",
      "1 11\n",
      "2 22\n",
      "0 0\n"
     ]
    }
   ],
   "source": [
    "print('items()')\n",
    "for key, val in dct.items():\n",
    "    print(key, val)"
   ]
  },
  {
   "cell_type": "code",
   "execution_count": 99,
   "id": "8b00b971",
   "metadata": {},
   "outputs": [
    {
     "name": "stdout",
     "output_type": "stream",
     "text": [
      "\n",
      "enumerate()\n",
      "0 (1, 11)\n",
      "1 (2, 22)\n",
      "2 (0, 0)\n"
     ]
    }
   ],
   "source": [
    "print('\\nenumerate()')\n",
    "for i, val in enumerate(dct.items()):\n",
    "    print(i, val)"
   ]
  },
  {
   "cell_type": "code",
   "execution_count": 100,
   "id": "49f1f063",
   "metadata": {},
   "outputs": [
    {
     "name": "stdout",
     "output_type": "stream",
     "text": [
      "\n",
      "enumerate()\n",
      "0 1 11\n",
      "1 2 22\n",
      "2 0 0\n"
     ]
    }
   ],
   "source": [
    "print('\\nenumerate()')\n",
    "for i, (key, val) in enumerate(dct.items()):\n",
    "    print(i, key, val)"
   ]
  },
  {
   "cell_type": "code",
   "execution_count": 101,
   "id": "ed1f6b8a",
   "metadata": {},
   "outputs": [
    {
     "data": {
      "text/plain": [
       "dict_keys([1, 2, 0])"
      ]
     },
     "execution_count": 101,
     "metadata": {},
     "output_type": "execute_result"
    }
   ],
   "source": [
    "dct.keys()"
   ]
  },
  {
   "cell_type": "code",
   "execution_count": 103,
   "id": "2afaaac8",
   "metadata": {},
   "outputs": [
    {
     "name": "stdout",
     "output_type": "stream",
     "text": [
      "11\n",
      "False\n"
     ]
    }
   ],
   "source": [
    "dct = {1: 11, 2: 22, 0: 0}\n",
    "print(dct[1])\n",
    "print(99 in dct and dct[99])"
   ]
  },
  {
   "cell_type": "code",
   "execution_count": 104,
   "id": "88c0fc28",
   "metadata": {},
   "outputs": [
    {
     "name": "stdout",
     "output_type": "stream",
     "text": [
      "None\n",
      "-1\n"
     ]
    }
   ],
   "source": [
    "print(dct.get(99))\n",
    "print(dct.get(99, -1)) # Return the value for key if key is in the dictionary, else default."
   ]
  },
  {
   "cell_type": "code",
   "execution_count": 107,
   "id": "9d3bb5d3",
   "metadata": {},
   "outputs": [
    {
     "name": "stdout",
     "output_type": "stream",
     "text": [
      "99\n"
     ]
    }
   ],
   "source": [
    "# Сам объект является False \n",
    "class OurObj:\n",
    "    def __bool__(self):\n",
    "        return False\n",
    "\n",
    "    \n",
    "obj = OurObj()\n",
    "print(obj or 99)"
   ]
  },
  {
   "cell_type": "code",
   "execution_count": 108,
   "id": "275c3b90",
   "metadata": {
    "scrolled": true
   },
   "outputs": [
    {
     "name": "stdout",
     "output_type": "stream",
     "text": [
      "<object object at 0x00000184D86DA3C0>\n"
     ]
    }
   ],
   "source": [
    "obj1 = object()\n",
    "print(obj1 or 99)"
   ]
  },
  {
   "cell_type": "code",
   "execution_count": 109,
   "id": "2a7f1450",
   "metadata": {},
   "outputs": [],
   "source": [
    "# counter([1, 2, 3, 1, 4, 1, 4]) -> {1: 3, 2: 1, 3: 1, 4: 2}\n",
    "\n",
    "def counter(nums):\n",
    "    freq = {}\n",
    "\n",
    "    for n in nums:\n",
    "        if n in freq:\n",
    "            freq[n] += 1\n",
    "        else:\n",
    "            freq[n] = 1\n",
    "\n",
    "    return freq\n",
    "\n",
    "\n",
    "assert counter([1, 2, 3, 1, 4, 1, 4]) == {1: 3, 2: 1, 3: 1, 4: 2}\n",
    "assert counter([]) == {}\n",
    "assert counter([1, 1, 1, 1]) == {1: 4}"
   ]
  },
  {
   "cell_type": "code",
   "execution_count": null,
   "id": "214ebf1f",
   "metadata": {},
   "outputs": [],
   "source": []
  },
  {
   "cell_type": "code",
   "execution_count": 110,
   "id": "29bedf03",
   "metadata": {},
   "outputs": [],
   "source": [
    "# counter_k([1, 2, 3, 1, 4, 1, 4], 2) -> {1: 3, 4: 2}\n",
    "\n",
    "def counter_k(nums, k):\n",
    "    freq = {}\n",
    "\n",
    "    for n in nums:\n",
    "        if n in freq:\n",
    "            freq[n] += 1\n",
    "        else:\n",
    "            freq[n] = 1\n",
    "\n",
    "    return {n: fr for n, fr in freq.items() if fr >= k}\n",
    "\n",
    "\n",
    "assert counter_k([1, 2, 3, 1, 4, 1, 4], 2) == {1: 3, 4: 2}\n",
    "assert counter_k([], 1) == {}\n",
    "assert counter_k([1, 1, 1, 1], 4) == {1: 4}\n",
    "assert counter_k([1, 1, 1, 1], 5) == {}"
   ]
  },
  {
   "cell_type": "code",
   "execution_count": 111,
   "id": "e0ed78d1",
   "metadata": {},
   "outputs": [
    {
     "name": "stdout",
     "output_type": "stream",
     "text": [
      "[4, 7, 23, 45, 7, 8, 6, 3, 1, 4, 6]\n",
      "[1, 3, 4, 4, 6, 6, 7, 7, 8, 23, 45]\n"
     ]
    }
   ],
   "source": [
    "lst = [4,7,23,45,7,8,6,3,1,4,6]\n",
    "print(lst)\n",
    "print(sorted(lst))"
   ]
  },
  {
   "cell_type": "code",
   "execution_count": 113,
   "id": "024e9033",
   "metadata": {},
   "outputs": [
    {
     "name": "stdout",
     "output_type": "stream",
     "text": [
      "[45, 23, 8, 7, 7, 6, 6, 4, 4, 3, 1]\n",
      "[1, 23, 3, 4, 4, 45, 6, 6, 7, 7, 8]\n"
     ]
    }
   ],
   "source": [
    "print(sorted(lst, reverse=True))\n",
    "print(sorted(lst, key=str))"
   ]
  },
  {
   "cell_type": "code",
   "execution_count": 116,
   "id": "ddc943ab",
   "metadata": {},
   "outputs": [
    {
     "data": {
      "text/plain": [
       "True"
      ]
     },
     "execution_count": 116,
     "metadata": {},
     "output_type": "execute_result"
    }
   ],
   "source": [
    "[(1,)] < [(2,)]"
   ]
  },
  {
   "cell_type": "code",
   "execution_count": 117,
   "id": "f14c3aca",
   "metadata": {},
   "outputs": [
    {
     "data": {
      "text/plain": [
       "True"
      ]
     },
     "execution_count": 117,
     "metadata": {},
     "output_type": "execute_result"
    }
   ],
   "source": [
    "[(1, 2)] < [(2,)]"
   ]
  },
  {
   "cell_type": "code",
   "execution_count": 121,
   "id": "1f130091",
   "metadata": {},
   "outputs": [
    {
     "data": {
      "text/plain": [
       "False"
      ]
     },
     "execution_count": 121,
     "metadata": {},
     "output_type": "execute_result"
    }
   ],
   "source": [
    "[(2, 5)] < [(2,)]"
   ]
  },
  {
   "cell_type": "code",
   "execution_count": 122,
   "id": "8ad486b3",
   "metadata": {},
   "outputs": [
    {
     "data": {
      "text/plain": [
       "(True, True)"
      ]
     },
     "execution_count": 122,
     "metadata": {},
     "output_type": "execute_result"
    }
   ],
   "source": [
    "\"a\" < \"b\", \"abc\" > \"abb\""
   ]
  },
  {
   "cell_type": "code",
   "execution_count": 195,
   "id": "9c1d0c42",
   "metadata": {},
   "outputs": [
    {
     "data": {
      "text/plain": [
       "True"
      ]
     },
     "execution_count": 195,
     "metadata": {},
     "output_type": "execute_result"
    }
   ],
   "source": [
    "b\"a\" < b\"b\""
   ]
  },
  {
   "cell_type": "code",
   "execution_count": 123,
   "id": "a5cac86c",
   "metadata": {},
   "outputs": [
    {
     "name": "stdout",
     "output_type": "stream",
     "text": [
      "[1, 2, 3, 5, 6, 7, 8, 9]\n"
     ]
    }
   ],
   "source": [
    "d = {1: 99, 2: 44, 3: 100, 5: 1, 6: 60, 7: 0, 8: 1, 9: 99}\n",
    "print(list(d))"
   ]
  },
  {
   "cell_type": "code",
   "execution_count": 127,
   "id": "fd026cb7",
   "metadata": {},
   "outputs": [
    {
     "name": "stdout",
     "output_type": "stream",
     "text": [
      "[7, 5, 8, 2, 6, 1, 9, 3]\n"
     ]
    }
   ],
   "source": [
    "print(sorted(d, key=lambda x: d[x]))"
   ]
  },
  {
   "cell_type": "code",
   "execution_count": 124,
   "id": "1694a59b",
   "metadata": {},
   "outputs": [
    {
     "name": "stdout",
     "output_type": "stream",
     "text": [
      "[7, 5, 8, 2, 6, 1, 9, 3]\n"
     ]
    }
   ],
   "source": [
    "print(sorted(d, key=lambda x: d.get(x)))"
   ]
  },
  {
   "cell_type": "code",
   "execution_count": 125,
   "id": "3866ec6d",
   "metadata": {},
   "outputs": [
    {
     "name": "stdout",
     "output_type": "stream",
     "text": [
      "[7, 5, 8, 2, 6, 1, 9, 3]\n"
     ]
    }
   ],
   "source": [
    "print(sorted(d, key=d.get))"
   ]
  },
  {
   "cell_type": "code",
   "execution_count": 126,
   "id": "c222a195",
   "metadata": {},
   "outputs": [
    {
     "name": "stdout",
     "output_type": "stream",
     "text": [
      "[7, 8, 5, 2, 6, 9, 1, 3]\n"
     ]
    }
   ],
   "source": [
    "print(sorted(d, key=lambda x: (d.get(x, -1), -x)))"
   ]
  },
  {
   "cell_type": "code",
   "execution_count": 204,
   "id": "1c8aec71",
   "metadata": {},
   "outputs": [
    {
     "name": "stdout",
     "output_type": "stream",
     "text": [
      "[0, 1, 2, 3, 4, 5, 6, 7, 8, 9]\n",
      "[4, 0, 7, 8, 5, 2, 6, 9, 1, 3]\n"
     ]
    }
   ],
   "source": [
    "lst = list(range(10))\n",
    "print(lst)\n",
    "\n",
    "lst.sort(key=lambda x: (d.get(x, -1), -x))\n",
    "print(lst)"
   ]
  },
  {
   "cell_type": "code",
   "execution_count": null,
   "id": "b2a1d273",
   "metadata": {},
   "outputs": [],
   "source": []
  }
 ],
 "metadata": {
  "kernelspec": {
   "display_name": "Python 3",
   "language": "python",
   "name": "python3"
  },
  "language_info": {
   "codemirror_mode": {
    "name": "ipython",
    "version": 3
   },
   "file_extension": ".py",
   "mimetype": "text/x-python",
   "name": "python",
   "nbconvert_exporter": "python",
   "pygments_lexer": "ipython3",
   "version": "3.8.5"
  }
 },
 "nbformat": 4,
 "nbformat_minor": 5
}
