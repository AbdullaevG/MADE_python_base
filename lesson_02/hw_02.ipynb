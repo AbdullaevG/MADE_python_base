{
 "cells": [
  {
   "cell_type": "code",
   "execution_count": 1,
   "id": "65640478",
   "metadata": {},
   "outputs": [],
   "source": [
    "import numpy as np"
   ]
  },
  {
   "cell_type": "markdown",
   "id": "6edbad23",
   "metadata": {},
   "source": [
    "1. Определение чисел наиболее близких к нулю\n",
    "\n",
    "Написать функцию, которая принимает список чисел и возвращает список тех из них, которые наиболее близки к нулю. Из чисел [-5, 9, 6, -8] таковыми будут [-5], а из [-1, 2, -5, 1, -1] - [-1, 1, -1]."
   ]
  },
  {
   "cell_type": "code",
   "execution_count": 2,
   "id": "23c23c5e",
   "metadata": {},
   "outputs": [],
   "source": [
    "def closed_to_zero(lst: list):\n",
    "    closed_num = float(\"inf\")\n",
    "    result = []\n",
    "    for item in lst:\n",
    "        if abs(item) < closed_num:\n",
    "            \n",
    "            result = [item]\n",
    "            closed_num = abs(item)\n",
    "        elif abs(item) == closed_num:\n",
    "            result.append(item)\n",
    "            \n",
    "    return result\n",
    "\n",
    "assert closed_to_zero([-5, 9, 6, -8]) == [-5]\n",
    "assert closed_to_zero([-1, 2, -5, 1, -1]) == [-1, 1, -1]\n",
    "assert closed_to_zero([-1, 2, -5, 1, -1, 0]) == [0]\n",
    "assert closed_to_zero([-1, 2, 0, -5, 1, -1, 0]) == [0, 0]"
   ]
  },
  {
   "cell_type": "markdown",
   "id": "71e58296",
   "metadata": {},
   "source": [
    "2. Слияние отсортированных списков без дубликатов\n",
    "\n",
    "Реализуйте функцию merge, которая принимает на вход две отсортированные по возрастанию последовательности чисел и возвращает отсортированную последовательность, состоящую из всех элементов, содержащихся в обоих исходных последовательностях без дубликатов."
   ]
  },
  {
   "cell_type": "code",
   "execution_count": 3,
   "id": "7b06e4ed",
   "metadata": {},
   "outputs": [],
   "source": [
    "def merge_simple(lst1, lst2):\n",
    "    set1 = set(lst1)\n",
    "    set2 = set(lst2)\n",
    "    return sorted(list(set1.intersection(set2)))\n",
    "    \n",
    "\n",
    "def merge_complex(lst1, lst2):\n",
    "    i, j = 0, 0\n",
    "    result = [None]\n",
    "    while i < len(lst1) and j < len(lst2):\n",
    "        if lst1[i] == lst2[j]:\n",
    "            if  lst1[i] != result[-1]:\n",
    "                result.append(lst1[i])\n",
    "            i += 1\n",
    "            j += 1\n",
    "        elif lst1[i] > lst2[j]:\n",
    "            j += 1\n",
    "        elif lst1[i] < lst2[j]:\n",
    "            i += 1\n",
    "            \n",
    "    return result[1:]"
   ]
  },
  {
   "cell_type": "code",
   "execution_count": 4,
   "id": "15faee92",
   "metadata": {},
   "outputs": [],
   "source": [
    "lst = [1, 1, 2, 5, 7]\n",
    "tp = (1, 1, 2, 3, 4, 7)\n",
    "res = merge_complex(lst, tp)\n",
    "assert res == [1, 2, 7]"
   ]
  },
  {
   "cell_type": "code",
   "execution_count": 5,
   "id": "03b41fed",
   "metadata": {},
   "outputs": [],
   "source": [
    "def test():\n",
    "    for _ in range(100):\n",
    "        \n",
    "        N1, N2 = np.random.randint(1, 60, 2)\n",
    "        \n",
    "        lst1 = sorted(list(np.random.randint(1, 10, N1)))\n",
    "        lst2 = sorted(list(np.random.randint(1, 10, N2)))\n",
    "        \n",
    "        res1= merge_simple(lst1, lst2)\n",
    "        res2 = merge_complex(lst1, lst2)\n",
    "        \n",
    "        if res1 != res2:\n",
    "            print(lst1)\n",
    "            print(lst2)\n",
    "            print(res1)\n",
    "            print(res2)\n",
    "            break\n",
    "test()"
   ]
  },
  {
   "cell_type": "code",
   "execution_count": 60,
   "id": "83e1ed73",
   "metadata": {},
   "outputs": [],
   "source": []
  },
  {
   "cell_type": "code",
   "execution_count": 93,
   "id": "497c01f6",
   "metadata": {},
   "outputs": [],
   "source": []
  },
  {
   "cell_type": "code",
   "execution_count": null,
   "id": "aed28f90",
   "metadata": {},
   "outputs": [],
   "source": []
  }
 ],
 "metadata": {
  "kernelspec": {
   "display_name": "Python 3",
   "language": "python",
   "name": "python3"
  },
  "language_info": {
   "codemirror_mode": {
    "name": "ipython",
    "version": 3
   },
   "file_extension": ".py",
   "mimetype": "text/x-python",
   "name": "python",
   "nbconvert_exporter": "python",
   "pygments_lexer": "ipython3",
   "version": "3.8.5"
  }
 },
 "nbformat": 4,
 "nbformat_minor": 5
}
