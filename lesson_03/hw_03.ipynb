{
 "cells": [
  {
   "cell_type": "code",
   "execution_count": 1,
   "id": "c01b7cb5",
   "metadata": {},
   "outputs": [],
   "source": [
    "import json\n",
    "import time\n",
    "import numpy as np\n",
    "from functools import wraps"
   ]
  },
  {
   "cell_type": "markdown",
   "id": "0a366b75",
   "metadata": {},
   "source": [
    "1. Написать функцию, которая в качестве аргументов принимает строку json, список полей, которые необходимо обработать, список имён, которые нужно найти и функцию-обработчика имени, который срабатывает, когда в каком-либо поле было найдено ключевое имя.\n",
    "\n",
    "Функция, должна принимать строку, в которой содержится json, и произвести парсинг этого json. Упростим немного и представим, что json представляет из себя только коллекцию ключей-значений. Причём ключами и значениями являются только строки.\n",
    "\n",
    "`def parse_json(json_str: str, required_fields=None, keywords=None, keyword_callback)`\n",
    "\n",
    "Например, представим, что json_str = '{\"key1\": \"Word1 word2\", \"key2\": \"word2 word3\"}', а required_fields = [\"key1\"], keywords = [\"word2\"]. Тогда keyword_callback будет вызвана только для слова 'word2' для ключа 'key1'."
   ]
  },
  {
   "cell_type": "code",
   "execution_count": 2,
   "id": "531daaa0",
   "metadata": {},
   "outputs": [],
   "source": [
    "def keyward_callback(key):\n",
    "    print(\"from keyward_callback: \", key)"
   ]
  },
  {
   "cell_type": "code",
   "execution_count": 3,
   "id": "62574eb0",
   "metadata": {},
   "outputs": [
    {
     "name": "stdout",
     "output_type": "stream",
     "text": [
      "from keyward_callback:  word2\n"
     ]
    }
   ],
   "source": [
    "def parse_json(json_str: str, required_fields: list, keywords: list, keyword_callback):\n",
    "    json_doc = json.loads(json_str)\n",
    "\n",
    "    for key in json_doc:\n",
    "        \n",
    "        if key in required_fields:\n",
    "            for keyword in json_doc[key].split():\n",
    "                if keyword in keywords:\n",
    "                    \n",
    "                    keyward_callback(keyword)\n",
    "            \n",
    "    \n",
    "json_str = '{\"key1\": \"Word1 word2\", \"key2\": \"word2 word3\"}'\n",
    "required_fields = [\"key1\"]\n",
    "keywords = [\"word2\"]\n",
    "\n",
    "parse_json(json_str, required_fields, keywords, 10)"
   ]
  },
  {
   "cell_type": "markdown",
   "id": "d93409e4",
   "metadata": {},
   "source": [
    "2. Написать декоратор, который считает среднее время выполнения последних k вызовов."
   ]
  },
  {
   "cell_type": "code",
   "execution_count": 4,
   "id": "5add23bd",
   "metadata": {},
   "outputs": [],
   "source": [
    "def timer_k(k):\n",
    "    def _timer_k(func):\n",
    "        func.times_k = []\n",
    "        @wraps(func)\n",
    "        def wrapper(*args, **kwargs):\n",
    "            start_t = time.time()\n",
    "            res = func(*args, **kwargs)\n",
    "            end_t = time.time()\n",
    "            dur = end_t - start_t\n",
    "            func.times_k.append(dur)\n",
    "            if len(func.times_k) <= k:\n",
    "                print(f\"Mean time for last {len(func.times_k)}: {np.mean(func.times_k):.3f}\")\n",
    "            else:\n",
    "                print(f\"Mean time for last {k}: {np.mean(func.times_k[-k:]):.3f}\")\n",
    "            return res\n",
    "        return wrapper\n",
    "    return _timer_k"
   ]
  },
  {
   "cell_type": "code",
   "execution_count": 5,
   "id": "ab23c781",
   "metadata": {},
   "outputs": [
    {
     "name": "stdout",
     "output_type": "stream",
     "text": [
      "Mean time for last 1: 0.072\n",
      "Mean time for last 2: 0.065\n",
      "Mean time for last 3: 0.062\n",
      "Mean time for last 4: 0.066\n",
      "Mean time for last 4: 0.065\n",
      "Mean time for last 4: 0.066\n"
     ]
    }
   ],
   "source": [
    "@timer_k(k = 4)\n",
    "def mult(N = 100):\n",
    "    m1 = np.random.random(size = (N, N))\n",
    "    m2 = np.random.random(size = (N, N))\n",
    "    return np.sum(np.dot(m1, m2))\n",
    "\n",
    "for _ in range(6):\n",
    "    mult(1000)"
   ]
  },
  {
   "cell_type": "code",
   "execution_count": null,
   "id": "9397f872",
   "metadata": {},
   "outputs": [],
   "source": []
  }
 ],
 "metadata": {
  "kernelspec": {
   "display_name": "Python 3",
   "language": "python",
   "name": "python3"
  },
  "language_info": {
   "codemirror_mode": {
    "name": "ipython",
    "version": 3
   },
   "file_extension": ".py",
   "mimetype": "text/x-python",
   "name": "python",
   "nbconvert_exporter": "python",
   "pygments_lexer": "ipython3",
   "version": "3.8.5"
  }
 },
 "nbformat": 4,
 "nbformat_minor": 5
}
