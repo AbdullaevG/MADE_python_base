{
 "cells": [
  {
   "cell_type": "code",
   "execution_count": 1,
   "id": "a8d15e43",
   "metadata": {},
   "outputs": [],
   "source": [
    "class CustomList(list):\n",
    "    \n",
    "    def __init__(self, *args, **kwargs):\n",
    "        super(CustomList, self).__init__(args[0])\n",
    "        \n",
    "    def __add__(self, lst):\n",
    "        max_len = max(map(len, [self, lst]))\n",
    "        lst1 = self.copy()\n",
    "        lst2 = lst.copy()\n",
    "        for _ in range(max_len - len(lst1)):\n",
    "            lst1.append(0)\n",
    "        for _ in range(max_len - len(lst2)):\n",
    "            lst2.append(0)\n",
    "        return CustomList([lst1[i] + lst2[i] for i in range(len(lst2))])\n",
    "    \n",
    "    def __radd__(self, other):\n",
    "        other = CustomList(other)\n",
    "        return self.__add__(other)\n",
    "    \n",
    "    def __sub__(self, lst):\n",
    "        max_len = max(map(len, [self, lst]))\n",
    "        lst1 = self.copy()\n",
    "        lst2 = lst.copy()\n",
    "        for _ in range(max_len - len(lst1)):\n",
    "            lst1.append(0)\n",
    "        for _ in range(max_len - len(lst2)):\n",
    "            lst2.append(0)\n",
    "        return CustomList([lst1[i] - lst2[i] for i in range(len(lst2))])\n",
    "    \n",
    "    def __rsub__(self, other):\n",
    "        other = CustomList(other)\n",
    "        result = self.__sub__(other)\n",
    "        result = CustomList([-item for item in result])\n",
    "        return result\n",
    "    \n",
    "    def __eq__(self, lst):\n",
    "        if sum(self) == sum(lst):\n",
    "            return True\n",
    "        return False\n",
    "    \n",
    "    def __le__(self, lst):\n",
    "        if sum(self) <= sum(lst):\n",
    "            return True\n",
    "        return False\n",
    "    \n",
    "    def __ge__(self, lst):\n",
    "        if sum(self) >= sum(lst):\n",
    "            return True\n",
    "        return False\n",
    "    \n",
    "    def __gt__(self, lst):\n",
    "        if sum(self) > sum(lst):\n",
    "            return True\n",
    "        return False\n",
    "    \n",
    "    def __lt__(self, lst):\n",
    "        if sum(self) < sum(lst):\n",
    "            return True\n",
    "        return False\n",
    "    \n",
    "    def __str__(self):\n",
    "        return f'Sum: {sum(self)}, elements: {[el for el in self]}'\n",
    "    "
   ]
  },
  {
   "cell_type": "code",
   "execution_count": 2,
   "id": "953d5471",
   "metadata": {},
   "outputs": [],
   "source": [
    "lst1 = CustomList([1, 2, 3, 4])\n",
    "lst2 = CustomList([11, 12, 13, 14, 15, 16])"
   ]
  },
  {
   "cell_type": "code",
   "execution_count": 3,
   "id": "897f49e1",
   "metadata": {},
   "outputs": [
    {
     "name": "stdout",
     "output_type": "stream",
     "text": [
      "Sum: 10, elements: [1, 2, 3, 4]\n",
      "Sum: 81, elements: [11, 12, 13, 14, 15, 16]\n"
     ]
    }
   ],
   "source": [
    "print(lst1)\n",
    "print(lst2)"
   ]
  },
  {
   "cell_type": "code",
   "execution_count": 4,
   "id": "b6b9873b",
   "metadata": {},
   "outputs": [],
   "source": [
    "lst3 = lst1 + lst2\n",
    "lst4 = lst1 - lst2"
   ]
  },
  {
   "cell_type": "code",
   "execution_count": 5,
   "id": "57f9cc39",
   "metadata": {},
   "outputs": [],
   "source": [
    "assert CustomList([1, 2, 3, 4]) <= CustomList([11, 12, 13, 14, 15, 16])\n",
    "assert lst3 == CustomList([12, 14, 16, 18, 15, 16])\n",
    "assert lst4 == CustomList([-10, -10, -10, -10, -15, -16])\n",
    "assert CustomList([5, 1, 3, 7]) - CustomList([1, 2, 7]) == CustomList([4, -1, -4, 7])\n",
    "assert CustomList([5, 1, 3, 7]) + CustomList([1, 2, 7]) == CustomList([6, 3, 10, 7])\n",
    "assert [-1, 0, 1, 2] + CustomList([1, 2, 7]) == CustomList([0, 2, 8, 2])\n",
    "assert [5, 1, 3, 7] - CustomList([1, 2, 7]) == CustomList([4, -1, -4, 7])\n",
    "assert CustomList([-1, 0, 1, 2]) + [1, 2, 7] == CustomList([0, 2, 8, 2])\n",
    "assert CustomList([5, 3, 17]) > CustomList([5, 1, 3, 7])\n",
    "assert CustomList([5, 3, 17]) >= CustomList([5, 10, 3, 7])\n",
    "assert CustomList([5, 3, 17]) == CustomList([5, 2, 2, 6, 3, 7])\n",
    "assert CustomList([5, 3, -17]) < CustomList([5, 2, 2, 6, 3, 7])\n",
    "assert CustomList([-17]) < CustomList([5, 2, 2, 6, 3, 7])\n",
    "assert CustomList([17]) > CustomList([5, 2, 2, 6, 3, 7, -100])\n",
    "assert CustomList([0]) > CustomList([-100])"
   ]
  },
  {
   "cell_type": "code",
   "execution_count": 176,
   "id": "32782b36",
   "metadata": {},
   "outputs": [],
   "source": []
  },
  {
   "cell_type": "code",
   "execution_count": null,
   "id": "aba721e4",
   "metadata": {},
   "outputs": [],
   "source": []
  }
 ],
 "metadata": {
  "kernelspec": {
   "display_name": "Python 3",
   "language": "python",
   "name": "python3"
  },
  "language_info": {
   "codemirror_mode": {
    "name": "ipython",
    "version": 3
   },
   "file_extension": ".py",
   "mimetype": "text/x-python",
   "name": "python",
   "nbconvert_exporter": "python",
   "pygments_lexer": "ipython3",
   "version": "3.8.5"
  }
 },
 "nbformat": 4,
 "nbformat_minor": 5
}
