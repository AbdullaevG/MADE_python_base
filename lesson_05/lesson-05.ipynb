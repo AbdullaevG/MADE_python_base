{
 "cells": [
  {
   "cell_type": "code",
   "execution_count": 1,
   "id": "111f253c",
   "metadata": {},
   "outputs": [],
   "source": [
    "from collections import defaultdict\n",
    "from contextlib import contextmanager\n",
    "\n",
    "\n",
    "class CtxManager:\n",
    "    def __init__(self, name):\n",
    "        self.stats = defaultdict(int)\n",
    "\n",
    "    def __enter__(self):\n",
    "        print(\"in enter\")\n",
    "        return self.stats\n",
    "\n",
    "    def __exit__(self, exc_type, exc_val, exc_tb):\n",
    "        print(f\"exit with {self.stats=}\")\n",
    "        print(\"errors:\", exc_type, exc_val, exc_tb)"
   ]
  },
  {
   "cell_type": "code",
   "execution_count": 9,
   "id": "a7f58f72",
   "metadata": {},
   "outputs": [
    {
     "name": "stdout",
     "output_type": "stream",
     "text": [
      "defaultdict(<class 'int'>, {})\n",
      "defaultdict(<class 'int'>, {'q': 1, 't': 250})\n"
     ]
    }
   ],
   "source": [
    "ctx = CtxManager(\"qwerty\")\n",
    "print(ctx.stats)\n",
    "ctx.stats[\"q\"] += 1\n",
    "ctx.stats['t'] = 250\n",
    "print(ctx.stats)"
   ]
  },
  {
   "cell_type": "code",
   "execution_count": 13,
   "id": "226d8e43",
   "metadata": {},
   "outputs": [
    {
     "name": "stdout",
     "output_type": "stream",
     "text": [
      "in enter\n",
      "ctx: stats=defaultdict(<class 'int'>, {})\n",
      "after adding: \n",
      "exit with self.stats=defaultdict(<class 'int'>, {'q': 1, 't': 250})\n",
      "errors: None None None\n"
     ]
    }
   ],
   "source": [
    "with CtxManager(\"qwerty\") as stats:\n",
    "    print(f\"ctx: {stats=}\")\n",
    "    stats[\"q\"] += 1\n",
    "    stats[\"t\"] = 250\n",
    "    print(\"after adding: \")"
   ]
  },
  {
   "cell_type": "code",
   "execution_count": 14,
   "id": "35f576f5",
   "metadata": {},
   "outputs": [
    {
     "name": "stdout",
     "output_type": "stream",
     "text": [
      "in enter\n",
      "ctx: stats=defaultdict(<class 'int'>, {})\n",
      "exit with self.stats=defaultdict(<class 'int'>, {'q': 1, 't': 250})\n",
      "errors: <class 'TypeError'> unhashable type: 'dict' <traceback object at 0x000001AFF6EF6A00>\n"
     ]
    },
    {
     "ename": "TypeError",
     "evalue": "unhashable type: 'dict'",
     "output_type": "error",
     "traceback": [
      "\u001b[1;31m---------------------------------------------------------------------------\u001b[0m",
      "\u001b[1;31mTypeError\u001b[0m                                 Traceback (most recent call last)",
      "\u001b[1;32m<ipython-input-14-2e20ffa74569>\u001b[0m in \u001b[0;36m<module>\u001b[1;34m\u001b[0m\n\u001b[0;32m      3\u001b[0m     \u001b[0mstats\u001b[0m\u001b[1;33m[\u001b[0m\u001b[1;34m\"q\"\u001b[0m\u001b[1;33m]\u001b[0m \u001b[1;33m+=\u001b[0m \u001b[1;36m1\u001b[0m\u001b[1;33m\u001b[0m\u001b[1;33m\u001b[0m\u001b[0m\n\u001b[0;32m      4\u001b[0m     \u001b[0mstats\u001b[0m\u001b[1;33m[\u001b[0m\u001b[1;34m\"t\"\u001b[0m\u001b[1;33m]\u001b[0m \u001b[1;33m=\u001b[0m \u001b[1;36m250\u001b[0m\u001b[1;33m\u001b[0m\u001b[1;33m\u001b[0m\u001b[0m\n\u001b[1;32m----> 5\u001b[1;33m     \u001b[0mstats\u001b[0m\u001b[1;33m[\u001b[0m\u001b[1;33m{\u001b[0m\u001b[1;36m1\u001b[0m\u001b[1;33m:\u001b[0m\u001b[1;36m1\u001b[0m\u001b[1;33m,\u001b[0m \u001b[1;36m2\u001b[0m\u001b[1;33m:\u001b[0m\u001b[1;36m2\u001b[0m\u001b[1;33m}\u001b[0m\u001b[1;33m]\u001b[0m \u001b[1;33m=\u001b[0m \u001b[1;36m5\u001b[0m\u001b[1;33m\u001b[0m\u001b[1;33m\u001b[0m\u001b[0m\n\u001b[0m\u001b[0;32m      6\u001b[0m     \u001b[0mprint\u001b[0m\u001b[1;33m(\u001b[0m\u001b[1;34m\"after adding: \"\u001b[0m\u001b[1;33m)\u001b[0m\u001b[1;33m\u001b[0m\u001b[1;33m\u001b[0m\u001b[0m\n",
      "\u001b[1;31mTypeError\u001b[0m: unhashable type: 'dict'"
     ]
    }
   ],
   "source": [
    "with CtxManager(\"qwerty\") as stats:\n",
    "    print(f\"ctx: {stats=}\")\n",
    "    stats[\"q\"] += 1\n",
    "    stats[\"t\"] = 250\n",
    "    stats[{1:1, 2:2}] = 5\n",
    "    print(\"after adding: \")"
   ]
  },
  {
   "cell_type": "code",
   "execution_count": 18,
   "id": "3e0ac40e",
   "metadata": {},
   "outputs": [
    {
     "name": "stdout",
     "output_type": "stream",
     "text": [
      "before yield\n",
      "ctx: stats=defaultdict(<class 'int'>, {})\n",
      "ctx: stats=defaultdict(<class 'int'>, {'q': 1, 't': 250})\n",
      "exit with stats=defaultdict(<class 'int'>, {'q': 1, 't': 250})\n",
      "end\n"
     ]
    }
   ],
   "source": [
    "@contextmanager\n",
    "def calc_stat():\n",
    "    stats = defaultdict(int)\n",
    "    print(\"before yield\")\n",
    "    yield stats\n",
    "    print(f\"ctx: {stats=}\")\n",
    "    print(f\"exit with {stats=}\")\n",
    "    \n",
    "with calc_stat() as stats:\n",
    "    print(f\"ctx: {stats=}\")\n",
    "    stats[\"q\"] += 1\n",
    "    stats[\"t\"] = 250\n",
    "    # stats[{1:1, 2:2}] = 5\n",
    "print(\"end\")"
   ]
  },
  {
   "cell_type": "code",
   "execution_count": 23,
   "id": "853acef0",
   "metadata": {},
   "outputs": [],
   "source": [
    "@contextmanager\n",
    "def calc_stat():\n",
    "    stats = defaultdict(int)\n",
    "    print(\"before yield\")\n",
    "    try:\n",
    "        yield stats\n",
    "    except Exception as err:\n",
    "        print(\"ERRROR:\", err)\n",
    "    finally:\n",
    "        print(f\"exit with {stats=}\")"
   ]
  },
  {
   "cell_type": "code",
   "execution_count": 25,
   "id": "24e2253d",
   "metadata": {},
   "outputs": [
    {
     "name": "stdout",
     "output_type": "stream",
     "text": [
      "before yield\n",
      "ctx: stats=defaultdict(<class 'int'>, {})\n",
      "ERRROR: unhashable type: 'dict'\n",
      "exit with stats=defaultdict(<class 'int'>, {'q': 1, 't': 250})\n",
      "end\n"
     ]
    }
   ],
   "source": [
    "with calc_stat() as stats:\n",
    "    print(f\"ctx: {stats=}\")\n",
    "    stats[\"q\"] += 1\n",
    "    stats[\"t\"] = 250\n",
    "    stats[{1:1, 2:2}] = 5\n",
    "print(\"end\")"
   ]
  },
  {
   "cell_type": "code",
   "execution_count": 26,
   "id": "0fc4c18c",
   "metadata": {},
   "outputs": [],
   "source": [
    "@contextmanager\n",
    "def calc_stat():\n",
    "    stats = defaultdict(int)\n",
    "    print(\"before yield\")\n",
    "    try:\n",
    "        yield stats\n",
    "    except Exception as err:\n",
    "        print(\"ERRROR:\", err)\n",
    "        raise\n",
    "    finally:\n",
    "        print(f\"exit with {stats=}\")"
   ]
  },
  {
   "cell_type": "code",
   "execution_count": 27,
   "id": "e6e61225",
   "metadata": {},
   "outputs": [
    {
     "name": "stdout",
     "output_type": "stream",
     "text": [
      "in enter\n",
      "ctx: stats=defaultdict(<class 'int'>, {})\n",
      "exit with self.stats=defaultdict(<class 'int'>, {'q': 1, 't': 250})\n",
      "errors: <class 'TypeError'> unhashable type: 'set' <traceback object at 0x000001AFF7F2A040>\n"
     ]
    },
    {
     "ename": "TypeError",
     "evalue": "unhashable type: 'set'",
     "output_type": "error",
     "traceback": [
      "\u001b[1;31m---------------------------------------------------------------------------\u001b[0m",
      "\u001b[1;31mTypeError\u001b[0m                                 Traceback (most recent call last)",
      "\u001b[1;32m<ipython-input-27-3d5f9aa6a187>\u001b[0m in \u001b[0;36m<module>\u001b[1;34m\u001b[0m\n\u001b[0;32m      3\u001b[0m     \u001b[0mstats\u001b[0m\u001b[1;33m[\u001b[0m\u001b[1;34m\"q\"\u001b[0m\u001b[1;33m]\u001b[0m \u001b[1;33m+=\u001b[0m \u001b[1;36m1\u001b[0m\u001b[1;33m\u001b[0m\u001b[1;33m\u001b[0m\u001b[0m\n\u001b[0;32m      4\u001b[0m     \u001b[0mstats\u001b[0m\u001b[1;33m[\u001b[0m\u001b[1;34m\"t\"\u001b[0m\u001b[1;33m]\u001b[0m \u001b[1;33m=\u001b[0m \u001b[1;36m250\u001b[0m\u001b[1;33m\u001b[0m\u001b[1;33m\u001b[0m\u001b[0m\n\u001b[1;32m----> 5\u001b[1;33m     \u001b[0mstats\u001b[0m\u001b[1;33m[\u001b[0m\u001b[1;33m{\u001b[0m\u001b[1;36m1\u001b[0m\u001b[1;33m,\u001b[0m \u001b[1;36m2\u001b[0m\u001b[1;33m,\u001b[0m \u001b[1;36m3\u001b[0m\u001b[1;33m}\u001b[0m\u001b[1;33m]\u001b[0m \u001b[1;33m=\u001b[0m \u001b[1;36m42\u001b[0m\u001b[1;33m\u001b[0m\u001b[1;33m\u001b[0m\u001b[0m\n\u001b[0m\u001b[0;32m      6\u001b[0m \u001b[1;33m\u001b[0m\u001b[0m\n\u001b[0;32m      7\u001b[0m \u001b[0mprint\u001b[0m\u001b[1;33m(\u001b[0m\u001b[1;34m\"end\"\u001b[0m\u001b[1;33m)\u001b[0m\u001b[1;33m\u001b[0m\u001b[1;33m\u001b[0m\u001b[0m\n",
      "\u001b[1;31mTypeError\u001b[0m: unhashable type: 'set'"
     ]
    }
   ],
   "source": [
    "with CtxManager(\"qwerty\") as stats:\n",
    "    print(f\"ctx: {stats=}\")\n",
    "    stats[\"q\"] += 1\n",
    "    stats[\"t\"] = 250\n",
    "    stats[{1, 2, 3}] = 42\n",
    "\n",
    "print(\"end\")"
   ]
  },
  {
   "cell_type": "code",
   "execution_count": 28,
   "id": "62a1a750",
   "metadata": {},
   "outputs": [
    {
     "name": "stdout",
     "output_type": "stream",
     "text": [
      "before yield\n",
      "ctx: stats=defaultdict(<class 'int'>, {})\n",
      "exit with stats=defaultdict(<class 'int'>, {'q': 1, 't': 250})\n",
      "end\n"
     ]
    }
   ],
   "source": [
    "with calc_stat() as stats:\n",
    "    print(f\"ctx: {stats=}\")\n",
    "    stats[\"q\"] += 1\n",
    "    stats[\"t\"] = 250\n",
    "    #stats[{1, 2, 3}] = 42\n",
    "\n",
    "print(\"end\")"
   ]
  },
  {
   "cell_type": "code",
   "execution_count": 22,
   "id": "7084f8a1",
   "metadata": {},
   "outputs": [
    {
     "name": "stdout",
     "output_type": "stream",
     "text": [
      "before yield\n",
      "ctx: stats=defaultdict(<class 'int'>, {})\n",
      "ERRROR: unhashable type: 'set'\n",
      "exit with stats=defaultdict(<class 'int'>, {'q': 1, 't': 250})\n"
     ]
    },
    {
     "ename": "TypeError",
     "evalue": "unhashable type: 'set'",
     "output_type": "error",
     "traceback": [
      "\u001b[1;31m---------------------------------------------------------------------------\u001b[0m",
      "\u001b[1;31mTypeError\u001b[0m                                 Traceback (most recent call last)",
      "\u001b[1;32m<ipython-input-22-55ed90888fe8>\u001b[0m in \u001b[0;36m<module>\u001b[1;34m\u001b[0m\n\u001b[0;32m      3\u001b[0m     \u001b[0mstats\u001b[0m\u001b[1;33m[\u001b[0m\u001b[1;34m\"q\"\u001b[0m\u001b[1;33m]\u001b[0m \u001b[1;33m+=\u001b[0m \u001b[1;36m1\u001b[0m\u001b[1;33m\u001b[0m\u001b[1;33m\u001b[0m\u001b[0m\n\u001b[0;32m      4\u001b[0m     \u001b[0mstats\u001b[0m\u001b[1;33m[\u001b[0m\u001b[1;34m\"t\"\u001b[0m\u001b[1;33m]\u001b[0m \u001b[1;33m=\u001b[0m \u001b[1;36m250\u001b[0m\u001b[1;33m\u001b[0m\u001b[1;33m\u001b[0m\u001b[0m\n\u001b[1;32m----> 5\u001b[1;33m     \u001b[0mstats\u001b[0m\u001b[1;33m[\u001b[0m\u001b[1;33m{\u001b[0m\u001b[1;36m1\u001b[0m\u001b[1;33m,\u001b[0m \u001b[1;36m2\u001b[0m\u001b[1;33m,\u001b[0m \u001b[1;36m3\u001b[0m\u001b[1;33m}\u001b[0m\u001b[1;33m]\u001b[0m \u001b[1;33m=\u001b[0m \u001b[1;36m42\u001b[0m\u001b[1;33m\u001b[0m\u001b[1;33m\u001b[0m\u001b[0m\n\u001b[0m\u001b[0;32m      6\u001b[0m \u001b[1;33m\u001b[0m\u001b[0m\n\u001b[0;32m      7\u001b[0m \u001b[0mprint\u001b[0m\u001b[1;33m(\u001b[0m\u001b[1;34m\"end\"\u001b[0m\u001b[1;33m)\u001b[0m\u001b[1;33m\u001b[0m\u001b[1;33m\u001b[0m\u001b[0m\n",
      "\u001b[1;31mTypeError\u001b[0m: unhashable type: 'set'"
     ]
    }
   ],
   "source": [
    "with calc_stat() as stats:\n",
    "    print(f\"ctx: {stats=}\")\n",
    "    stats[\"q\"] += 1\n",
    "    stats[\"t\"] = 250\n",
    "    stats[{1, 2, 3}] = 42\n",
    "\n",
    "print(\"end\")"
   ]
  },
  {
   "cell_type": "code",
   "execution_count": 22,
   "id": "b54fd9e0",
   "metadata": {},
   "outputs": [],
   "source": [
    "class StatError(Exception):\n",
    "    pass\n",
    "\n",
    "class ZeroStatError(StatError):\n",
    "    pass"
   ]
  },
  {
   "cell_type": "code",
   "execution_count": 39,
   "id": "c0fd30b9",
   "metadata": {},
   "outputs": [
    {
     "name": "stdout",
     "output_type": "stream",
     "text": [
      "zero \n",
      "finally\n"
     ]
    },
    {
     "ename": "StatError",
     "evalue": "",
     "output_type": "error",
     "traceback": [
      "\u001b[0;31m---------------------------------------------------------------------------\u001b[0m",
      "\u001b[0;31mZeroStatError\u001b[0m                             Traceback (most recent call last)",
      "Cell \u001b[0;32mIn [39], line 2\u001b[0m\n\u001b[1;32m      1\u001b[0m \u001b[38;5;28;01mtry\u001b[39;00m:\n\u001b[0;32m----> 2\u001b[0m     \u001b[38;5;28;01mraise\u001b[39;00m ZeroStatError()\n\u001b[1;32m      3\u001b[0m \u001b[38;5;28;01mexcept\u001b[39;00m ZeroStatError \u001b[38;5;28;01mas\u001b[39;00m err:\n",
      "\u001b[0;31mZeroStatError\u001b[0m: ",
      "\nThe above exception was the direct cause of the following exception:\n",
      "\u001b[0;31mStatError\u001b[0m                                 Traceback (most recent call last)",
      "Cell \u001b[0;32mIn [39], line 5\u001b[0m\n\u001b[1;32m      3\u001b[0m \u001b[38;5;28;01mexcept\u001b[39;00m ZeroStatError \u001b[38;5;28;01mas\u001b[39;00m err:\n\u001b[1;32m      4\u001b[0m     \u001b[38;5;28mprint\u001b[39m(\u001b[38;5;124m\"\u001b[39m\u001b[38;5;124mzero\u001b[39m\u001b[38;5;124m\"\u001b[39m, err)\n\u001b[0;32m----> 5\u001b[0m     \u001b[38;5;28;01mraise\u001b[39;00m StatError \u001b[38;5;28;01mfrom\u001b[39;00m \u001b[38;5;21;01merr\u001b[39;00m\n\u001b[1;32m      6\u001b[0m \u001b[38;5;28;01mexcept\u001b[39;00m StatError \u001b[38;5;28;01mas\u001b[39;00m err:\n\u001b[1;32m      7\u001b[0m     \u001b[38;5;28mprint\u001b[39m(\u001b[38;5;124m\"\u001b[39m\u001b[38;5;124mstat\u001b[39m\u001b[38;5;124m\"\u001b[39m, err)\n",
      "\u001b[0;31mStatError\u001b[0m: "
     ]
    }
   ],
   "source": [
    "try:\n",
    "    raise ZeroStatError()\n",
    "except ZeroStatError as err:\n",
    "    print(\"zero\", err)\n",
    "    raise StatError from err\n",
    "except StatError as err:\n",
    "    print(\"stat\", err)\n",
    "except Exception as err:\n",
    "    print(\"exp\", err)\n",
    "else:\n",
    "    print(\"else\")\n",
    "finally:\n",
    "    print(\"finally\")\n"
   ]
  },
  {
   "cell_type": "code",
   "execution_count": null,
   "id": "444ef5aa",
   "metadata": {},
   "outputs": [],
   "source": []
  },
  {
   "cell_type": "code",
   "execution_count": 40,
   "id": "66b5bd7a",
   "metadata": {},
   "outputs": [
    {
     "name": "stdout",
     "output_type": "stream",
     "text": [
      "exp \n",
      "finally\n"
     ]
    }
   ],
   "source": [
    "try:\n",
    "    raise Exception()\n",
    "except ZeroStatError as err:\n",
    "    print(\"zero\", err)\n",
    "    raise StatError from err\n",
    "except StatError as err:\n",
    "    print(\"stat\", err)\n",
    "except Exception as err:\n",
    "    print(\"exp\", err)\n",
    "else:\n",
    "    print(\"else\")\n",
    "finally:\n",
    "    print(\"finally\")\n"
   ]
  },
  {
   "cell_type": "code",
   "execution_count": null,
   "id": "09b4eb98",
   "metadata": {},
   "outputs": [],
   "source": []
  },
  {
   "cell_type": "code",
   "execution_count": null,
   "id": "c6f93f67",
   "metadata": {},
   "outputs": [],
   "source": []
  },
  {
   "cell_type": "code",
   "execution_count": 42,
   "id": "011e74a4",
   "metadata": {},
   "outputs": [
    {
     "name": "stdout",
     "output_type": "stream",
     "text": [
      "README.md      bfm_loader.py  \u001b[1m\u001b[34mlesson-01\u001b[m\u001b[m      \u001b[1m\u001b[34mlesson-04\u001b[m\u001b[m\r\n",
      "\u001b[1m\u001b[34m__pycache__\u001b[m\u001b[m    class_02.ipynb \u001b[1m\u001b[34mlesson-02\u001b[m\u001b[m      \u001b[1m\u001b[34mlesson-05\u001b[m\u001b[m\r\n",
      "bfm.jsonl      class_05.ipynb \u001b[1m\u001b[34mlesson-03\u001b[m\u001b[m      test.py\r\n"
     ]
    }
   ],
   "source": [
    "!ls"
   ]
  },
  {
   "cell_type": "code",
   "execution_count": 98,
   "id": "af06cdf0",
   "metadata": {},
   "outputs": [],
   "source": [
    "students = [\"s1\\n\", \"s2\\n\", \"s3\\n\"]\n",
    "\n",
    "with open(\"students.txt\", \"w\") as f:\n",
    "    f.writelines(students)\n",
    "    \n",
    "with open(\"students.txt\", \"a+\") as f:\n",
    "    f.writelines([\"s4\\n\", \"s5\\n\"])\n",
    "\n",
    "with open(\"students.txt\", \"a+\") as f:\n",
    "    f.write(\"\\n\".join([\"s6\", \"s7\"]))"
   ]
  },
  {
   "cell_type": "code",
   "execution_count": 63,
   "id": "8343acaf",
   "metadata": {},
   "outputs": [
    {
     "name": "stdout",
     "output_type": "stream",
     "text": [
      "s1\r\n",
      "s2\r\n",
      "s3\r\n",
      "s4\r\n",
      "s5\r\n",
      "s6\r\n",
      "s7"
     ]
    }
   ],
   "source": [
    "!cat students.txt"
   ]
  },
  {
   "cell_type": "code",
   "execution_count": 51,
   "id": "8b472574",
   "metadata": {},
   "outputs": [
    {
     "data": {
      "text/plain": [
       "'s6\\ns7'"
      ]
     },
     "execution_count": 51,
     "metadata": {},
     "output_type": "execute_result"
    }
   ],
   "source": [
    "\"\\n\".join([\"s6\", \"s7\"])"
   ]
  },
  {
   "cell_type": "code",
   "execution_count": 71,
   "id": "240af36c",
   "metadata": {},
   "outputs": [
    {
     "name": "stdout",
     "output_type": "stream",
     "text": [
      "<_io.TextIOWrapper name='students.txt' mode='r' encoding='UTF-8'>\n",
      "72\n",
      "1 's1\\n' s1\n",
      "2 's2\\n' s2\n",
      "3 's3\\n' s3\n",
      "4 's4\\n' s4\n",
      "5 's5\\n' s5\n",
      "6 's6\\n' s6\n",
      "7 's7' s7\n"
     ]
    }
   ],
   "source": [
    "with open(\"students.txt\") as f:\n",
    "    print(f)\n",
    "    print(f.fileno())\n",
    "\n",
    "    for i, line in enumerate(f, 1):\n",
    "        print(i, repr(line), line.strip())"
   ]
  },
  {
   "cell_type": "code",
   "execution_count": 74,
   "id": "7c8c69cd",
   "metadata": {},
   "outputs": [
    {
     "name": "stdout",
     "output_type": "stream",
     "text": [
      "s1\n",
      "s2\n",
      "s3\n",
      "s4\n",
      "s5\n",
      "s6\n",
      "s7\n"
     ]
    }
   ],
   "source": [
    "with open(\"students.txt\") as f:\n",
    "    data = f.read()\n",
    "    print(data)"
   ]
  },
  {
   "cell_type": "code",
   "execution_count": 76,
   "id": "d7137942",
   "metadata": {},
   "outputs": [
    {
     "name": "stdout",
     "output_type": "stream",
     "text": [
      "'s1\\ns2\\ns3\\ns'\n",
      "s1\n",
      "s2\n",
      "s3\n",
      "s\n"
     ]
    }
   ],
   "source": [
    "with open(\"students.txt\") as f:\n",
    "    data = f.read(10)\n",
    "    print(repr(data))\n",
    "    print(data)"
   ]
  },
  {
   "cell_type": "code",
   "execution_count": 78,
   "id": "53cc45be",
   "metadata": {},
   "outputs": [
    {
     "name": "stdout",
     "output_type": "stream",
     "text": [
      "1 b's1\\n' b's1'\n",
      "2 b's2\\n' b's2'\n",
      "3 b's3\\n' b's3'\n",
      "4 b's4\\n' b's4'\n",
      "5 b's5\\n' b's5'\n",
      "6 b's6\\n' b's6'\n",
      "7 b's7' b's7'\n"
     ]
    }
   ],
   "source": [
    "with open(\"students.txt\", \"rb\") as f:\n",
    "    for i, line in enumerate(f, 1):\n",
    "        print(i, repr(line), line.strip())"
   ]
  },
  {
   "cell_type": "code",
   "execution_count": 79,
   "id": "5bf78432",
   "metadata": {},
   "outputs": [
    {
     "name": "stdout",
     "output_type": "stream",
     "text": [
      "b'4\\ns5\\ns6\\ns7'\n"
     ]
    }
   ],
   "source": [
    "with open(\"students.txt\", \"rb\") as f:\n",
    "    f.seek(10)\n",
    "    print(f.read())"
   ]
  },
  {
   "cell_type": "code",
   "execution_count": 102,
   "id": "89578d54",
   "metadata": {},
   "outputs": [],
   "source": [
    "with open(\"students.txt\", \"rb+\") as f:\n",
    "    f.seek(10)\n",
    "    f.write(b\"99\")"
   ]
  },
  {
   "cell_type": "code",
   "execution_count": 103,
   "id": "9de6b732",
   "metadata": {},
   "outputs": [
    {
     "name": "stdout",
     "output_type": "stream",
     "text": [
      "s1\r\n",
      "s2\r\n",
      "s3\r\n",
      "s99s5\r\n",
      "s6\r\n",
      "s7"
     ]
    }
   ],
   "source": [
    "!cat students.txt"
   ]
  },
  {
   "cell_type": "code",
   "execution_count": null,
   "id": "c1ef7c1e",
   "metadata": {},
   "outputs": [],
   "source": []
  },
  {
   "cell_type": "code",
   "execution_count": null,
   "id": "e68fd2cd",
   "metadata": {},
   "outputs": [],
   "source": []
  },
  {
   "cell_type": "code",
   "execution_count": 101,
   "id": "a7da0f59",
   "metadata": {},
   "outputs": [
    {
     "name": "stdout",
     "output_type": "stream",
     "text": [
      "['s1\\n', 's2\\n']\n",
      "['s3\\n', 's4\\n']\n",
      "['s5\\n', 's6\\n']\n",
      "['s7']\n"
     ]
    }
   ],
   "source": [
    "def gen_file_chunks(name, batch_size):\n",
    "    with open(name) as f:\n",
    "        i = 0\n",
    "        batch = []\n",
    "\n",
    "        for line in f:\n",
    "            batch.append(line)\n",
    "\n",
    "            i += 1\n",
    "            if i == batch_size:\n",
    "                yield batch\n",
    "                batch = []\n",
    "                i = 0\n",
    "        if batch:\n",
    "            yield batch\n",
    "  \n",
    "\n",
    "for chunk in gen_file_chunks(\"students.txt\", 2):\n",
    "    print(chunk)"
   ]
  },
  {
   "cell_type": "code",
   "execution_count": null,
   "id": "62c12c75",
   "metadata": {},
   "outputs": [],
   "source": []
  },
  {
   "cell_type": "code",
   "execution_count": null,
   "id": "d18bb76a",
   "metadata": {},
   "outputs": [],
   "source": []
  },
  {
   "cell_type": "code",
   "execution_count": null,
   "id": "54d9be4f",
   "metadata": {},
   "outputs": [],
   "source": []
  },
  {
   "cell_type": "code",
   "execution_count": null,
   "id": "ebd7ad1b",
   "metadata": {},
   "outputs": [],
   "source": []
  }
 ],
 "metadata": {
  "kernelspec": {
   "display_name": "Python 3",
   "language": "python",
   "name": "python3"
  },
  "language_info": {
   "codemirror_mode": {
    "name": "ipython",
    "version": 3
   },
   "file_extension": ".py",
   "mimetype": "text/x-python",
   "name": "python",
   "nbconvert_exporter": "python",
   "pygments_lexer": "ipython3",
   "version": "3.8.5"
  }
 },
 "nbformat": 4,
 "nbformat_minor": 5
}
