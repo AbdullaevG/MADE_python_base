{
 "cells": [
  {
   "cell_type": "code",
   "execution_count": 9,
   "id": "fe1861c1",
   "metadata": {},
   "outputs": [
    {
     "name": "stdout",
     "output_type": "stream",
     "text": [
      "6\n",
      "4\n",
      "-6\n",
      "-4\n"
     ]
    }
   ],
   "source": [
    "# Бухгалтерское округление - до ближайшего четного числа\n",
    "print(round(6.5))\n",
    "print(round(3.5))\n",
    "print(round(-6.5))\n",
    "print(round(-3.5))"
   ]
  },
  {
   "cell_type": "code",
   "execution_count": 15,
   "id": "cb93abd2",
   "metadata": {},
   "outputs": [
    {
     "name": "stdout",
     "output_type": "stream",
     "text": [
      "7.3\n",
      "6.5\n",
      "7.33\n",
      "6.42\n"
     ]
    }
   ],
   "source": [
    "print(round(7.35, 1))\n",
    "print(round(6.45, 1))\n",
    "\n",
    "print(round(7.325, 2))\n",
    "print(round(6.415, 2))"
   ]
  },
  {
   "cell_type": "code",
   "execution_count": 40,
   "id": "653967ab",
   "metadata": {},
   "outputs": [
    {
     "data": {
      "text/plain": [
       "(13, 13)"
      ]
     },
     "execution_count": 40,
     "metadata": {},
     "output_type": "execute_result"
    }
   ],
   "source": [
    "int(\"16\", 7), 7**1 * 1 + 7**0 * 6"
   ]
  },
  {
   "cell_type": "code",
   "execution_count": 41,
   "id": "4ea43ab4",
   "metadata": {},
   "outputs": [
    {
     "data": {
      "text/plain": [
       "float"
      ]
     },
     "execution_count": 41,
     "metadata": {},
     "output_type": "execute_result"
    }
   ],
   "source": [
    "# nan - not a number\n",
    "nan = float('nan')\n",
    "type(nan)"
   ]
  },
  {
   "cell_type": "code",
   "execution_count": 25,
   "id": "c4e70155",
   "metadata": {},
   "outputs": [
    {
     "data": {
      "text/plain": [
       "True"
      ]
     },
     "execution_count": 25,
     "metadata": {},
     "output_type": "execute_result"
    }
   ],
   "source": [
    "nan != nan"
   ]
  },
  {
   "cell_type": "code",
   "execution_count": 26,
   "id": "94da820a",
   "metadata": {},
   "outputs": [],
   "source": [
    "def is_nan(val):\n",
    "    return val != val"
   ]
  },
  {
   "cell_type": "code",
   "execution_count": 43,
   "id": "fc23dd6b",
   "metadata": {},
   "outputs": [
    {
     "data": {
      "text/plain": [
       "(True, False)"
      ]
     },
     "execution_count": 43,
     "metadata": {},
     "output_type": "execute_result"
    }
   ],
   "source": [
    "is_nan(nan), is_nan(None)"
   ]
  },
  {
   "cell_type": "code",
   "execution_count": 42,
   "id": "c497d847",
   "metadata": {},
   "outputs": [
    {
     "data": {
      "text/plain": [
       "(-inf, inf, nan)"
      ]
     },
     "execution_count": 42,
     "metadata": {},
     "output_type": "execute_result"
    }
   ],
   "source": [
    "float(\"-inf\"), float(\"inf\"), float(\"nan\")"
   ]
  },
  {
   "cell_type": "code",
   "execution_count": 44,
   "id": "7b053776",
   "metadata": {},
   "outputs": [
    {
     "data": {
      "text/plain": [
       "0.30000000000000004"
      ]
     },
     "execution_count": 44,
     "metadata": {},
     "output_type": "execute_result"
    }
   ],
   "source": [
    "0.1 + 0.2"
   ]
  },
  {
   "cell_type": "code",
   "execution_count": 46,
   "id": "9778e125",
   "metadata": {},
   "outputs": [
    {
     "data": {
      "text/plain": [
       "((3602879701896397, 36028797018963968), 0.1)"
      ]
     },
     "execution_count": 46,
     "metadata": {},
     "output_type": "execute_result"
    }
   ],
   "source": [
    "(0.1).as_integer_ratio(), 3602879701896397 / 36028797018963968"
   ]
  },
  {
   "cell_type": "code",
   "execution_count": 53,
   "id": "e0b2917f",
   "metadata": {},
   "outputs": [
    {
     "data": {
      "text/plain": [
       "((1, 2), (2296835809958953, 4503599627370496))"
      ]
     },
     "execution_count": 53,
     "metadata": {},
     "output_type": "execute_result"
    }
   ],
   "source": [
    "(0.5).as_integer_ratio(), (0.51).as_integer_ratio()"
   ]
  },
  {
   "cell_type": "code",
   "execution_count": 47,
   "id": "06acd45e",
   "metadata": {},
   "outputs": [
    {
     "data": {
      "text/plain": [
       "'0.1000000000000000055511151'"
      ]
     },
     "execution_count": 47,
     "metadata": {},
     "output_type": "execute_result"
    }
   ],
   "source": [
    "format(0.1, \".25f\")"
   ]
  },
  {
   "cell_type": "code",
   "execution_count": 49,
   "id": "c3b075ce",
   "metadata": {},
   "outputs": [
    {
     "data": {
      "text/plain": [
       "True"
      ]
     },
     "execution_count": 49,
     "metadata": {},
     "output_type": "execute_result"
    }
   ],
   "source": [
    "import math\n",
    "math.isclose(0.1 + 0.2, 0.3)"
   ]
  },
  {
   "cell_type": "code",
   "execution_count": 59,
   "id": "b29cc8c5",
   "metadata": {},
   "outputs": [
    {
     "data": {
      "text/plain": [
       "True"
      ]
     },
     "execution_count": 59,
     "metadata": {},
     "output_type": "execute_result"
    }
   ],
   "source": [
    "from decimal import Decimal\n",
    "Decimal(\"0.1\") + Decimal(\"0.2\") == Decimal(\"0.3\")"
   ]
  },
  {
   "cell_type": "code",
   "execution_count": 60,
   "id": "0001a3cf",
   "metadata": {},
   "outputs": [
    {
     "data": {
      "text/plain": [
       "Decimal('0.1428571428571428571428571429')"
      ]
     },
     "execution_count": 60,
     "metadata": {},
     "output_type": "execute_result"
    }
   ],
   "source": [
    "Decimal(1) / Decimal(7)"
   ]
  },
  {
   "cell_type": "code",
   "execution_count": 61,
   "id": "3b25020e",
   "metadata": {},
   "outputs": [
    {
     "data": {
      "text/plain": [
       "Fraction(1, 10)"
      ]
     },
     "execution_count": 61,
     "metadata": {},
     "output_type": "execute_result"
    }
   ],
   "source": [
    "from fractions import Fraction\n",
    "Fraction(1, 10)"
   ]
  },
  {
   "cell_type": "code",
   "execution_count": 64,
   "id": "1bb06da5",
   "metadata": {},
   "outputs": [
    {
     "data": {
      "text/plain": [
       "True"
      ]
     },
     "execution_count": 64,
     "metadata": {},
     "output_type": "execute_result"
    }
   ],
   "source": [
    "Fraction(1, 2) + Fraction(2, 3) == Fraction(7, 6)"
   ]
  },
  {
   "cell_type": "markdown",
   "id": "cf2e8c77",
   "metadata": {},
   "source": [
    "○ isalpha() - все символы строки являются буквами\n",
    "\n",
    "○ isascii()\n",
    "\n",
    "○ isidentifier() - может ли строка выступить в качестве названия переменной \n",
    "\n",
    "○ isalnum() - состоит ли строка из букв и чисел\n",
    "\n",
    "○ isdecimal() - проверяет представляет ли строка с собой число\n",
    "\n",
    "○ isdigit()\n",
    "\n",
    "○ isnumeric()"
   ]
  },
  {
   "cell_type": "code",
   "execution_count": 68,
   "id": "f7c8cf81",
   "metadata": {},
   "outputs": [
    {
     "data": {
      "text/plain": [
       "(True, False)"
      ]
     },
     "execution_count": 68,
     "metadata": {},
     "output_type": "execute_result"
    }
   ],
   "source": [
    "\"abderwer\".isalpha(), \"abd7686\".isalpha()"
   ]
  },
  {
   "cell_type": "code",
   "execution_count": 66,
   "id": "672b097e",
   "metadata": {},
   "outputs": [
    {
     "data": {
      "text/plain": [
       "(True, False)"
      ]
     },
     "execution_count": 66,
     "metadata": {},
     "output_type": "execute_result"
    }
   ],
   "source": [
    "\"abd7686\".isalnum(), \"abd_7686\".isalnum()"
   ]
  },
  {
   "cell_type": "code",
   "execution_count": 75,
   "id": "f1735350",
   "metadata": {},
   "outputs": [
    {
     "data": {
      "text/plain": [
       "(True, False)"
      ]
     },
     "execution_count": 75,
     "metadata": {},
     "output_type": "execute_result"
    }
   ],
   "source": [
    "\"7879\".isdigit(), \"78.79\".isdigit()"
   ]
  },
  {
   "cell_type": "code",
   "execution_count": null,
   "id": "017f7621",
   "metadata": {},
   "outputs": [],
   "source": [
    "\"7879\".isdecimal(), \"78.79\".isdecimal()"
   ]
  },
  {
   "cell_type": "code",
   "execution_count": 76,
   "id": "b0afd2df",
   "metadata": {},
   "outputs": [
    {
     "data": {
      "text/plain": [
       "(True, False)"
      ]
     },
     "execution_count": 76,
     "metadata": {},
     "output_type": "execute_result"
    }
   ],
   "source": [
    "\"7879\".isnumeric(), \"78.79\".isnumeric()"
   ]
  },
  {
   "cell_type": "code",
   "execution_count": 77,
   "id": "ec199825",
   "metadata": {},
   "outputs": [],
   "source": [
    "s1 = \"1²³⁵\""
   ]
  },
  {
   "cell_type": "code",
   "execution_count": 78,
   "id": "87019132",
   "metadata": {},
   "outputs": [],
   "source": [
    "s2 = \"2_334_534\""
   ]
  },
  {
   "cell_type": "code",
   "execution_count": 79,
   "id": "a2e624ea",
   "metadata": {},
   "outputs": [
    {
     "data": {
      "text/plain": [
       "(True, True, False)"
      ]
     },
     "execution_count": 79,
     "metadata": {},
     "output_type": "execute_result"
    }
   ],
   "source": [
    "s1.isdigit(), s1.isnumeric(), s1.isdecimal()"
   ]
  },
  {
   "cell_type": "code",
   "execution_count": 57,
   "id": "2d8fc09a",
   "metadata": {},
   "outputs": [
    {
     "data": {
      "text/plain": [
       "(False, False, False)"
      ]
     },
     "execution_count": 57,
     "metadata": {},
     "output_type": "execute_result"
    }
   ],
   "source": [
    "s2.isdigit(), s2.isnumeric(), s2.isdecimal()"
   ]
  },
  {
   "cell_type": "code",
   "execution_count": 58,
   "id": "3c8edab6",
   "metadata": {},
   "outputs": [
    {
     "ename": "ValueError",
     "evalue": "invalid literal for int() with base 10: '1²³⁵'",
     "output_type": "error",
     "traceback": [
      "\u001b[1;31m---------------------------------------------------------------------------\u001b[0m",
      "\u001b[1;31mValueError\u001b[0m                                Traceback (most recent call last)",
      "\u001b[1;32m<ipython-input-58-255292b12ee3>\u001b[0m in \u001b[0;36m<module>\u001b[1;34m\u001b[0m\n\u001b[1;32m----> 1\u001b[1;33m \u001b[0mint\u001b[0m\u001b[1;33m(\u001b[0m\u001b[0ms1\u001b[0m\u001b[1;33m)\u001b[0m\u001b[1;33m\u001b[0m\u001b[1;33m\u001b[0m\u001b[0m\n\u001b[0m",
      "\u001b[1;31mValueError\u001b[0m: invalid literal for int() with base 10: '1²³⁵'"
     ]
    }
   ],
   "source": [
    "int(s1)"
   ]
  },
  {
   "cell_type": "code",
   "execution_count": 39,
   "id": "69923b6a",
   "metadata": {},
   "outputs": [
    {
     "name": "stdout",
     "output_type": "stream",
     "text": [
      "2233534\n"
     ]
    }
   ],
   "source": [
    "i1 = 2_233_534, print(i1)"
   ]
  },
  {
   "cell_type": "code",
   "execution_count": null,
   "id": "e3ef4155",
   "metadata": {},
   "outputs": [],
   "source": [
    "○ startswith(prefix[, start[, end]]) \n",
    "○ endswith(suffix[, start[, end]])\n",
    "○ capitalize()\n",
    "○ upper()\n",
    "○ isupper()\n",
    "○ lower()\n",
    "○ islower()\n",
    "○ title()\n",
    "○ istitle()\n",
    "○ swapcase()\n",
    "○ isprintable()\n",
    "○ isspace()"
   ]
  },
  {
   "cell_type": "code",
   "execution_count": 87,
   "id": "7a2d1704",
   "metadata": {},
   "outputs": [
    {
     "data": {
      "text/plain": [
       "(True, True, True)"
      ]
     },
     "execution_count": 87,
     "metadata": {},
     "output_type": "execute_result"
    }
   ],
   "source": [
    "\"Hi! make\".startswith(\"H\"), \"Hi! make\".startswith(\"Hi!\"), \"Hi! make\".startswith(\" \", 3, 5)"
   ]
  },
  {
   "cell_type": "code",
   "execution_count": 96,
   "id": "0cb12b8e",
   "metadata": {},
   "outputs": [
    {
     "data": {
      "text/plain": [
       "(True, True)"
      ]
     },
     "execution_count": 96,
     "metadata": {},
     "output_type": "execute_result"
    }
   ],
   "source": [
    "\"Hi! make\".endswith(\"e\"), \"Hi! make\".endswith(\"ke\")"
   ]
  },
  {
   "cell_type": "code",
   "execution_count": 98,
   "id": "9b9f3dc8",
   "metadata": {},
   "outputs": [
    {
     "data": {
      "text/plain": [
       "'Hi, how are you? '"
      ]
     },
     "execution_count": 98,
     "metadata": {},
     "output_type": "execute_result"
    }
   ],
   "source": [
    "\"hi, how are you? \".capitalize()"
   ]
  },
  {
   "cell_type": "code",
   "execution_count": 100,
   "id": "b6258db0",
   "metadata": {},
   "outputs": [],
   "source": [
    "s1 = \"Привет дивный новый мир\""
   ]
  },
  {
   "cell_type": "code",
   "execution_count": 101,
   "id": "c127785c",
   "metadata": {},
   "outputs": [
    {
     "data": {
      "text/plain": [
       "('ПРИВЕТ ДИВНЫЙ НОВЫЙ МИР',\n",
       " 'привет дивный новый мир',\n",
       " 'пРИВЕТ ДИВНЫЙ НОВЫЙ МИР',\n",
       " 'Привет дивный новый мир',\n",
       " 'Привет дивный новый мир')"
      ]
     },
     "execution_count": 101,
     "metadata": {},
     "output_type": "execute_result"
    }
   ],
   "source": [
    "s1.upper(), s1.lower(), s1.swapcase(), s1.upper().capitalize(), s1.lower().capitalize()"
   ]
  },
  {
   "cell_type": "code",
   "execution_count": 103,
   "id": "a121d58e",
   "metadata": {},
   "outputs": [
    {
     "data": {
      "text/plain": [
       "'Hi, How Are You?'"
      ]
     },
     "execution_count": 103,
     "metadata": {},
     "output_type": "execute_result"
    }
   ],
   "source": [
    "\"hi, how are you?\".title()"
   ]
  },
  {
   "cell_type": "code",
   "execution_count": 104,
   "id": "7d905ac5",
   "metadata": {},
   "outputs": [
    {
     "data": {
      "text/plain": [
       "True"
      ]
     },
     "execution_count": 104,
     "metadata": {},
     "output_type": "execute_result"
    }
   ],
   "source": [
    "\"LKjlkjsdklfj\".isprintable()"
   ]
  },
  {
   "cell_type": "code",
   "execution_count": null,
   "id": "80c267c0",
   "metadata": {},
   "outputs": [],
   "source": []
  },
  {
   "cell_type": "code",
   "execution_count": 105,
   "id": "511cab66",
   "metadata": {},
   "outputs": [],
   "source": [
    "tags = [\"<a href='https://vk.com'>\", \"<body>\", \"<title>Социальная сеть</title>\"]"
   ]
  },
  {
   "cell_type": "code",
   "execution_count": 106,
   "id": "7478036a",
   "metadata": {},
   "outputs": [
    {
     "name": "stdout",
     "output_type": "stream",
     "text": [
      "Нашли гиперссылку\n",
      "Всё остальное\n",
      "Мы нашли заголовок\n"
     ]
    }
   ],
   "source": [
    "for tag in tags:\n",
    "    if tag.startswith('<a '):\n",
    "        print('Нашли гиперссылку')\n",
    "    elif tag.endswith('</title>'):\n",
    "        print('Мы нашли заголовок')\n",
    "    else:\n",
    "        print('Всё остальное')"
   ]
  },
  {
   "cell_type": "code",
   "execution_count": 107,
   "id": "d99fdee3",
   "metadata": {},
   "outputs": [
    {
     "data": {
      "text/plain": [
       "(True, True, False, False)"
      ]
     },
     "execution_count": 107,
     "metadata": {},
     "output_type": "execute_result"
    }
   ],
   "source": [
    "'a'.isprintable(), ' '.isprintable(), '\\t'.isprintable(), '\\r'.isprintable()"
   ]
  },
  {
   "cell_type": "code",
   "execution_count": 108,
   "id": "769c682b",
   "metadata": {},
   "outputs": [
    {
     "data": {
      "text/plain": [
       "(False, True, True, True)"
      ]
     },
     "execution_count": 108,
     "metadata": {},
     "output_type": "execute_result"
    }
   ],
   "source": [
    "'32'.isspace(), ' '.isspace(), '\\t'.isspace(), '\\n'.isspace()"
   ]
  },
  {
   "cell_type": "code",
   "execution_count": null,
   "id": "83307225",
   "metadata": {},
   "outputs": [],
   "source": [
    "○ count(sub[, start[, end]])\n",
    "○ find(sub[, start[, end]]), rfind(sub[, start[, end]])\n",
    "○ index(sub[, start[, end]]), rindex(sub[, start[, end]])\n",
    "○ replace(old, new[, count])\n",
    "○ center(width[, fillchar])\n",
    "○ encode(encoding='utf-8', errors='strict')\n",
    "○ expandtabs(tabsize=8)\n",
    "○ format(*args, **kwargs)\n",
    "○ ljust(width[, fillchar]) ,rjust(width[, fillchar])\n",
    "○ lstrip([chars]), strip([chars]), rstrip([chars])"
   ]
  },
  {
   "cell_type": "code",
   "execution_count": 113,
   "id": "3947eb2a",
   "metadata": {},
   "outputs": [
    {
     "data": {
      "text/plain": [
       "(3, 1, 2)"
      ]
     },
     "execution_count": 113,
     "metadata": {},
     "output_type": "execute_result"
    }
   ],
   "source": [
    "\"abcabcabb\".count(\"a\"), \"abcabcabb\".count(\"a\", -3, -1), \"abcabcabb\".count(\"abc\")"
   ]
  },
  {
   "cell_type": "code",
   "execution_count": 125,
   "id": "67899065",
   "metadata": {},
   "outputs": [
    {
     "data": {
      "text/plain": [
       "(2, 7, 6, -1)"
      ]
     },
     "execution_count": 125,
     "metadata": {},
     "output_type": "execute_result"
    }
   ],
   "source": [
    "\"abcabcabb\".find(\"c\"), \"abcabcabb\".find(\"bb\"), \"abcabcabb\".rfind(\"a\"), \"abcabcabb\".find(\"g\")"
   ]
  },
  {
   "cell_type": "code",
   "execution_count": 123,
   "id": "3c712039",
   "metadata": {},
   "outputs": [
    {
     "data": {
      "text/plain": [
       "(2, 7, 6)"
      ]
     },
     "execution_count": 123,
     "metadata": {},
     "output_type": "execute_result"
    }
   ],
   "source": [
    "\"abcabcabb\".index(\"c\"), \"abcabcabb\".index(\"bb\"), \"abcabcabb\".rindex(\"a\")"
   ]
  },
  {
   "cell_type": "code",
   "execution_count": 127,
   "id": "80102e7f",
   "metadata": {},
   "outputs": [
    {
     "ename": "ValueError",
     "evalue": "substring not found",
     "output_type": "error",
     "traceback": [
      "\u001b[1;31m---------------------------------------------------------------------------\u001b[0m",
      "\u001b[1;31mValueError\u001b[0m                                Traceback (most recent call last)",
      "\u001b[1;32m<ipython-input-127-032114ab1055>\u001b[0m in \u001b[0;36m<module>\u001b[1;34m\u001b[0m\n\u001b[1;32m----> 1\u001b[1;33m \u001b[1;34m\"abcabcabb\"\u001b[0m\u001b[1;33m.\u001b[0m\u001b[0mindex\u001b[0m\u001b[1;33m(\u001b[0m\u001b[1;34m\"g\"\u001b[0m\u001b[1;33m)\u001b[0m\u001b[1;33m\u001b[0m\u001b[1;33m\u001b[0m\u001b[0m\n\u001b[0m",
      "\u001b[1;31mValueError\u001b[0m: substring not found"
     ]
    }
   ],
   "source": [
    "\"abcabcabb\".index(\"g\")"
   ]
  },
  {
   "cell_type": "code",
   "execution_count": 131,
   "id": "a11f7cae",
   "metadata": {},
   "outputs": [
    {
     "data": {
      "text/plain": [
       "('abCabCabb', 'abcabcaB', 'abGGGGb')"
      ]
     },
     "execution_count": 131,
     "metadata": {},
     "output_type": "execute_result"
    }
   ],
   "source": [
    "\"abcabcabb\".replace(\"c\", \"C\"), \"abcabcabb\".replace(\"bb\", \"B\"), \"abcabcabb\".replace(\"cab\", \"GG\")"
   ]
  },
  {
   "cell_type": "code",
   "execution_count": 155,
   "id": "f04f04e5",
   "metadata": {},
   "outputs": [
    {
     "data": {
      "text/plain": [
       "('FaaaF', 'aaa')"
      ]
     },
     "execution_count": 155,
     "metadata": {},
     "output_type": "execute_result"
    }
   ],
   "source": [
    "\"aaa\".center(5, \"F\"), \"aaa\".center(3, \"X\")"
   ]
  },
  {
   "cell_type": "code",
   "execution_count": 156,
   "id": "61ccf93f",
   "metadata": {},
   "outputs": [],
   "source": [
    "s3 = 'www'"
   ]
  },
  {
   "cell_type": "code",
   "execution_count": 157,
   "id": "fb447d80",
   "metadata": {},
   "outputs": [
    {
     "data": {
      "text/plain": [
       "('www   ', '#######www')"
      ]
     },
     "execution_count": 157,
     "metadata": {},
     "output_type": "execute_result"
    }
   ],
   "source": [
    "s3.ljust(6,), s3.rjust(10, '#')"
   ]
  },
  {
   "cell_type": "code",
   "execution_count": 164,
   "id": "3d356331",
   "metadata": {},
   "outputs": [],
   "source": [
    "s4 = '     \\nabcdef \\n\\r'"
   ]
  },
  {
   "cell_type": "code",
   "execution_count": 165,
   "id": "c73b9f56",
   "metadata": {},
   "outputs": [
    {
     "data": {
      "text/plain": [
       "('abcdef', '     \\nabcdef', 'abcdef \\n\\r')"
      ]
     },
     "execution_count": 165,
     "metadata": {},
     "output_type": "execute_result"
    }
   ],
   "source": [
    "s4.strip(), s4.rstrip(), s4.lstrip()"
   ]
  },
  {
   "cell_type": "code",
   "execution_count": 166,
   "id": "5ee8b2bd",
   "metadata": {},
   "outputs": [
    {
     "data": {
      "text/plain": [
       "'cfef\\n '"
      ]
     },
     "execution_count": 166,
     "metadata": {},
     "output_type": "execute_result"
    }
   ],
   "source": [
    "'abcfef\\n '.strip('ba')"
   ]
  },
  {
   "cell_type": "code",
   "execution_count": 167,
   "id": "86094ebd",
   "metadata": {},
   "outputs": [
    {
     "data": {
      "text/plain": [
       "'=====hello====='"
      ]
     },
     "execution_count": 167,
     "metadata": {},
     "output_type": "execute_result"
    }
   ],
   "source": [
    "'hello'.center(15, '=')"
   ]
  },
  {
   "cell_type": "code",
   "execution_count": 168,
   "id": "018fa8eb",
   "metadata": {},
   "outputs": [
    {
     "data": {
      "text/plain": [
       "(1, 3)"
      ]
     },
     "execution_count": 168,
     "metadata": {},
     "output_type": "execute_result"
    }
   ],
   "source": [
    "s5 = 'abdaadc'\n",
    "'abdaadc'.count('ab'), 'banana'.find('ana', 2)"
   ]
  },
  {
   "cell_type": "code",
   "execution_count": 169,
   "id": "29f8b286",
   "metadata": {},
   "outputs": [
    {
     "data": {
      "text/plain": [
       "('\\tHello\\t', '    Hello   ')"
      ]
     },
     "execution_count": 169,
     "metadata": {},
     "output_type": "execute_result"
    }
   ],
   "source": [
    "tabsstr = '\\tHello\\t'\n",
    "tabsstr, tabsstr.expandtabs(4)"
   ]
  },
  {
   "cell_type": "code",
   "execution_count": 170,
   "id": "fbbf16ff",
   "metadata": {},
   "outputs": [
    {
     "name": "stdout",
     "output_type": "stream",
     "text": [
      "\tHello\t\n"
     ]
    }
   ],
   "source": [
    "print(tabsstr)"
   ]
  },
  {
   "cell_type": "code",
   "execution_count": null,
   "id": "3306fd26",
   "metadata": {},
   "outputs": [],
   "source": [
    "○ split(sep=None, maxsplit=-1), rsplit(sep=None, maxsplit=-1)\n",
    "○ splitlines(keepends=False)\n",
    "○ partition(sep), rpartition(sep)\n",
    "○ join(iterable)\n",
    "○ zfill(width)\n",
    "○ removeprefix(prefix, /)\n",
    "○ removesuffix(suffix, /)"
   ]
  },
  {
   "cell_type": "code",
   "execution_count": 171,
   "id": "6b41310f",
   "metadata": {},
   "outputs": [
    {
     "data": {
      "text/plain": [
       "['Я  вас люблю чего же более ', ' что я могу ', ' ещё сказать']"
      ]
     },
     "execution_count": 171,
     "metadata": {},
     "output_type": "execute_result"
    }
   ],
   "source": [
    "res = \"Я  вас люблю чего же более =*_*= что я могу =*_*= ещё сказать\".split('=*_*=')\n",
    "res"
   ]
  },
  {
   "cell_type": "code",
   "execution_count": 172,
   "id": "2106257a",
   "metadata": {},
   "outputs": [
    {
     "data": {
      "text/plain": [
       "('Я  вас люблю чего же более ', '=*_*=', ' что я могу =*_*= ещё сказать')"
      ]
     },
     "execution_count": 172,
     "metadata": {},
     "output_type": "execute_result"
    }
   ],
   "source": [
    "\"Я  вас люблю чего же более =*_*= что я могу =*_*= ещё сказать\".partition('=*_*=')"
   ]
  },
  {
   "cell_type": "code",
   "execution_count": 173,
   "id": "78649f21",
   "metadata": {},
   "outputs": [
    {
     "data": {
      "text/plain": [
       "'00000Hello'"
      ]
     },
     "execution_count": 173,
     "metadata": {},
     "output_type": "execute_result"
    }
   ],
   "source": [
    "\"Hello\".zfill(10)"
   ]
  },
  {
   "cell_type": "code",
   "execution_count": 174,
   "id": "0640b38c",
   "metadata": {},
   "outputs": [
    {
     "data": {
      "text/plain": [
       "'hello, how, are, you'"
      ]
     },
     "execution_count": 174,
     "metadata": {},
     "output_type": "execute_result"
    }
   ],
   "source": [
    "\", \".join([\"hello\", 'how', 'are', 'you'])"
   ]
  },
  {
   "cell_type": "code",
   "execution_count": 112,
   "id": "c5c9e175",
   "metadata": {},
   "outputs": [
    {
     "data": {
      "text/plain": [
       "True"
      ]
     },
     "execution_count": 112,
     "metadata": {},
     "output_type": "execute_result"
    }
   ],
   "source": [
    "'=*_*='.join(res) == \"Я  вас люблю чего же более =*_*= что я могу =*_*= ещё сказать\""
   ]
  },
  {
   "cell_type": "code",
   "execution_count": 175,
   "id": "3083d2fc",
   "metadata": {},
   "outputs": [],
   "source": [
    "s6 = 'word1 word2\\nlin2\\nline3'"
   ]
  },
  {
   "cell_type": "code",
   "execution_count": 178,
   "id": "a313cd5c",
   "metadata": {},
   "outputs": [
    {
     "data": {
      "text/plain": [
       "(['word1 word2', 'lin2', 'line3'], ['word1', 'word2', 'lin2', 'line3'])"
      ]
     },
     "execution_count": 178,
     "metadata": {},
     "output_type": "execute_result"
    }
   ],
   "source": [
    "s6.splitlines(), s6.split()"
   ]
  },
  {
   "cell_type": "code",
   "execution_count": 119,
   "id": "8e7c19b0",
   "metadata": {},
   "outputs": [],
   "source": [
    "import collections"
   ]
  },
  {
   "cell_type": "code",
   "execution_count": 121,
   "id": "a47e9896",
   "metadata": {},
   "outputs": [],
   "source": [
    "Country = collections.namedtuple('Country', ['name', 'population', 'area'])"
   ]
  },
  {
   "cell_type": "code",
   "execution_count": 124,
   "id": "8cae0fe0",
   "metadata": {},
   "outputs": [],
   "source": [
    "south_africa = Country('South Africa', 5931 * 10 ** 4, 1.2 * 10 ** 6)"
   ]
  },
  {
   "cell_type": "code",
   "execution_count": 125,
   "id": "b4936023",
   "metadata": {},
   "outputs": [
    {
     "name": "stdout",
     "output_type": "stream",
     "text": [
      "Country(name='South Africa', population=59310000, area=1200000.0)\n"
     ]
    }
   ],
   "source": [
    "print(south_africa)"
   ]
  },
  {
   "cell_type": "code",
   "execution_count": 133,
   "id": "68eb4be7",
   "metadata": {},
   "outputs": [],
   "source": [
    "south_africa = south_africa._replace(population=5941 * 10 ** 4)"
   ]
  },
  {
   "cell_type": "code",
   "execution_count": 134,
   "id": "ec76cb31",
   "metadata": {},
   "outputs": [
    {
     "data": {
      "text/plain": [
       "Country(name='South Africa', population=59410000, area=1200000.0)"
      ]
     },
     "execution_count": 134,
     "metadata": {},
     "output_type": "execute_result"
    }
   ],
   "source": [
    "south_africa"
   ]
  },
  {
   "cell_type": "code",
   "execution_count": 153,
   "id": "b5c1aa1f",
   "metadata": {},
   "outputs": [],
   "source": [
    "d = {}\n",
    "d1 = collections.defaultdict(int)"
   ]
  },
  {
   "cell_type": "code",
   "execution_count": 156,
   "id": "12b42705",
   "metadata": {},
   "outputs": [],
   "source": [
    "for i in [1,2,1,3,4,2]:\n",
    "    if i not in d:\n",
    "        d[i] = 0\n",
    "        d1[i] = int()\n",
    "    d[i] += 1\n",
    "    d1[i] += 1"
   ]
  },
  {
   "cell_type": "code",
   "execution_count": 157,
   "id": "de861a36",
   "metadata": {},
   "outputs": [
    {
     "data": {
      "text/plain": [
       "({1: 4, 2: 4, 3: 2, 4: 2}, defaultdict(int, {1: 4, 2: 4, 3: 2, 4: 2}), True)"
      ]
     },
     "execution_count": 157,
     "metadata": {},
     "output_type": "execute_result"
    }
   ],
   "source": [
    "d, d1, isinstance(d1, dict)"
   ]
  },
  {
   "cell_type": "code",
   "execution_count": 158,
   "id": "91e7a9a0",
   "metadata": {},
   "outputs": [
    {
     "data": {
      "text/plain": [
       "0"
      ]
     },
     "execution_count": 158,
     "metadata": {},
     "output_type": "execute_result"
    }
   ],
   "source": [
    "int()"
   ]
  },
  {
   "cell_type": "code",
   "execution_count": 164,
   "id": "0fcf5ada",
   "metadata": {},
   "outputs": [],
   "source": [
    "lst = ['Алёна','Арчибальда', 'Геннадий', 'Светлана', 'Арчибальда', 'Геннадий', 'Арчибальда']"
   ]
  },
  {
   "cell_type": "code",
   "execution_count": 165,
   "id": "0f7c0825",
   "metadata": {},
   "outputs": [],
   "source": [
    "c = collections.Counter(lst)"
   ]
  },
  {
   "cell_type": "code",
   "execution_count": 166,
   "id": "b2353090",
   "metadata": {},
   "outputs": [
    {
     "data": {
      "text/plain": [
       "Counter({'Алёна': 1, 'Арчибальда': 3, 'Геннадий': 2, 'Светлана': 1})"
      ]
     },
     "execution_count": 166,
     "metadata": {},
     "output_type": "execute_result"
    }
   ],
   "source": [
    "c"
   ]
  },
  {
   "cell_type": "code",
   "execution_count": 167,
   "id": "87366fed",
   "metadata": {},
   "outputs": [
    {
     "data": {
      "text/plain": [
       "['Алёна',\n",
       " 'Арчибальда',\n",
       " 'Арчибальда',\n",
       " 'Арчибальда',\n",
       " 'Геннадий',\n",
       " 'Геннадий',\n",
       " 'Светлана']"
      ]
     },
     "execution_count": 167,
     "metadata": {},
     "output_type": "execute_result"
    }
   ],
   "source": [
    "list(c.elements())"
   ]
  },
  {
   "cell_type": "code",
   "execution_count": 169,
   "id": "c2ac9dc9",
   "metadata": {},
   "outputs": [
    {
     "data": {
      "text/plain": [
       "[('Арчибальда', 3), ('Геннадий', 2)]"
      ]
     },
     "execution_count": 169,
     "metadata": {},
     "output_type": "execute_result"
    }
   ],
   "source": [
    "c.most_common(2)"
   ]
  },
  {
   "cell_type": "code",
   "execution_count": 174,
   "id": "0a54231c",
   "metadata": {},
   "outputs": [],
   "source": [
    "d = collections.deque()"
   ]
  },
  {
   "cell_type": "code",
   "execution_count": 175,
   "id": "01b3fb7b",
   "metadata": {},
   "outputs": [],
   "source": [
    "d.append(1)\n",
    "d.append(2)\n",
    "d.append(3)"
   ]
  },
  {
   "cell_type": "code",
   "execution_count": 176,
   "id": "99bcd22c",
   "metadata": {},
   "outputs": [
    {
     "data": {
      "text/plain": [
       "deque([1, 2, 3])"
      ]
     },
     "execution_count": 176,
     "metadata": {},
     "output_type": "execute_result"
    }
   ],
   "source": [
    "d"
   ]
  },
  {
   "cell_type": "code",
   "execution_count": 178,
   "id": "d071ceef",
   "metadata": {},
   "outputs": [],
   "source": [
    "d.appendleft(10)"
   ]
  },
  {
   "cell_type": "code",
   "execution_count": 180,
   "id": "32bcd61f",
   "metadata": {},
   "outputs": [],
   "source": [
    "d.extendleft([5,6,7])"
   ]
  },
  {
   "cell_type": "code",
   "execution_count": 181,
   "id": "e6abf430",
   "metadata": {},
   "outputs": [
    {
     "data": {
      "text/plain": [
       "deque([7, 6, 5, 10, 1, 2, 3])"
      ]
     },
     "execution_count": 181,
     "metadata": {},
     "output_type": "execute_result"
    }
   ],
   "source": [
    "d"
   ]
  },
  {
   "cell_type": "code",
   "execution_count": 182,
   "id": "1fecf6a8",
   "metadata": {},
   "outputs": [],
   "source": [
    "d.append([10,23,23])"
   ]
  },
  {
   "cell_type": "code",
   "execution_count": 184,
   "id": "7846c0a2",
   "metadata": {},
   "outputs": [
    {
     "data": {
      "text/plain": [
       "[10, 23, 23]"
      ]
     },
     "execution_count": 184,
     "metadata": {},
     "output_type": "execute_result"
    }
   ],
   "source": [
    "d.pop()"
   ]
  },
  {
   "cell_type": "code",
   "execution_count": 185,
   "id": "52cec357",
   "metadata": {},
   "outputs": [
    {
     "data": {
      "text/plain": [
       "deque([7, 6, 5, 10, 1, 2, 3])"
      ]
     },
     "execution_count": 185,
     "metadata": {},
     "output_type": "execute_result"
    }
   ],
   "source": [
    "d"
   ]
  },
  {
   "cell_type": "code",
   "execution_count": 186,
   "id": "cf322d0f",
   "metadata": {},
   "outputs": [
    {
     "data": {
      "text/plain": [
       "7"
      ]
     },
     "execution_count": 186,
     "metadata": {},
     "output_type": "execute_result"
    }
   ],
   "source": [
    "d[0]"
   ]
  },
  {
   "cell_type": "code",
   "execution_count": 187,
   "id": "0274182e",
   "metadata": {},
   "outputs": [],
   "source": [
    "import functools"
   ]
  },
  {
   "cell_type": "code",
   "execution_count": 206,
   "id": "d51bfa0c",
   "metadata": {},
   "outputs": [],
   "source": [
    "#@functools.lru_cache(maxsize=100)\n",
    "def fib(n):\n",
    "    if n <= 1:\n",
    "        return n\n",
    "    return fib(n-1) + fib(n-2)"
   ]
  },
  {
   "cell_type": "code",
   "execution_count": 211,
   "id": "36e36e0c",
   "metadata": {},
   "outputs": [
    {
     "name": "stdout",
     "output_type": "stream",
     "text": [
      "CPU times: user 117 µs, sys: 24 µs, total: 141 µs\n",
      "Wall time: 163 µs\n"
     ]
    },
    {
     "data": {
      "text/plain": [
       "354224848179261915075"
      ]
     },
     "execution_count": 211,
     "metadata": {},
     "output_type": "execute_result"
    }
   ],
   "source": [
    "%%time\n",
    "fib(40)\n",
    "\n",
    "fibd = functools.cache(fib)\n",
    "fibd(100)"
   ]
  },
  {
   "cell_type": "code",
   "execution_count": 216,
   "id": "57b8183f",
   "metadata": {},
   "outputs": [],
   "source": [
    "def deco(func):\n",
    "    @functools.wraps(func)\n",
    "    def wrapper(*args, **kwargs):\n",
    "        res = func(*args, **kwargs)\n",
    "        print(f\"Executin {func.__name__}\")\n",
    "        return res\n",
    "    return wrapper"
   ]
  },
  {
   "cell_type": "code",
   "execution_count": 217,
   "id": "5e67cc9c",
   "metadata": {},
   "outputs": [],
   "source": [
    "@deco\n",
    "def add(a, b):\n",
    "    return a + b"
   ]
  },
  {
   "cell_type": "code",
   "execution_count": 218,
   "id": "64209209",
   "metadata": {},
   "outputs": [
    {
     "name": "stdout",
     "output_type": "stream",
     "text": [
      "Executin add\n"
     ]
    },
    {
     "data": {
      "text/plain": [
       "14"
      ]
     },
     "execution_count": 218,
     "metadata": {},
     "output_type": "execute_result"
    }
   ],
   "source": [
    "add(10, 4)"
   ]
  },
  {
   "cell_type": "code",
   "execution_count": 219,
   "id": "5d1a8f1b",
   "metadata": {},
   "outputs": [
    {
     "data": {
      "text/plain": [
       "'add'"
      ]
     },
     "execution_count": 219,
     "metadata": {},
     "output_type": "execute_result"
    }
   ],
   "source": [
    "add.__name__"
   ]
  },
  {
   "cell_type": "code",
   "execution_count": 222,
   "id": "bbdd01b6",
   "metadata": {},
   "outputs": [
    {
     "data": {
      "text/plain": [
       "12"
      ]
     },
     "execution_count": 222,
     "metadata": {},
     "output_type": "execute_result"
    }
   ],
   "source": [
    "add.__wrapped__(10, 2)"
   ]
  },
  {
   "cell_type": "code",
   "execution_count": 223,
   "id": "711243d2",
   "metadata": {},
   "outputs": [],
   "source": [
    "import itertools"
   ]
  },
  {
   "cell_type": "code",
   "execution_count": 226,
   "id": "12834c0a",
   "metadata": {},
   "outputs": [
    {
     "name": "stdout",
     "output_type": "stream",
     "text": [
      "0\n",
      "3\n",
      "6\n",
      "9\n",
      "12\n",
      "15\n",
      "18\n",
      "21\n",
      "24\n",
      "27\n",
      "30\n",
      "33\n",
      "36\n",
      "39\n",
      "42\n",
      "45\n",
      "48\n",
      "51\n",
      "54\n",
      "57\n",
      "60\n",
      "63\n",
      "66\n",
      "69\n",
      "72\n",
      "75\n",
      "78\n",
      "81\n",
      "84\n",
      "87\n",
      "90\n",
      "93\n",
      "96\n",
      "99\n",
      "102\n"
     ]
    }
   ],
   "source": [
    "for i in itertools.count(0, 3):\n",
    "    print(i)\n",
    "    if i > 100:\n",
    "        break"
   ]
  },
  {
   "cell_type": "code",
   "execution_count": 230,
   "id": "6efbc537",
   "metadata": {},
   "outputs": [
    {
     "data": {
      "text/plain": [
       "['Алёна',\n",
       " 'Арчибальда',\n",
       " 'Геннадий',\n",
       " 'Светлана',\n",
       " 'Арчибальда',\n",
       " 'Геннадий',\n",
       " 'Арчибальда']"
      ]
     },
     "execution_count": 230,
     "metadata": {},
     "output_type": "execute_result"
    }
   ],
   "source": [
    "cycle = itertools.cycle(lst)\n",
    "lst"
   ]
  },
  {
   "cell_type": "code",
   "execution_count": 229,
   "id": "46144368",
   "metadata": {},
   "outputs": [
    {
     "name": "stdout",
     "output_type": "stream",
     "text": [
      "Алёна\n",
      "Арчибальда\n",
      "Геннадий\n",
      "Светлана\n",
      "Арчибальда\n",
      "Геннадий\n",
      "Арчибальда\n",
      "Алёна\n",
      "Арчибальда\n",
      "Геннадий\n",
      "Светлана\n",
      "Арчибальда\n",
      "Геннадий\n",
      "Арчибальда\n",
      "Алёна\n",
      "Арчибальда\n",
      "Геннадий\n",
      "Светлана\n",
      "Арчибальда\n",
      "Геннадий\n"
     ]
    }
   ],
   "source": [
    "for _ in range(20):\n",
    "    name = next(cycle)\n",
    "    print(name)"
   ]
  },
  {
   "cell_type": "code",
   "execution_count": 239,
   "id": "3ea7ac7b",
   "metadata": {},
   "outputs": [],
   "source": [
    "repeater = itertools.repeat(\"Таксы\")"
   ]
  },
  {
   "cell_type": "code",
   "execution_count": 240,
   "id": "e9886c6f",
   "metadata": {},
   "outputs": [
    {
     "name": "stdout",
     "output_type": "stream",
     "text": [
      "Таксы\n",
      "Таксы\n",
      "Таксы\n",
      "Таксы\n",
      "Таксы\n"
     ]
    }
   ],
   "source": [
    "for _ in range(5):\n",
    "    name = next(repeater)\n",
    "    print(name)"
   ]
  },
  {
   "cell_type": "code",
   "execution_count": 241,
   "id": "08f86da1",
   "metadata": {},
   "outputs": [],
   "source": [
    "lst = [1, 2, 3, 4, 5, 6]"
   ]
  },
  {
   "cell_type": "code",
   "execution_count": 246,
   "id": "262a391d",
   "metadata": {},
   "outputs": [
    {
     "data": {
      "text/plain": [
       "[10, 11, 13, 16, 20, 25, 31]"
      ]
     },
     "execution_count": 246,
     "metadata": {},
     "output_type": "execute_result"
    }
   ],
   "source": [
    "list(itertools.accumulate(lst, initial=10))"
   ]
  },
  {
   "cell_type": "code",
   "execution_count": 250,
   "id": "70d6bdca",
   "metadata": {},
   "outputs": [
    {
     "data": {
      "text/plain": [
       "31"
      ]
     },
     "execution_count": 250,
     "metadata": {},
     "output_type": "execute_result"
    }
   ],
   "source": [
    "functools.reduce(lambda a,b: a + b, lst, 10)"
   ]
  },
  {
   "cell_type": "code",
   "execution_count": 252,
   "id": "3fbf99ed",
   "metadata": {},
   "outputs": [
    {
     "name": "stdout",
     "output_type": "stream",
     "text": [
      "1\n",
      "2\n",
      "3\n",
      "10\n",
      "20\n",
      "30\n",
      "h\n",
      "e\n",
      "l\n",
      "l\n",
      "o\n"
     ]
    }
   ],
   "source": [
    "for it in itertools.chain([1,2,3], [10, 20, 30], \"hello\"):\n",
    "    print(it)"
   ]
  },
  {
   "cell_type": "code",
   "execution_count": 255,
   "id": "261ae9a6",
   "metadata": {},
   "outputs": [
    {
     "data": {
      "text/plain": [
       "[45]"
      ]
     },
     "execution_count": 255,
     "metadata": {},
     "output_type": "execute_result"
    }
   ],
   "source": [
    "list(itertools.dropwhile(lambda x: x % 2 == 0, [2, 4, 12, 2, 10, 45]))"
   ]
  },
  {
   "cell_type": "code",
   "execution_count": 256,
   "id": "842c7004",
   "metadata": {},
   "outputs": [
    {
     "data": {
      "text/plain": [
       "[2, 4, 12, 2, 10]"
      ]
     },
     "execution_count": 256,
     "metadata": {},
     "output_type": "execute_result"
    }
   ],
   "source": [
    "list(itertools.takewhile(lambda x: x % 2 == 0, [2, 4, 12, 2, 10, 45]))"
   ]
  },
  {
   "cell_type": "code",
   "execution_count": 273,
   "id": "63a0d3bc",
   "metadata": {},
   "outputs": [
    {
     "data": {
      "text/plain": [
       "3"
      ]
     },
     "execution_count": 273,
     "metadata": {},
     "output_type": "execute_result"
    }
   ],
   "source": [
    "lst = [1,2 ,3] * 3\n",
    "lst.pop()"
   ]
  },
  {
   "cell_type": "code",
   "execution_count": 276,
   "id": "837e8134",
   "metadata": {},
   "outputs": [
    {
     "name": "stdout",
     "output_type": "stream",
     "text": [
      "[1, 1, 1, 2, 2, 2, 3, 3]\n"
     ]
    }
   ],
   "source": [
    "lst.sort()\n",
    "print(lst)"
   ]
  },
  {
   "cell_type": "code",
   "execution_count": 277,
   "id": "b6add1a4",
   "metadata": {},
   "outputs": [
    {
     "name": "stdout",
     "output_type": "stream",
     "text": [
      "key=1 [1, 1, 1]\n",
      "key=2 [2, 2, 2]\n",
      "key=3 [3, 3]\n"
     ]
    }
   ],
   "source": [
    "for key, it in itertools.groupby(lst):\n",
    "    print(f\"{key=}\", list(it))"
   ]
  },
  {
   "cell_type": "code",
   "execution_count": null,
   "id": "4e732e8e",
   "metadata": {},
   "outputs": [],
   "source": []
  }
 ],
 "metadata": {
  "kernelspec": {
   "display_name": "Python 3",
   "language": "python",
   "name": "python3"
  },
  "language_info": {
   "codemirror_mode": {
    "name": "ipython",
    "version": 3
   },
   "file_extension": ".py",
   "mimetype": "text/x-python",
   "name": "python",
   "nbconvert_exporter": "python",
   "pygments_lexer": "ipython3",
   "version": "3.8.5"
  }
 },
 "nbformat": 4,
 "nbformat_minor": 5
}
