{
 "cells": [
  {
   "cell_type": "code",
   "execution_count": 9,
   "id": "e4cfe0e7",
   "metadata": {},
   "outputs": [
    {
     "name": "stdout",
     "output_type": "stream",
     "text": [
      "6\n",
      "4\n",
      "-6\n",
      "-4\n"
     ]
    }
   ],
   "source": [
    "# Бухгалтерское округление - до ближайшего четного числа\n",
    "print(round(6.5))\n",
    "print(round(3.5))\n",
    "print(round(-6.5))\n",
    "print(round(-3.5))"
   ]
  },
  {
   "cell_type": "code",
   "execution_count": 15,
   "id": "11cf8ba8",
   "metadata": {},
   "outputs": [
    {
     "name": "stdout",
     "output_type": "stream",
     "text": [
      "7.3\n",
      "6.5\n",
      "7.33\n",
      "6.42\n"
     ]
    }
   ],
   "source": [
    "print(round(7.35, 1))\n",
    "print(round(6.45, 1))\n",
    "\n",
    "print(round(7.325, 2))\n",
    "print(round(6.415, 2))"
   ]
  },
  {
   "cell_type": "code",
   "execution_count": 40,
   "id": "11c3a897",
   "metadata": {},
   "outputs": [
    {
     "data": {
      "text/plain": [
       "(13, 13)"
      ]
     },
     "execution_count": 40,
     "metadata": {},
     "output_type": "execute_result"
    }
   ],
   "source": [
    "int(\"16\", 7), 7**1 * 1 + 7**0 * 6"
   ]
  },
  {
   "cell_type": "code",
   "execution_count": 41,
   "id": "121bc84c",
   "metadata": {},
   "outputs": [
    {
     "data": {
      "text/plain": [
       "float"
      ]
     },
     "execution_count": 41,
     "metadata": {},
     "output_type": "execute_result"
    }
   ],
   "source": [
    "# nan - not a number\n",
    "nan = float('nan')\n",
    "type(nan)"
   ]
  },
  {
   "cell_type": "code",
   "execution_count": 25,
   "id": "943b6edf",
   "metadata": {},
   "outputs": [
    {
     "data": {
      "text/plain": [
       "True"
      ]
     },
     "execution_count": 25,
     "metadata": {},
     "output_type": "execute_result"
    }
   ],
   "source": [
    "nan != nan"
   ]
  },
  {
   "cell_type": "code",
   "execution_count": 26,
   "id": "c467f2b2",
   "metadata": {},
   "outputs": [],
   "source": [
    "def is_nan(val):\n",
    "    return val != val"
   ]
  },
  {
   "cell_type": "code",
   "execution_count": 43,
   "id": "5727b448",
   "metadata": {},
   "outputs": [
    {
     "data": {
      "text/plain": [
       "(True, False)"
      ]
     },
     "execution_count": 43,
     "metadata": {},
     "output_type": "execute_result"
    }
   ],
   "source": [
    "is_nan(nan), is_nan(None)"
   ]
  },
  {
   "cell_type": "code",
   "execution_count": 42,
   "id": "caf51fdf",
   "metadata": {},
   "outputs": [
    {
     "data": {
      "text/plain": [
       "(-inf, inf, nan)"
      ]
     },
     "execution_count": 42,
     "metadata": {},
     "output_type": "execute_result"
    }
   ],
   "source": [
    "float(\"-inf\"), float(\"inf\"), float(\"nan\")"
   ]
  },
  {
   "cell_type": "code",
   "execution_count": 44,
   "id": "5c8e3c13",
   "metadata": {},
   "outputs": [
    {
     "data": {
      "text/plain": [
       "0.30000000000000004"
      ]
     },
     "execution_count": 44,
     "metadata": {},
     "output_type": "execute_result"
    }
   ],
   "source": [
    "0.1 + 0.2"
   ]
  },
  {
   "cell_type": "code",
   "execution_count": 46,
   "id": "a791464b",
   "metadata": {},
   "outputs": [
    {
     "data": {
      "text/plain": [
       "((3602879701896397, 36028797018963968), 0.1)"
      ]
     },
     "execution_count": 46,
     "metadata": {},
     "output_type": "execute_result"
    }
   ],
   "source": [
    "(0.1).as_integer_ratio(), 3602879701896397 / 36028797018963968"
   ]
  },
  {
   "cell_type": "code",
   "execution_count": 53,
   "id": "1d69893d",
   "metadata": {},
   "outputs": [
    {
     "data": {
      "text/plain": [
       "((1, 2), (2296835809958953, 4503599627370496))"
      ]
     },
     "execution_count": 53,
     "metadata": {},
     "output_type": "execute_result"
    }
   ],
   "source": [
    "(0.5).as_integer_ratio(), (0.51).as_integer_ratio()"
   ]
  },
  {
   "cell_type": "code",
   "execution_count": 47,
   "id": "84490638",
   "metadata": {},
   "outputs": [
    {
     "data": {
      "text/plain": [
       "'0.1000000000000000055511151'"
      ]
     },
     "execution_count": 47,
     "metadata": {},
     "output_type": "execute_result"
    }
   ],
   "source": [
    "format(0.1, \".25f\")"
   ]
  },
  {
   "cell_type": "code",
   "execution_count": 49,
   "id": "2c8f68f4",
   "metadata": {},
   "outputs": [
    {
     "data": {
      "text/plain": [
       "True"
      ]
     },
     "execution_count": 49,
     "metadata": {},
     "output_type": "execute_result"
    }
   ],
   "source": [
    "import math\n",
    "math.isclose(0.1 + 0.2, 0.3)"
   ]
  },
  {
   "cell_type": "code",
   "execution_count": 59,
   "id": "0b47f39e",
   "metadata": {},
   "outputs": [
    {
     "data": {
      "text/plain": [
       "True"
      ]
     },
     "execution_count": 59,
     "metadata": {},
     "output_type": "execute_result"
    }
   ],
   "source": [
    "from decimal import Decimal\n",
    "Decimal(\"0.1\") + Decimal(\"0.2\") == Decimal(\"0.3\")"
   ]
  },
  {
   "cell_type": "code",
   "execution_count": 60,
   "id": "05cae090",
   "metadata": {},
   "outputs": [
    {
     "data": {
      "text/plain": [
       "Decimal('0.1428571428571428571428571429')"
      ]
     },
     "execution_count": 60,
     "metadata": {},
     "output_type": "execute_result"
    }
   ],
   "source": [
    "Decimal(1) / Decimal(7)"
   ]
  },
  {
   "cell_type": "code",
   "execution_count": 61,
   "id": "8a1684b3",
   "metadata": {},
   "outputs": [
    {
     "data": {
      "text/plain": [
       "Fraction(1, 10)"
      ]
     },
     "execution_count": 61,
     "metadata": {},
     "output_type": "execute_result"
    }
   ],
   "source": [
    "from fractions import Fraction\n",
    "Fraction(1, 10)"
   ]
  },
  {
   "cell_type": "code",
   "execution_count": 64,
   "id": "01fafeb9",
   "metadata": {},
   "outputs": [
    {
     "data": {
      "text/plain": [
       "True"
      ]
     },
     "execution_count": 64,
     "metadata": {},
     "output_type": "execute_result"
    }
   ],
   "source": [
    "Fraction(1, 2) + Fraction(2, 3) == Fraction(7, 6)"
   ]
  },
  {
   "cell_type": "markdown",
   "id": "869cf802",
   "metadata": {},
   "source": [
    "○ isalpha() - все символы строки являются буквами\n",
    "\n",
    "○ isascii()\n",
    "\n",
    "○ isidentifier() - может ли строка выступить в качестве названия переменной \n",
    "\n",
    "○ isalnum() - состоит ли строка из букв и чисел\n",
    "\n",
    "○ isdecimal() - проверяет представляет ли строка с собой число\n",
    "\n",
    "○ isdigit()\n",
    "\n",
    "○ isnumeric()"
   ]
  },
  {
   "cell_type": "code",
   "execution_count": 68,
   "id": "40db33d7",
   "metadata": {},
   "outputs": [
    {
     "data": {
      "text/plain": [
       "(True, False)"
      ]
     },
     "execution_count": 68,
     "metadata": {},
     "output_type": "execute_result"
    }
   ],
   "source": [
    "\"abderwer\".isalpha(), \"abd7686\".isalpha()"
   ]
  },
  {
   "cell_type": "code",
   "execution_count": 66,
   "id": "4e3a531e",
   "metadata": {},
   "outputs": [
    {
     "data": {
      "text/plain": [
       "(True, False)"
      ]
     },
     "execution_count": 66,
     "metadata": {},
     "output_type": "execute_result"
    }
   ],
   "source": [
    "\"abd7686\".isalnum(), \"abd_7686\".isalnum()"
   ]
  },
  {
   "cell_type": "code",
   "execution_count": 75,
   "id": "b0d5fee9",
   "metadata": {},
   "outputs": [
    {
     "data": {
      "text/plain": [
       "(True, False)"
      ]
     },
     "execution_count": 75,
     "metadata": {},
     "output_type": "execute_result"
    }
   ],
   "source": [
    "\"7879\".isdigit(), \"78.79\".isdigit()"
   ]
  },
  {
   "cell_type": "code",
   "execution_count": null,
   "id": "e0cf7735",
   "metadata": {},
   "outputs": [],
   "source": [
    "\"7879\".isdecimal(), \"78.79\".isdecimal()"
   ]
  },
  {
   "cell_type": "code",
   "execution_count": 76,
   "id": "fb844585",
   "metadata": {},
   "outputs": [
    {
     "data": {
      "text/plain": [
       "(True, False)"
      ]
     },
     "execution_count": 76,
     "metadata": {},
     "output_type": "execute_result"
    }
   ],
   "source": [
    "\"7879\".isnumeric(), \"78.79\".isnumeric()"
   ]
  },
  {
   "cell_type": "code",
   "execution_count": 77,
   "id": "c25bc1b3",
   "metadata": {},
   "outputs": [],
   "source": [
    "s1 = \"1²³⁵\""
   ]
  },
  {
   "cell_type": "code",
   "execution_count": 78,
   "id": "57865891",
   "metadata": {},
   "outputs": [],
   "source": [
    "s2 = \"2_334_534\""
   ]
  },
  {
   "cell_type": "code",
   "execution_count": 79,
   "id": "34e6326a",
   "metadata": {},
   "outputs": [
    {
     "data": {
      "text/plain": [
       "(True, True, False)"
      ]
     },
     "execution_count": 79,
     "metadata": {},
     "output_type": "execute_result"
    }
   ],
   "source": [
    "s1.isdigit(), s1.isnumeric(), s1.isdecimal()"
   ]
  },
  {
   "cell_type": "code",
   "execution_count": 57,
   "id": "6a3317f8",
   "metadata": {},
   "outputs": [
    {
     "data": {
      "text/plain": [
       "(False, False, False)"
      ]
     },
     "execution_count": 57,
     "metadata": {},
     "output_type": "execute_result"
    }
   ],
   "source": [
    "s2.isdigit(), s2.isnumeric(), s2.isdecimal()"
   ]
  },
  {
   "cell_type": "code",
   "execution_count": 58,
   "id": "55893130",
   "metadata": {},
   "outputs": [
    {
     "ename": "ValueError",
     "evalue": "invalid literal for int() with base 10: '1²³⁵'",
     "output_type": "error",
     "traceback": [
      "\u001b[1;31m---------------------------------------------------------------------------\u001b[0m",
      "\u001b[1;31mValueError\u001b[0m                                Traceback (most recent call last)",
      "\u001b[1;32m<ipython-input-58-255292b12ee3>\u001b[0m in \u001b[0;36m<module>\u001b[1;34m\u001b[0m\n\u001b[1;32m----> 1\u001b[1;33m \u001b[0mint\u001b[0m\u001b[1;33m(\u001b[0m\u001b[0ms1\u001b[0m\u001b[1;33m)\u001b[0m\u001b[1;33m\u001b[0m\u001b[1;33m\u001b[0m\u001b[0m\n\u001b[0m",
      "\u001b[1;31mValueError\u001b[0m: invalid literal for int() with base 10: '1²³⁵'"
     ]
    }
   ],
   "source": [
    "int(s1)"
   ]
  },
  {
   "cell_type": "code",
   "execution_count": 39,
   "id": "f8ca8474",
   "metadata": {},
   "outputs": [
    {
     "name": "stdout",
     "output_type": "stream",
     "text": [
      "2233534\n"
     ]
    }
   ],
   "source": [
    "i1 = 2_233_534, print(i1)"
   ]
  },
  {
   "cell_type": "code",
   "execution_count": null,
   "id": "49471def",
   "metadata": {},
   "outputs": [],
   "source": [
    "○ startswith(prefix[, start[, end]]) \n",
    "○ endswith(suffix[, start[, end]])\n",
    "○ capitalize()\n",
    "○ upper()\n",
    "○ isupper()\n",
    "○ lower()\n",
    "○ islower()\n",
    "○ title()\n",
    "○ istitle()\n",
    "○ swapcase()\n",
    "○ isprintable()\n",
    "○ isspace()"
   ]
  },
  {
   "cell_type": "code",
   "execution_count": 87,
   "id": "b3d61a02",
   "metadata": {},
   "outputs": [
    {
     "data": {
      "text/plain": [
       "(True, True, True)"
      ]
     },
     "execution_count": 87,
     "metadata": {},
     "output_type": "execute_result"
    }
   ],
   "source": [
    "\"Hi! make\".startswith(\"H\"), \"Hi! make\".startswith(\"Hi!\"), \"Hi! make\".startswith(\" \", 3, 5)"
   ]
  },
  {
   "cell_type": "code",
   "execution_count": 96,
   "id": "38c18429",
   "metadata": {},
   "outputs": [
    {
     "data": {
      "text/plain": [
       "(True, True)"
      ]
     },
     "execution_count": 96,
     "metadata": {},
     "output_type": "execute_result"
    }
   ],
   "source": [
    "\"Hi! make\".endswith(\"e\"), \"Hi! make\".endswith(\"ke\")"
   ]
  },
  {
   "cell_type": "code",
   "execution_count": 98,
   "id": "324f090e",
   "metadata": {},
   "outputs": [
    {
     "data": {
      "text/plain": [
       "'Hi, how are you? '"
      ]
     },
     "execution_count": 98,
     "metadata": {},
     "output_type": "execute_result"
    }
   ],
   "source": [
    "\"hi, how are you? \".capitalize()"
   ]
  },
  {
   "cell_type": "code",
   "execution_count": 100,
   "id": "95e7da6d",
   "metadata": {},
   "outputs": [],
   "source": [
    "s1 = \"Привет дивный новый мир\""
   ]
  },
  {
   "cell_type": "code",
   "execution_count": 101,
   "id": "81fcdd3c",
   "metadata": {},
   "outputs": [
    {
     "data": {
      "text/plain": [
       "('ПРИВЕТ ДИВНЫЙ НОВЫЙ МИР',\n",
       " 'привет дивный новый мир',\n",
       " 'пРИВЕТ ДИВНЫЙ НОВЫЙ МИР',\n",
       " 'Привет дивный новый мир',\n",
       " 'Привет дивный новый мир')"
      ]
     },
     "execution_count": 101,
     "metadata": {},
     "output_type": "execute_result"
    }
   ],
   "source": [
    "s1.upper(), s1.lower(), s1.swapcase(), s1.upper().capitalize(), s1.lower().capitalize()"
   ]
  },
  {
   "cell_type": "code",
   "execution_count": 103,
   "id": "a06699ba",
   "metadata": {},
   "outputs": [
    {
     "data": {
      "text/plain": [
       "'Hi, How Are You?'"
      ]
     },
     "execution_count": 103,
     "metadata": {},
     "output_type": "execute_result"
    }
   ],
   "source": [
    "\"hi, how are you?\".title()"
   ]
  },
  {
   "cell_type": "code",
   "execution_count": 104,
   "id": "7c2f0c16",
   "metadata": {},
   "outputs": [
    {
     "data": {
      "text/plain": [
       "True"
      ]
     },
     "execution_count": 104,
     "metadata": {},
     "output_type": "execute_result"
    }
   ],
   "source": [
    "\"LKjlkjsdklfj\".isprintable()"
   ]
  },
  {
   "cell_type": "code",
   "execution_count": null,
   "id": "59295eca",
   "metadata": {},
   "outputs": [],
   "source": []
  },
  {
   "cell_type": "code",
   "execution_count": 105,
   "id": "5d78566d",
   "metadata": {},
   "outputs": [],
   "source": [
    "tags = [\"<a href='https://vk.com'>\", \"<body>\", \"<title>Социальная сеть</title>\"]"
   ]
  },
  {
   "cell_type": "code",
   "execution_count": 106,
   "id": "7dac052a",
   "metadata": {},
   "outputs": [
    {
     "name": "stdout",
     "output_type": "stream",
     "text": [
      "Нашли гиперссылку\n",
      "Всё остальное\n",
      "Мы нашли заголовок\n"
     ]
    }
   ],
   "source": [
    "for tag in tags:\n",
    "    if tag.startswith('<a '):\n",
    "        print('Нашли гиперссылку')\n",
    "    elif tag.endswith('</title>'):\n",
    "        print('Мы нашли заголовок')\n",
    "    else:\n",
    "        print('Всё остальное')"
   ]
  },
  {
   "cell_type": "code",
   "execution_count": 107,
   "id": "653b69ac",
   "metadata": {},
   "outputs": [
    {
     "data": {
      "text/plain": [
       "(True, True, False, False)"
      ]
     },
     "execution_count": 107,
     "metadata": {},
     "output_type": "execute_result"
    }
   ],
   "source": [
    "'a'.isprintable(), ' '.isprintable(), '\\t'.isprintable(), '\\r'.isprintable()"
   ]
  },
  {
   "cell_type": "code",
   "execution_count": 108,
   "id": "1447206d",
   "metadata": {},
   "outputs": [
    {
     "data": {
      "text/plain": [
       "(False, True, True, True)"
      ]
     },
     "execution_count": 108,
     "metadata": {},
     "output_type": "execute_result"
    }
   ],
   "source": [
    "'32'.isspace(), ' '.isspace(), '\\t'.isspace(), '\\n'.isspace()"
   ]
  },
  {
   "cell_type": "code",
   "execution_count": null,
   "id": "51b76adf",
   "metadata": {},
   "outputs": [],
   "source": [
    "○ count(sub[, start[, end]])\n",
    "○ find(sub[, start[, end]]), rfind(sub[, start[, end]])\n",
    "○ index(sub[, start[, end]]), rindex(sub[, start[, end]])\n",
    "○ replace(old, new[, count])\n",
    "○ center(width[, fillchar])\n",
    "○ encode(encoding='utf-8', errors='strict')\n",
    "○ expandtabs(tabsize=8)\n",
    "○ format(*args, **kwargs)\n",
    "○ ljust(width[, fillchar]) ,rjust(width[, fillchar])\n",
    "○ lstrip([chars]), strip([chars]), rstrip([chars])"
   ]
  },
  {
   "cell_type": "code",
   "execution_count": 113,
   "id": "4f355a8d",
   "metadata": {},
   "outputs": [
    {
     "data": {
      "text/plain": [
       "(3, 1, 2)"
      ]
     },
     "execution_count": 113,
     "metadata": {},
     "output_type": "execute_result"
    }
   ],
   "source": [
    "\"abcabcabb\".count(\"a\"), \"abcabcabb\".count(\"a\", -3, -1), \"abcabcabb\".count(\"abc\")"
   ]
  },
  {
   "cell_type": "code",
   "execution_count": 125,
   "id": "b2397ca7",
   "metadata": {},
   "outputs": [
    {
     "data": {
      "text/plain": [
       "(2, 7, 6, -1)"
      ]
     },
     "execution_count": 125,
     "metadata": {},
     "output_type": "execute_result"
    }
   ],
   "source": [
    "\"abcabcabb\".find(\"c\"), \"abcabcabb\".find(\"bb\"), \"abcabcabb\".rfind(\"a\"), \"abcabcabb\".find(\"g\")"
   ]
  },
  {
   "cell_type": "code",
   "execution_count": 123,
   "id": "74ea18b9",
   "metadata": {},
   "outputs": [
    {
     "data": {
      "text/plain": [
       "(2, 7, 6)"
      ]
     },
     "execution_count": 123,
     "metadata": {},
     "output_type": "execute_result"
    }
   ],
   "source": [
    "\"abcabcabb\".index(\"c\"), \"abcabcabb\".index(\"bb\"), \"abcabcabb\".rindex(\"a\")"
   ]
  },
  {
   "cell_type": "code",
   "execution_count": 127,
   "id": "ec235f1f",
   "metadata": {},
   "outputs": [
    {
     "ename": "ValueError",
     "evalue": "substring not found",
     "output_type": "error",
     "traceback": [
      "\u001b[1;31m---------------------------------------------------------------------------\u001b[0m",
      "\u001b[1;31mValueError\u001b[0m                                Traceback (most recent call last)",
      "\u001b[1;32m<ipython-input-127-032114ab1055>\u001b[0m in \u001b[0;36m<module>\u001b[1;34m\u001b[0m\n\u001b[1;32m----> 1\u001b[1;33m \u001b[1;34m\"abcabcabb\"\u001b[0m\u001b[1;33m.\u001b[0m\u001b[0mindex\u001b[0m\u001b[1;33m(\u001b[0m\u001b[1;34m\"g\"\u001b[0m\u001b[1;33m)\u001b[0m\u001b[1;33m\u001b[0m\u001b[1;33m\u001b[0m\u001b[0m\n\u001b[0m",
      "\u001b[1;31mValueError\u001b[0m: substring not found"
     ]
    }
   ],
   "source": [
    "\"abcabcabb\".index(\"g\")"
   ]
  },
  {
   "cell_type": "code",
   "execution_count": 131,
   "id": "03dbef5c",
   "metadata": {},
   "outputs": [
    {
     "data": {
      "text/plain": [
       "('abCabCabb', 'abcabcaB', 'abGGGGb')"
      ]
     },
     "execution_count": 131,
     "metadata": {},
     "output_type": "execute_result"
    }
   ],
   "source": [
    "\"abcabcabb\".replace(\"c\", \"C\"), \"abcabcabb\".replace(\"bb\", \"B\"), \"abcabcabb\".replace(\"cab\", \"GG\")"
   ]
  },
  {
   "cell_type": "code",
   "execution_count": 155,
   "id": "f0b087b9",
   "metadata": {},
   "outputs": [
    {
     "data": {
      "text/plain": [
       "('FaaaF', 'aaa')"
      ]
     },
     "execution_count": 155,
     "metadata": {},
     "output_type": "execute_result"
    }
   ],
   "source": [
    "\"aaa\".center(5, \"F\"), \"aaa\".center(3, \"X\")"
   ]
  },
  {
   "cell_type": "code",
   "execution_count": 156,
   "id": "0ac5d6ad",
   "metadata": {},
   "outputs": [],
   "source": [
    "s3 = 'www'"
   ]
  },
  {
   "cell_type": "code",
   "execution_count": 157,
   "id": "d646f558",
   "metadata": {},
   "outputs": [
    {
     "data": {
      "text/plain": [
       "('www   ', '#######www')"
      ]
     },
     "execution_count": 157,
     "metadata": {},
     "output_type": "execute_result"
    }
   ],
   "source": [
    "s3.ljust(6,), s3.rjust(10, '#')"
   ]
  },
  {
   "cell_type": "code",
   "execution_count": 164,
   "id": "2080afc8",
   "metadata": {},
   "outputs": [],
   "source": [
    "s4 = '     \\nabcdef \\n\\r'"
   ]
  },
  {
   "cell_type": "code",
   "execution_count": 165,
   "id": "863e2c5b",
   "metadata": {},
   "outputs": [
    {
     "data": {
      "text/plain": [
       "('abcdef', '     \\nabcdef', 'abcdef \\n\\r')"
      ]
     },
     "execution_count": 165,
     "metadata": {},
     "output_type": "execute_result"
    }
   ],
   "source": [
    "s4.strip(), s4.rstrip(), s4.lstrip()"
   ]
  },
  {
   "cell_type": "code",
   "execution_count": 166,
   "id": "60ca37b6",
   "metadata": {},
   "outputs": [
    {
     "data": {
      "text/plain": [
       "'cfef\\n '"
      ]
     },
     "execution_count": 166,
     "metadata": {},
     "output_type": "execute_result"
    }
   ],
   "source": [
    "'abcfef\\n '.strip('ba')"
   ]
  },
  {
   "cell_type": "code",
   "execution_count": 167,
   "id": "3705dd63",
   "metadata": {},
   "outputs": [
    {
     "data": {
      "text/plain": [
       "'=====hello====='"
      ]
     },
     "execution_count": 167,
     "metadata": {},
     "output_type": "execute_result"
    }
   ],
   "source": [
    "'hello'.center(15, '=')"
   ]
  },
  {
   "cell_type": "code",
   "execution_count": 168,
   "id": "767b95dc",
   "metadata": {},
   "outputs": [
    {
     "data": {
      "text/plain": [
       "(1, 3)"
      ]
     },
     "execution_count": 168,
     "metadata": {},
     "output_type": "execute_result"
    }
   ],
   "source": [
    "s5 = 'abdaadc'\n",
    "'abdaadc'.count('ab'), 'banana'.find('ana', 2)"
   ]
  },
  {
   "cell_type": "code",
   "execution_count": 169,
   "id": "443f9392",
   "metadata": {},
   "outputs": [
    {
     "data": {
      "text/plain": [
       "('\\tHello\\t', '    Hello   ')"
      ]
     },
     "execution_count": 169,
     "metadata": {},
     "output_type": "execute_result"
    }
   ],
   "source": [
    "tabsstr = '\\tHello\\t'\n",
    "tabsstr, tabsstr.expandtabs(4)"
   ]
  },
  {
   "cell_type": "code",
   "execution_count": 170,
   "id": "701d8abc",
   "metadata": {},
   "outputs": [
    {
     "name": "stdout",
     "output_type": "stream",
     "text": [
      "\tHello\t\n"
     ]
    }
   ],
   "source": [
    "print(tabsstr)"
   ]
  },
  {
   "cell_type": "code",
   "execution_count": null,
   "id": "82a6d049",
   "metadata": {},
   "outputs": [],
   "source": [
    "○ split(sep=None, maxsplit=-1), rsplit(sep=None, maxsplit=-1)\n",
    "○ splitlines(keepends=False)\n",
    "○ partition(sep), rpartition(sep)\n",
    "○ join(iterable)\n",
    "○ zfill(width)\n",
    "○ removeprefix(prefix, /)\n",
    "○ removesuffix(suffix, /)"
   ]
  },
  {
   "cell_type": "code",
   "execution_count": 171,
   "id": "864e2e81",
   "metadata": {},
   "outputs": [
    {
     "data": {
      "text/plain": [
       "['Я  вас люблю чего же более ', ' что я могу ', ' ещё сказать']"
      ]
     },
     "execution_count": 171,
     "metadata": {},
     "output_type": "execute_result"
    }
   ],
   "source": [
    "res = \"Я  вас люблю чего же более =*_*= что я могу =*_*= ещё сказать\".split('=*_*=')\n",
    "res"
   ]
  },
  {
   "cell_type": "code",
   "execution_count": 172,
   "id": "e691e3d7",
   "metadata": {},
   "outputs": [
    {
     "data": {
      "text/plain": [
       "('Я  вас люблю чего же более ', '=*_*=', ' что я могу =*_*= ещё сказать')"
      ]
     },
     "execution_count": 172,
     "metadata": {},
     "output_type": "execute_result"
    }
   ],
   "source": [
    "\"Я  вас люблю чего же более =*_*= что я могу =*_*= ещё сказать\".partition('=*_*=')"
   ]
  },
  {
   "cell_type": "code",
   "execution_count": 173,
   "id": "c7cea361",
   "metadata": {},
   "outputs": [
    {
     "data": {
      "text/plain": [
       "'00000Hello'"
      ]
     },
     "execution_count": 173,
     "metadata": {},
     "output_type": "execute_result"
    }
   ],
   "source": [
    "\"Hello\".zfill(10)"
   ]
  },
  {
   "cell_type": "code",
   "execution_count": 174,
   "id": "65e0fa69",
   "metadata": {},
   "outputs": [
    {
     "data": {
      "text/plain": [
       "'hello, how, are, you'"
      ]
     },
     "execution_count": 174,
     "metadata": {},
     "output_type": "execute_result"
    }
   ],
   "source": [
    "\", \".join([\"hello\", 'how', 'are', 'you'])"
   ]
  },
  {
   "cell_type": "code",
   "execution_count": 112,
   "id": "e7c3ffd7",
   "metadata": {},
   "outputs": [
    {
     "data": {
      "text/plain": [
       "True"
      ]
     },
     "execution_count": 112,
     "metadata": {},
     "output_type": "execute_result"
    }
   ],
   "source": [
    "'=*_*='.join(res) == \"Я  вас люблю чего же более =*_*= что я могу =*_*= ещё сказать\""
   ]
  },
  {
   "cell_type": "code",
   "execution_count": 175,
   "id": "d4c98eff",
   "metadata": {},
   "outputs": [],
   "source": [
    "s6 = 'word1 word2\\nlin2\\nline3'"
   ]
  },
  {
   "cell_type": "code",
   "execution_count": 178,
   "id": "e705cbcf",
   "metadata": {},
   "outputs": [
    {
     "data": {
      "text/plain": [
       "(['word1 word2', 'lin2', 'line3'], ['word1', 'word2', 'lin2', 'line3'])"
      ]
     },
     "execution_count": 178,
     "metadata": {},
     "output_type": "execute_result"
    }
   ],
   "source": [
    "s6.splitlines(), s6.split()"
   ]
  },
  {
   "cell_type": "code",
   "execution_count": 1,
   "id": "31313a0a",
   "metadata": {},
   "outputs": [],
   "source": [
    "import collections"
   ]
  },
  {
   "cell_type": "code",
   "execution_count": 2,
   "id": "7ae67e85",
   "metadata": {},
   "outputs": [
    {
     "data": {
      "text/plain": [
       "(11, 22)"
      ]
     },
     "execution_count": 2,
     "metadata": {},
     "output_type": "execute_result"
    }
   ],
   "source": [
    "Point = collections.namedtuple(\"Point\", [\"x\", \"y\"])\n",
    "p = Point(11, y=22)\n",
    "p.x, p.y    "
   ]
  },
  {
   "cell_type": "code",
   "execution_count": 3,
   "id": "10ad4de4",
   "metadata": {},
   "outputs": [
    {
     "data": {
      "text/plain": [
       "{'x': 11, 'y': 22}"
      ]
     },
     "execution_count": 3,
     "metadata": {},
     "output_type": "execute_result"
    }
   ],
   "source": [
    "p._asdict() "
   ]
  },
  {
   "cell_type": "code",
   "execution_count": 4,
   "id": "b97e4f4a",
   "metadata": {},
   "outputs": [],
   "source": [
    "Country = collections.namedtuple('Country', ['name', 'population', 'area'])"
   ]
  },
  {
   "cell_type": "code",
   "execution_count": 5,
   "id": "aa37b4b4",
   "metadata": {},
   "outputs": [],
   "source": [
    "south_africa = Country('South Africa', 5931 * 10 ** 4, 1.2 * 10 ** 6)"
   ]
  },
  {
   "cell_type": "code",
   "execution_count": 6,
   "id": "769cd834",
   "metadata": {},
   "outputs": [
    {
     "name": "stdout",
     "output_type": "stream",
     "text": [
      "Country(name='South Africa', population=59310000, area=1200000.0)\n"
     ]
    }
   ],
   "source": [
    "print(south_africa)"
   ]
  },
  {
   "cell_type": "code",
   "execution_count": 7,
   "id": "c5c5119a",
   "metadata": {},
   "outputs": [],
   "source": [
    "south_africa = south_africa._replace(population=5941 * 10 ** 4)"
   ]
  },
  {
   "cell_type": "code",
   "execution_count": 8,
   "id": "e11143e5",
   "metadata": {},
   "outputs": [
    {
     "data": {
      "text/plain": [
       "Country(name='South Africa', population=59410000, area=1200000.0)"
      ]
     },
     "execution_count": 8,
     "metadata": {},
     "output_type": "execute_result"
    }
   ],
   "source": [
    "south_africa"
   ]
  },
  {
   "cell_type": "code",
   "execution_count": 1,
   "id": "744739ec",
   "metadata": {},
   "outputs": [
    {
     "name": "stdout",
     "output_type": "stream",
     "text": [
      "defaultdict(<class 'list'>, {})\n"
     ]
    }
   ],
   "source": [
    "import collections\n",
    "defdict = collections.defaultdict(list)\n",
    "print(defdict)"
   ]
  },
  {
   "cell_type": "code",
   "execution_count": 19,
   "id": "b242aca9",
   "metadata": {},
   "outputs": [
    {
     "name": "stdout",
     "output_type": "stream",
     "text": [
      "defaultdict(<class 'list'>, {0: [0], 1: [1], 2: [2], 3: [3], 4: [4]})\n"
     ]
    }
   ],
   "source": [
    "for i in range(5):\n",
    "    defdict[i].append(i)\n",
    "print(defdict)"
   ]
  },
  {
   "cell_type": "code",
   "execution_count": 25,
   "id": "fb50cca6",
   "metadata": {},
   "outputs": [],
   "source": [
    "d = {}\n",
    "d1 = collections.defaultdict(int)"
   ]
  },
  {
   "cell_type": "code",
   "execution_count": 28,
   "id": "a2943d65",
   "metadata": {},
   "outputs": [
    {
     "data": {
      "text/plain": [
       "0"
      ]
     },
     "execution_count": 28,
     "metadata": {},
     "output_type": "execute_result"
    }
   ],
   "source": [
    "int()"
   ]
  },
  {
   "cell_type": "code",
   "execution_count": 26,
   "id": "c0006448",
   "metadata": {},
   "outputs": [],
   "source": [
    "for i in [1,2,1,3,4,2]:\n",
    "    if i not in d:\n",
    "        d[i] = 0\n",
    "        # d1[i] = int() int() = 0\n",
    "    d[i] += 1\n",
    "    d1[i] += 1"
   ]
  },
  {
   "cell_type": "code",
   "execution_count": 27,
   "id": "c188a099",
   "metadata": {},
   "outputs": [
    {
     "data": {
      "text/plain": [
       "({1: 2, 2: 2, 3: 1, 4: 1}, defaultdict(int, {1: 2, 2: 2, 3: 1, 4: 1}), True)"
      ]
     },
     "execution_count": 27,
     "metadata": {},
     "output_type": "execute_result"
    }
   ],
   "source": [
    "1d, d1, isinstance(d1, dict)"
   ]
  },
  {
   "cell_type": "code",
   "execution_count": 158,
   "id": "4dbce766",
   "metadata": {},
   "outputs": [
    {
     "data": {
      "text/plain": [
       "0"
      ]
     },
     "execution_count": 158,
     "metadata": {},
     "output_type": "execute_result"
    }
   ],
   "source": [
    "int()"
   ]
  },
  {
   "cell_type": "code",
   "execution_count": 36,
   "id": "801e0426",
   "metadata": {},
   "outputs": [
    {
     "data": {
      "text/plain": [
       "OrderedDict([('a', 'A'), ('b', 'B'), ('c', 'C')])"
      ]
     },
     "execution_count": 36,
     "metadata": {},
     "output_type": "execute_result"
    }
   ],
   "source": [
    "d = collections.OrderedDict([(\"a\", \"A\"), (\"b\", \"B\"), (\"c\", \"C\")])\n",
    "d"
   ]
  },
  {
   "cell_type": "code",
   "execution_count": 37,
   "id": "9898839a",
   "metadata": {},
   "outputs": [
    {
     "name": "stdout",
     "output_type": "stream",
     "text": [
      "a A\n",
      "b B\n",
      "c C\n"
     ]
    }
   ],
   "source": [
    "for k, v in d.items():\n",
    "    print(k, v)"
   ]
  },
  {
   "cell_type": "code",
   "execution_count": 38,
   "id": "dd825105",
   "metadata": {},
   "outputs": [],
   "source": [
    "d.move_to_end(\"a\")"
   ]
  },
  {
   "cell_type": "code",
   "execution_count": 39,
   "id": "4fd7d4db",
   "metadata": {},
   "outputs": [
    {
     "name": "stdout",
     "output_type": "stream",
     "text": [
      "b B\n",
      "c C\n",
      "a A\n"
     ]
    }
   ],
   "source": [
    "for k, v in d.items():\n",
    "    print(k, v)"
   ]
  },
  {
   "cell_type": "code",
   "execution_count": 40,
   "id": "73ef790c",
   "metadata": {},
   "outputs": [],
   "source": [
    "import re\n",
    "\n",
    "words = re.findall(r\"\\w+\", open(\"esenin.txt\", \"r\", encoding=\"utf-8\").read().lower())"
   ]
  },
  {
   "cell_type": "code",
   "execution_count": 41,
   "id": "5f2d2efb",
   "metadata": {},
   "outputs": [
    {
     "data": {
      "text/plain": [
       "['ты', 'меня', 'не', 'любишь', 'не', 'жалеешь', 'разве', 'я', 'немного', 'не']"
      ]
     },
     "execution_count": 41,
     "metadata": {},
     "output_type": "execute_result"
    }
   ],
   "source": [
    "words[:10]"
   ]
  },
  {
   "cell_type": "code",
   "execution_count": 42,
   "id": "5c6f0af1",
   "metadata": {},
   "outputs": [
    {
     "data": {
      "text/plain": [
       "[('не', 15), ('ты', 8), ('и', 8), ('я', 6), ('с', 5)]"
      ]
     },
     "execution_count": 42,
     "metadata": {},
     "output_type": "execute_result"
    }
   ],
   "source": [
    "collections.Counter(words).most_common(5)"
   ]
  },
  {
   "cell_type": "code",
   "execution_count": 43,
   "id": "cdc59b0c",
   "metadata": {},
   "outputs": [],
   "source": [
    "lst = ['Алёна',\n",
    "       'Арчибальда', \n",
    "       'Геннадий', \n",
    "       'Светлана', \n",
    "       'Арчибальда', \n",
    "       'Геннадий', \n",
    "       'Арчибальда']"
   ]
  },
  {
   "cell_type": "code",
   "execution_count": 44,
   "id": "82af3e05",
   "metadata": {},
   "outputs": [],
   "source": [
    "c = collections.Counter(lst)"
   ]
  },
  {
   "cell_type": "code",
   "execution_count": 45,
   "id": "13a555c2",
   "metadata": {},
   "outputs": [
    {
     "data": {
      "text/plain": [
       "Counter({'Алёна': 1, 'Арчибальда': 3, 'Геннадий': 2, 'Светлана': 1})"
      ]
     },
     "execution_count": 45,
     "metadata": {},
     "output_type": "execute_result"
    }
   ],
   "source": [
    "c"
   ]
  },
  {
   "cell_type": "code",
   "execution_count": 46,
   "id": "7e67d6b6",
   "metadata": {},
   "outputs": [
    {
     "data": {
      "text/plain": [
       "['Алёна',\n",
       " 'Арчибальда',\n",
       " 'Арчибальда',\n",
       " 'Арчибальда',\n",
       " 'Геннадий',\n",
       " 'Геннадий',\n",
       " 'Светлана']"
      ]
     },
     "execution_count": 46,
     "metadata": {},
     "output_type": "execute_result"
    }
   ],
   "source": [
    "list(c.elements())"
   ]
  },
  {
   "cell_type": "code",
   "execution_count": 47,
   "id": "07ca3e53",
   "metadata": {},
   "outputs": [
    {
     "data": {
      "text/plain": [
       "[('Арчибальда', 3), ('Геннадий', 2)]"
      ]
     },
     "execution_count": 47,
     "metadata": {},
     "output_type": "execute_result"
    }
   ],
   "source": [
    "c.most_common(2)"
   ]
  },
  {
   "cell_type": "code",
   "execution_count": 48,
   "id": "78d7d22c",
   "metadata": {},
   "outputs": [],
   "source": [
    "d = collections.deque()"
   ]
  },
  {
   "cell_type": "code",
   "execution_count": 49,
   "id": "07627b53",
   "metadata": {},
   "outputs": [],
   "source": [
    "d.append(1)\n",
    "d.append(2)\n",
    "d.append(3)"
   ]
  },
  {
   "cell_type": "code",
   "execution_count": 50,
   "id": "bedae7bf",
   "metadata": {},
   "outputs": [
    {
     "data": {
      "text/plain": [
       "deque([1, 2, 3])"
      ]
     },
     "execution_count": 50,
     "metadata": {},
     "output_type": "execute_result"
    }
   ],
   "source": [
    "d"
   ]
  },
  {
   "cell_type": "code",
   "execution_count": 51,
   "id": "3c29e19c",
   "metadata": {},
   "outputs": [],
   "source": [
    "d.appendleft(10)"
   ]
  },
  {
   "cell_type": "code",
   "execution_count": 52,
   "id": "f0c05c98",
   "metadata": {},
   "outputs": [],
   "source": [
    "d.extendleft([5,6,7])"
   ]
  },
  {
   "cell_type": "code",
   "execution_count": 53,
   "id": "706d9a3a",
   "metadata": {},
   "outputs": [
    {
     "data": {
      "text/plain": [
       "deque([7, 6, 5, 10, 1, 2, 3])"
      ]
     },
     "execution_count": 53,
     "metadata": {},
     "output_type": "execute_result"
    }
   ],
   "source": [
    "d"
   ]
  },
  {
   "cell_type": "code",
   "execution_count": 54,
   "id": "0c742cee",
   "metadata": {},
   "outputs": [],
   "source": [
    "d.append([10,23,23])"
   ]
  },
  {
   "cell_type": "code",
   "execution_count": 55,
   "id": "e4cfc5ef",
   "metadata": {},
   "outputs": [
    {
     "data": {
      "text/plain": [
       "deque([7, 6, 5, 10, 1, 2, 3, [10, 23, 23]])"
      ]
     },
     "execution_count": 55,
     "metadata": {},
     "output_type": "execute_result"
    }
   ],
   "source": [
    "d"
   ]
  },
  {
   "cell_type": "code",
   "execution_count": 56,
   "id": "ba9fe93e",
   "metadata": {},
   "outputs": [
    {
     "data": {
      "text/plain": [
       "[10, 23, 23]"
      ]
     },
     "execution_count": 56,
     "metadata": {},
     "output_type": "execute_result"
    }
   ],
   "source": [
    "d.pop()"
   ]
  },
  {
   "cell_type": "code",
   "execution_count": 57,
   "id": "78a05c90",
   "metadata": {},
   "outputs": [
    {
     "data": {
      "text/plain": [
       "deque([7, 6, 5, 10, 1, 2, 3])"
      ]
     },
     "execution_count": 57,
     "metadata": {},
     "output_type": "execute_result"
    }
   ],
   "source": [
    "d"
   ]
  },
  {
   "cell_type": "code",
   "execution_count": 58,
   "id": "e33a828f",
   "metadata": {},
   "outputs": [
    {
     "data": {
      "text/plain": [
       "7"
      ]
     },
     "execution_count": 58,
     "metadata": {},
     "output_type": "execute_result"
    }
   ],
   "source": [
    "d[0]"
   ]
  },
  {
   "cell_type": "code",
   "execution_count": 2,
   "id": "9bfb6541",
   "metadata": {},
   "outputs": [],
   "source": [
    "import functools"
   ]
  },
  {
   "cell_type": "code",
   "execution_count": 75,
   "id": "f9cfd6d2",
   "metadata": {},
   "outputs": [],
   "source": [
    "#@functools.lru_cache(maxsize=100)\n",
    "def fib(n):\n",
    "    if n <= 1:\n",
    "        return n\n",
    "    return fib(n-1) + fib(n-2)"
   ]
  },
  {
   "cell_type": "code",
   "execution_count": 76,
   "id": "f74d270a",
   "metadata": {},
   "outputs": [
    {
     "name": "stdout",
     "output_type": "stream",
     "text": [
      "CPU times: user 36.9 s, sys: 40.2 ms, total: 37 s\n",
      "Wall time: 37.2 s\n"
     ]
    },
    {
     "data": {
      "text/plain": [
       "102334155"
      ]
     },
     "execution_count": 76,
     "metadata": {},
     "output_type": "execute_result"
    }
   ],
   "source": [
    "%%time\n",
    "fib(40)"
   ]
  },
  {
   "cell_type": "code",
   "execution_count": 77,
   "id": "86129d4e",
   "metadata": {},
   "outputs": [],
   "source": [
    "@functools.lru_cache(maxsize=100)\n",
    "def fib(n):\n",
    "    if n <= 1:\n",
    "        return n\n",
    "    return fib(n-1) + fib(n-2)"
   ]
  },
  {
   "cell_type": "code",
   "execution_count": 78,
   "id": "995ceb2b",
   "metadata": {},
   "outputs": [
    {
     "name": "stdout",
     "output_type": "stream",
     "text": [
      "CPU times: user 34 µs, sys: 1 µs, total: 35 µs\n",
      "Wall time: 37.9 µs\n"
     ]
    },
    {
     "data": {
      "text/plain": [
       "102334155"
      ]
     },
     "execution_count": 78,
     "metadata": {},
     "output_type": "execute_result"
    }
   ],
   "source": [
    "%%time\n",
    "fib(40)"
   ]
  },
  {
   "cell_type": "code",
   "execution_count": 82,
   "id": "747a728c",
   "metadata": {},
   "outputs": [
    {
     "data": {
      "text/plain": [
       "(43, 43)"
      ]
     },
     "execution_count": 82,
     "metadata": {},
     "output_type": "execute_result"
    }
   ],
   "source": [
    "basetwo = functools.partial(int, base=2)\n",
    "basetwo(\"101011\"), int(\"101011\", 2)"
   ]
  },
  {
   "cell_type": "code",
   "execution_count": 86,
   "id": "cc05ddd8",
   "metadata": {},
   "outputs": [
    {
     "data": {
      "text/plain": [
       "6"
      ]
     },
     "execution_count": 86,
     "metadata": {},
     "output_type": "execute_result"
    }
   ],
   "source": [
    "functools.reduce(lambda x, y: x+y, [1,2,3])"
   ]
  },
  {
   "cell_type": "code",
   "execution_count": 87,
   "id": "d32fb4e4",
   "metadata": {},
   "outputs": [],
   "source": [
    "def deco(func):\n",
    "    @functools.wraps(func)\n",
    "    def wrapper(*args, **kwargs):\n",
    "        res = func(*args, **kwargs)\n",
    "        print(f\"Executin {func.__name__}\")\n",
    "        return res\n",
    "    return wrapper"
   ]
  },
  {
   "cell_type": "code",
   "execution_count": 88,
   "id": "04098d24",
   "metadata": {},
   "outputs": [],
   "source": [
    "@deco\n",
    "def add(a, b):\n",
    "    return a + b"
   ]
  },
  {
   "cell_type": "code",
   "execution_count": 89,
   "id": "a8b92de3",
   "metadata": {},
   "outputs": [
    {
     "name": "stdout",
     "output_type": "stream",
     "text": [
      "Executin add\n"
     ]
    },
    {
     "data": {
      "text/plain": [
       "14"
      ]
     },
     "execution_count": 89,
     "metadata": {},
     "output_type": "execute_result"
    }
   ],
   "source": [
    "add(10, 4)"
   ]
  },
  {
   "cell_type": "code",
   "execution_count": 90,
   "id": "54517179",
   "metadata": {},
   "outputs": [
    {
     "data": {
      "text/plain": [
       "'add'"
      ]
     },
     "execution_count": 90,
     "metadata": {},
     "output_type": "execute_result"
    }
   ],
   "source": [
    "add.__name__"
   ]
  },
  {
   "cell_type": "code",
   "execution_count": 91,
   "id": "f323da37",
   "metadata": {},
   "outputs": [
    {
     "data": {
      "text/plain": [
       "12"
      ]
     },
     "execution_count": 91,
     "metadata": {},
     "output_type": "execute_result"
    }
   ],
   "source": [
    "add.__wrapped__(10, 2)"
   ]
  },
  {
   "cell_type": "markdown",
   "id": "ffd21520",
   "metadata": {},
   "source": [
    "### Itertools: бесконечные итераторы"
   ]
  },
  {
   "cell_type": "code",
   "execution_count": null,
   "id": "bdb5baff",
   "metadata": {},
   "outputs": [],
   "source": [
    "○ count(start=0, step=1)\n",
    "○ cycle(iterable)\n",
    "○ repeat(object[, times])\n"
   ]
  },
  {
   "cell_type": "markdown",
   "id": "f46f568c",
   "metadata": {},
   "source": [
    "○ accumulate(iterable[, func, *, initial=None]) - Накопление результатов работы функции для элементов списка.\n",
    "\n",
    "○ chain(*iterables)\n",
    "\n",
    "○ compress(data, selectors) - Создаёт итератор, фильтрующий элементы указанного объекта в соответствии с маской.\n",
    "\n",
    "○ dropwhile(predicate, iterable)\n",
    "\n",
    "○ takewhile(predicate, iterable)\n",
    "\n",
    "○ filterfalse(predicate, iterable)\n",
    "\n",
    "○ groupby(iterable, key=None)\n",
    "\n",
    "○ islice(iterable, start, stop[, step])\n",
    "\n",
    "○ pairwise(iterable)\n",
    "\n",
    "○ starmap(function, iterable) - Применить функцию для каждого кортежа из списка кортежей.\n",
    "\n",
    "○ tee(iterable, n=2)  -> Создаёт несколько итераторов для одного итерируемого объекта.\n",
    "\n",
    "○ zip_longest(*iterables, fillvalue=None) -> Объединить несколько списков разной длины в список кортежей.\n"
   ]
  },
  {
   "cell_type": "code",
   "execution_count": 4,
   "id": "22ab5f2a",
   "metadata": {},
   "outputs": [],
   "source": [
    "import itertools"
   ]
  },
  {
   "cell_type": "code",
   "execution_count": 95,
   "id": "57a1c4a5",
   "metadata": {},
   "outputs": [
    {
     "name": "stdout",
     "output_type": "stream",
     "text": [
      "0\n",
      "3\n",
      "6\n",
      "9\n",
      "12\n",
      "15\n",
      "18\n",
      "21\n",
      "24\n",
      "27\n",
      "30\n",
      "33\n"
     ]
    }
   ],
   "source": [
    "for i in itertools.count(0, 3):\n",
    "    print(i)\n",
    "    if i > 30:\n",
    "        break"
   ]
  },
  {
   "cell_type": "code",
   "execution_count": 97,
   "id": "348ddc30",
   "metadata": {},
   "outputs": [
    {
     "data": {
      "text/plain": [
       "['Алёна',\n",
       " 'Арчибальда',\n",
       " 'Геннадий',\n",
       " 'Светлана',\n",
       " 'Арчибальда',\n",
       " 'Геннадий',\n",
       " 'Арчибальда']"
      ]
     },
     "execution_count": 97,
     "metadata": {},
     "output_type": "execute_result"
    }
   ],
   "source": [
    "cycle = itertools.cycle(lst)\n",
    "lst"
   ]
  },
  {
   "cell_type": "code",
   "execution_count": 101,
   "id": "5cbc7711",
   "metadata": {},
   "outputs": [
    {
     "name": "stdout",
     "output_type": "stream",
     "text": [
      "Геннадий\n",
      "Светлана\n",
      "Арчибальда\n",
      "Геннадий\n",
      "Арчибальда\n",
      "Алёна\n",
      "\n",
      "new cycle\n",
      "Арчибальда\n",
      "Геннадий\n",
      "Светлана\n",
      "Арчибальда\n",
      "Геннадий\n",
      "Арчибальда\n",
      "Алёна\n",
      "\n",
      "new cycle\n",
      "Арчибальда\n",
      "Геннадий\n",
      "Светлана\n",
      "Арчибальда\n",
      "Геннадий\n",
      "Арчибальда\n"
     ]
    }
   ],
   "source": [
    "for i in range(1, 20):\n",
    "    name = next(cycle)\n",
    "    if i % len(lst) == 0:\n",
    "        print()\n",
    "        print(\"new cycle\")\n",
    "        \n",
    "    print(name)"
   ]
  },
  {
   "cell_type": "code",
   "execution_count": 102,
   "id": "c1b19ab4",
   "metadata": {},
   "outputs": [],
   "source": [
    "repeater = itertools.repeat(\"Таксы\")"
   ]
  },
  {
   "cell_type": "code",
   "execution_count": 103,
   "id": "81cfd8d9",
   "metadata": {},
   "outputs": [
    {
     "name": "stdout",
     "output_type": "stream",
     "text": [
      "Таксы\n",
      "Таксы\n",
      "Таксы\n",
      "Таксы\n",
      "Таксы\n"
     ]
    }
   ],
   "source": [
    "for _ in range(5):\n",
    "    name = next(repeater)\n",
    "    print(name)"
   ]
  },
  {
   "cell_type": "code",
   "execution_count": 104,
   "id": "98581d42",
   "metadata": {},
   "outputs": [],
   "source": [
    "lst = [1, 2, 3, 4, 5, 6]"
   ]
  },
  {
   "cell_type": "code",
   "execution_count": 107,
   "id": "10f4f298",
   "metadata": {},
   "outputs": [
    {
     "data": {
      "text/plain": [
       "[0, 1, 3, 6, 10, 15, 21]"
      ]
     },
     "execution_count": 107,
     "metadata": {},
     "output_type": "execute_result"
    }
   ],
   "source": [
    "# в отличие от reduce возвращает итерируемый объект (куммулятивная сумма)\n",
    "list(itertools.accumulate(lst, initial=0))"
   ]
  },
  {
   "cell_type": "code",
   "execution_count": 109,
   "id": "e4435753",
   "metadata": {},
   "outputs": [
    {
     "data": {
      "text/plain": [
       "[10, 11, 13, 16, 20, 25, 31]"
      ]
     },
     "execution_count": 109,
     "metadata": {},
     "output_type": "execute_result"
    }
   ],
   "source": [
    "list(itertools.accumulate(lst, initial=10))"
   ]
  },
  {
   "cell_type": "code",
   "execution_count": 110,
   "id": "bd8c98f2",
   "metadata": {},
   "outputs": [
    {
     "data": {
      "text/plain": [
       "31"
      ]
     },
     "execution_count": 110,
     "metadata": {},
     "output_type": "execute_result"
    }
   ],
   "source": [
    "functools.reduce(lambda a,b: a + b, lst, 10)"
   ]
  },
  {
   "cell_type": "code",
   "execution_count": 111,
   "id": "b80230c5",
   "metadata": {},
   "outputs": [
    {
     "name": "stdout",
     "output_type": "stream",
     "text": [
      "1\n",
      "2\n",
      "3\n",
      "10\n",
      "20\n",
      "30\n",
      "h\n",
      "e\n",
      "l\n",
      "l\n",
      "o\n"
     ]
    }
   ],
   "source": [
    "for it in itertools.chain([1,2,3], [10, 20, 30], \"hello\"):\n",
    "    print(it)"
   ]
  },
  {
   "cell_type": "code",
   "execution_count": 7,
   "id": "b2f8071a",
   "metadata": {},
   "outputs": [
    {
     "data": {
      "text/plain": [
       "[2]"
      ]
     },
     "execution_count": 7,
     "metadata": {},
     "output_type": "execute_result"
    }
   ],
   "source": [
    "list(itertools.compress([1, 2, 3, 4], [False, 1, 0, None]))"
   ]
  },
  {
   "cell_type": "code",
   "execution_count": 8,
   "id": "7bc116d2",
   "metadata": {},
   "outputs": [
    {
     "data": {
      "text/plain": [
       "[2, 3, 4]"
      ]
     },
     "execution_count": 8,
     "metadata": {},
     "output_type": "execute_result"
    }
   ],
   "source": [
    "list(itertools.compress([1, 2, 3, 4], [False, 1, 1, 1]))"
   ]
  },
  {
   "cell_type": "code",
   "execution_count": 112,
   "id": "f46b3087",
   "metadata": {},
   "outputs": [
    {
     "data": {
      "text/plain": [
       "[45, 46, 88]"
      ]
     },
     "execution_count": 112,
     "metadata": {},
     "output_type": "execute_result"
    }
   ],
   "source": [
    "list(itertools.dropwhile(lambda x: x % 2 == 0, [2, 4, 12, 2, 10, 45, 46, 88]))"
   ]
  },
  {
   "cell_type": "code",
   "execution_count": 113,
   "id": "250ae16a",
   "metadata": {},
   "outputs": [
    {
     "data": {
      "text/plain": [
       "[2, 4, 12, 2, 10]"
      ]
     },
     "execution_count": 113,
     "metadata": {},
     "output_type": "execute_result"
    }
   ],
   "source": [
    "list(itertools.takewhile(lambda x: x % 2 == 0, [2, 4, 12, 2, 10, 45, 46, 88]))"
   ]
  },
  {
   "cell_type": "code",
   "execution_count": 119,
   "id": "244322a4",
   "metadata": {},
   "outputs": [
    {
     "data": {
      "text/plain": [
       "[9, 13, 15]"
      ]
     },
     "execution_count": 119,
     "metadata": {},
     "output_type": "execute_result"
    }
   ],
   "source": [
    "list(itertools.filterfalse(lambda x: x % 2 == 0, [2,4,6,9,12,13,14,15]))"
   ]
  },
  {
   "cell_type": "code",
   "execution_count": 121,
   "id": "a9d83125",
   "metadata": {},
   "outputs": [
    {
     "data": {
      "text/plain": [
       "[{'city': 'Пекин', 'country': 'Китай'},\n",
       " {'city': 'Москва', 'country': 'Россия'},\n",
       " {'city': 'Новосибирск', 'country': 'Россия'}]"
      ]
     },
     "execution_count": 121,
     "metadata": {},
     "output_type": "execute_result"
    }
   ],
   "source": [
    "def grouper(item):\n",
    "        \"\"\"Будем использовать эту функцию для группировки сортировки.\"\"\"\n",
    "        return item['country']\n",
    "    \n",
    "data = [\n",
    "        {'city': 'Москва', 'country': 'Россия'},\n",
    "        {'city': 'Новосибирск', 'country': 'Россия'},\n",
    "        {'city': 'Пекин', 'country': 'Китай'},\n",
    "       ]\n",
    "# Предварительно сортируем.\n",
    "data = sorted(data, key=grouper)\n",
    "data"
   ]
  },
  {
   "cell_type": "code",
   "execution_count": 122,
   "id": "2af0673c",
   "metadata": {},
   "outputs": [
    {
     "name": "stdout",
     "output_type": "stream",
     "text": [
      "Key: Китай\n",
      "Item: {'city': 'Пекин', 'country': 'Китай'}\n",
      "Key: Россия\n",
      "Item: {'city': 'Москва', 'country': 'Россия'}\n",
      "Item: {'city': 'Новосибирск', 'country': 'Россия'}\n"
     ]
    }
   ],
   "source": [
    "for key, group_items in itertools.groupby(data, key=grouper):\n",
    "        print('Key: %s' % key)\n",
    "        for item in group_items: \n",
    "            print('Item: %s' % item)"
   ]
  },
  {
   "cell_type": "code",
   "execution_count": 114,
   "id": "684d0e6a",
   "metadata": {},
   "outputs": [
    {
     "name": "stdout",
     "output_type": "stream",
     "text": [
      "[1, 2, 3, 1, 2, 3, 1, 2, 3]\n"
     ]
    },
    {
     "data": {
      "text/plain": [
       "3"
      ]
     },
     "execution_count": 114,
     "metadata": {},
     "output_type": "execute_result"
    }
   ],
   "source": [
    "lst = [1,2 ,3] * 3\n",
    "print(lst)\n",
    "lst.pop()"
   ]
  },
  {
   "cell_type": "code",
   "execution_count": 115,
   "id": "8dd12e55",
   "metadata": {},
   "outputs": [
    {
     "name": "stdout",
     "output_type": "stream",
     "text": [
      "[1, 1, 1, 2, 2, 2, 3, 3]\n"
     ]
    }
   ],
   "source": [
    "lst.sort()\n",
    "print(lst)"
   ]
  },
  {
   "cell_type": "code",
   "execution_count": 116,
   "id": "b8c06b75",
   "metadata": {},
   "outputs": [
    {
     "name": "stdout",
     "output_type": "stream",
     "text": [
      "key=1 [1, 1, 1]\n",
      "key=2 [2, 2, 2]\n",
      "key=3 [3, 3]\n"
     ]
    }
   ],
   "source": [
    "for key, it in itertools.groupby(lst):\n",
    "    print(f\"{key=}\", list(it))"
   ]
  },
  {
   "cell_type": "code",
   "execution_count": 11,
   "id": "bff6f71e",
   "metadata": {},
   "outputs": [
    {
     "ename": "AttributeError",
     "evalue": "module 'itertools' has no attribute 'pairwise'",
     "output_type": "error",
     "traceback": [
      "\u001b[1;31m---------------------------------------------------------------------------\u001b[0m",
      "\u001b[1;31mAttributeError\u001b[0m                            Traceback (most recent call last)",
      "\u001b[1;32m<ipython-input-11-28ea37bada79>\u001b[0m in \u001b[0;36m<module>\u001b[1;34m\u001b[0m\n\u001b[1;32m----> 1\u001b[1;33m \u001b[0mitertools\u001b[0m\u001b[1;33m.\u001b[0m\u001b[0mpairwise\u001b[0m\u001b[1;33m(\u001b[0m\u001b[1;33m)\u001b[0m\u001b[1;33m\u001b[0m\u001b[1;33m\u001b[0m\u001b[0m\n\u001b[0m",
      "\u001b[1;31mAttributeError\u001b[0m: module 'itertools' has no attribute 'pairwise'"
     ]
    }
   ],
   "source": [
    "itertools.pairwise()"
   ]
  },
  {
   "cell_type": "code",
   "execution_count": 15,
   "id": "95e0d4e1",
   "metadata": {},
   "outputs": [
    {
     "data": {
      "text/plain": [
       "[('a', 'k'), ('k', 'd'), ('d', 'f')]"
      ]
     },
     "execution_count": 15,
     "metadata": {},
     "output_type": "execute_result"
    }
   ],
   "source": [
    "def pairwise(iterable):\n",
    "    # pairwise('ABCDEFG') --> AB BC CD DE EF FG\n",
    "    a, b = itertools.tee(iterable)\n",
    "    next(b, None)\n",
    "    return zip(a, b)\n",
    "\n",
    "list(pairwise(\"akdf\"))"
   ]
  },
  {
   "cell_type": "code",
   "execution_count": 1,
   "id": "21d734bd",
   "metadata": {},
   "outputs": [],
   "source": [
    "import itertools"
   ]
  },
  {
   "cell_type": "code",
   "execution_count": 20,
   "id": "c4543759",
   "metadata": {},
   "outputs": [
    {
     "data": {
      "text/plain": [
       "[32, 9, 1000]"
      ]
     },
     "execution_count": 20,
     "metadata": {},
     "output_type": "execute_result"
    }
   ],
   "source": [
    "list(itertools.starmap(pow, [(2, 5), (3, 2), (10, 3)])) # 2**5, 3**2, 10**3"
   ]
  },
  {
   "cell_type": "code",
   "execution_count": 21,
   "id": "c886bc45",
   "metadata": {},
   "outputs": [],
   "source": [
    "sum_func = lambda x, y: x + y"
   ]
  },
  {
   "cell_type": "code",
   "execution_count": 23,
   "id": "ba27c479",
   "metadata": {},
   "outputs": [
    {
     "data": {
      "text/plain": [
       "[7, 5, 13]"
      ]
     },
     "execution_count": 23,
     "metadata": {},
     "output_type": "execute_result"
    }
   ],
   "source": [
    "list(itertools.starmap(sum_func, [(2, 5), (3, 2), (10, 3)]))"
   ]
  },
  {
   "cell_type": "code",
   "execution_count": 24,
   "id": "1f5bb30f",
   "metadata": {},
   "outputs": [
    {
     "data": {
      "text/plain": [
       "[12, 6, 3]"
      ]
     },
     "execution_count": 24,
     "metadata": {},
     "output_type": "execute_result"
    }
   ],
   "source": [
    "sum_func = lambda x, y, z: x + y + z\n",
    "list(itertools.starmap(sum_func, [(2, 5, 5), (3, 2, 1), (10, 3, -10)]))"
   ]
  },
  {
   "cell_type": "code",
   "execution_count": 32,
   "id": "aa44bed4",
   "metadata": {},
   "outputs": [
    {
     "name": "stdout",
     "output_type": "stream",
     "text": [
      "[1, 2, 3, 4, 5]\n",
      "[1, 2, 3, 4, 5]\n"
     ]
    }
   ],
   "source": [
    "it1, it2 = itertools.tee([1, 2, 3, 4, 5], 2)\n",
    "print(list(it1))\n",
    "print(list(it2))"
   ]
  },
  {
   "cell_type": "code",
   "execution_count": 36,
   "id": "61482b14",
   "metadata": {},
   "outputs": [
    {
     "name": "stdout",
     "output_type": "stream",
     "text": [
      "[0, 1, 2, 3, 4]\n",
      "[3, 4, 5, 6, 7, 8, 9]\n"
     ]
    },
    {
     "data": {
      "text/plain": [
       "[(0, 3), (1, 4), (2, 5), (3, 6), (4, 7), (100, 8), (100, 9)]"
      ]
     },
     "execution_count": 36,
     "metadata": {},
     "output_type": "execute_result"
    }
   ],
   "source": [
    "a = list(range(5))\n",
    "b = list(range(3, 10))\n",
    "print(a)\n",
    "print(b)\n",
    "rez = itertools.zip_longest(a, b, fillvalue=100)\n",
    "list(rez)"
   ]
  },
  {
   "cell_type": "markdown",
   "id": "03596fbc",
   "metadata": {},
   "source": [
    "####  Itertools: комбинаторика"
   ]
  },
  {
   "cell_type": "markdown",
   "id": "7e0a6149",
   "metadata": {},
   "source": [
    "○ product(*iterables, repeat=1) -> Возвращает генератор, выдающий «декартово произведение» для элементов указанных объектов.\n",
    "\n",
    "○ permutations(iterable, r=None)  -> Все комбинации элементов списка, включая смену порядка\n",
    "\n",
    "○ combinations(iterable, r)  ->   перестановки длиной r из iterable.\n",
    "\n",
    "○ combinations_with_replacement(iterable, r)\n"
   ]
  },
  {
   "cell_type": "code",
   "execution_count": 37,
   "id": "e2e51101",
   "metadata": {},
   "outputs": [
    {
     "data": {
      "text/plain": [
       "[(1, 3), (1, 4), (2, 3), (2, 4)]"
      ]
     },
     "execution_count": 37,
     "metadata": {},
     "output_type": "execute_result"
    }
   ],
   "source": [
    "list(itertools.product([1, 2], [3, 4])) "
   ]
  },
  {
   "cell_type": "code",
   "execution_count": 39,
   "id": "87e11477",
   "metadata": {},
   "outputs": [
    {
     "data": {
      "text/plain": [
       "[(1, 2, 3), (1, 3, 2), (2, 1, 3), (2, 3, 1), (3, 1, 2), (3, 2, 1)]"
      ]
     },
     "execution_count": 39,
     "metadata": {},
     "output_type": "execute_result"
    }
   ],
   "source": [
    "list(itertools.permutations([1, 2, 3])) "
   ]
  },
  {
   "cell_type": "code",
   "execution_count": 47,
   "id": "314272fc",
   "metadata": {},
   "outputs": [
    {
     "data": {
      "text/plain": [
       "[(1, 2), (1, 3), (1, 4), (2, 3), (2, 4), (3, 4)]"
      ]
     },
     "execution_count": 47,
     "metadata": {},
     "output_type": "execute_result"
    }
   ],
   "source": [
    "list(itertools.combinations([1, 2, 3, 4], r = 2)) "
   ]
  },
  {
   "cell_type": "code",
   "execution_count": 48,
   "id": "ca16c9cc",
   "metadata": {},
   "outputs": [
    {
     "data": {
      "text/plain": [
       "[(1, 2, 3), (1, 2, 4), (1, 3, 4), (2, 3, 4)]"
      ]
     },
     "execution_count": 48,
     "metadata": {},
     "output_type": "execute_result"
    }
   ],
   "source": [
    "list(itertools.combinations([1, 2, 3, 4], r = 3)) "
   ]
  },
  {
   "cell_type": "code",
   "execution_count": 50,
   "id": "cd0d1033",
   "metadata": {},
   "outputs": [
    {
     "data": {
      "text/plain": [
       "[(1, 1, 1),\n",
       " (1, 1, 2),\n",
       " (1, 1, 3),\n",
       " (1, 2, 2),\n",
       " (1, 2, 3),\n",
       " (1, 3, 3),\n",
       " (2, 2, 2),\n",
       " (2, 2, 3),\n",
       " (2, 3, 3),\n",
       " (3, 3, 3)]"
      ]
     },
     "execution_count": 50,
     "metadata": {},
     "output_type": "execute_result"
    }
   ],
   "source": [
    "list(itertools.combinations_with_replacement([1, 2, 3], r = 3))"
   ]
  },
  {
   "cell_type": "code",
   "execution_count": null,
   "id": "6955da76",
   "metadata": {},
   "outputs": [],
   "source": []
  }
 ],
 "metadata": {
  "kernelspec": {
   "display_name": "Python 3",
   "language": "python",
   "name": "python3"
  },
  "language_info": {
   "codemirror_mode": {
    "name": "ipython",
    "version": 3
   },
   "file_extension": ".py",
   "mimetype": "text/x-python",
   "name": "python",
   "nbconvert_exporter": "python",
   "pygments_lexer": "ipython3",
   "version": "3.8.5"
  }
 },
 "nbformat": 4,
 "nbformat_minor": 5
}
