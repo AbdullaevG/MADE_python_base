{
 "cells": [
  {
   "cell_type": "code",
   "execution_count": 1,
   "id": "b02335ff",
   "metadata": {},
   "outputs": [],
   "source": [
    "class Example:\n",
    "    name = \"XXX\"\n",
    "\n",
    "    @staticmethod\n",
    "    def print_static(): # можно не указывать self, аналог обычной функции внутри класса\n",
    "        print(\"static\")\n",
    "\n",
    "    @classmethod\n",
    "    def print_cls(cls): # возвращает или работает с атрибутами класса а не его экземпляра\n",
    "        print(f\"class_method for {cls.__name__}\")\n",
    "\n",
    "    def __init__(self, val):\n",
    "        self.val = val\n",
    "        self._protected_val = val + 100\n",
    "        self.__private_val = val + 1000\n",
    "        \n",
    "    def print_offset(self, offset=10):\n",
    "        print(self.val + offset, self.__private_val)\n",
    "\n",
    "    def __str__(self):\n",
    "        return f\"{self.__class__.__name__}:val={self.val}\"\n",
    "    \n",
    "    \n",
    "exp = Example(9)"
   ]
  },
  {
   "cell_type": "code",
   "execution_count": 2,
   "id": "701b0bd3",
   "metadata": {},
   "outputs": [
    {
     "name": "stdout",
     "output_type": "stream",
     "text": [
      "static\n",
      "static\n"
     ]
    }
   ],
   "source": [
    "exp.print_static()\n",
    "Example.print_static()"
   ]
  },
  {
   "cell_type": "code",
   "execution_count": 3,
   "id": "945d1541",
   "metadata": {},
   "outputs": [
    {
     "name": "stdout",
     "output_type": "stream",
     "text": [
      "class_method for Example\n",
      "class_method for Example\n"
     ]
    }
   ],
   "source": [
    "Example.print_cls()\n",
    "exp.print_cls()"
   ]
  },
  {
   "cell_type": "code",
   "execution_count": 4,
   "id": "97f25906",
   "metadata": {},
   "outputs": [
    {
     "name": "stdout",
     "output_type": "stream",
     "text": [
      "19 1009\n"
     ]
    }
   ],
   "source": [
    "exp.print_offset()"
   ]
  },
  {
   "cell_type": "code",
   "execution_count": 5,
   "id": "54401280",
   "metadata": {},
   "outputs": [
    {
     "data": {
      "text/plain": [
       "(<function __main__.Example.print_offset(self, offset=10)>,\n",
       " <bound method Example.print_offset of <__main__.Example object at 0x0000022388FC9430>>)"
      ]
     },
     "execution_count": 5,
     "metadata": {},
     "output_type": "execute_result"
    }
   ],
   "source": [
    "Example.print_offset, exp.print_offset"
   ]
  },
  {
   "cell_type": "code",
   "execution_count": 6,
   "id": "a0866193",
   "metadata": {},
   "outputs": [
    {
     "name": "stdout",
     "output_type": "stream",
     "text": [
      "19 1009\n"
     ]
    }
   ],
   "source": [
    "Example.print_offset(exp)"
   ]
  },
  {
   "cell_type": "code",
   "execution_count": 7,
   "id": "eb7f8f07",
   "metadata": {},
   "outputs": [
    {
     "data": {
      "text/plain": [
       "(9, 109)"
      ]
     },
     "execution_count": 7,
     "metadata": {},
     "output_type": "execute_result"
    }
   ],
   "source": [
    "exp.val, exp._protected_val"
   ]
  },
  {
   "cell_type": "code",
   "execution_count": 8,
   "id": "a21a6361",
   "metadata": {},
   "outputs": [
    {
     "ename": "AttributeError",
     "evalue": "'Example' object has no attribute '__private_val'",
     "output_type": "error",
     "traceback": [
      "\u001b[1;31m---------------------------------------------------------------------------\u001b[0m",
      "\u001b[1;31mAttributeError\u001b[0m                            Traceback (most recent call last)",
      "\u001b[1;32m<ipython-input-8-6e2b2e43f784>\u001b[0m in \u001b[0;36m<module>\u001b[1;34m\u001b[0m\n\u001b[1;32m----> 1\u001b[1;33m \u001b[0mexp\u001b[0m\u001b[1;33m.\u001b[0m\u001b[0m__private_val\u001b[0m\u001b[1;33m\u001b[0m\u001b[1;33m\u001b[0m\u001b[0m\n\u001b[0m",
      "\u001b[1;31mAttributeError\u001b[0m: 'Example' object has no attribute '__private_val'"
     ]
    }
   ],
   "source": [
    "exp.__private_val"
   ]
  },
  {
   "cell_type": "code",
   "execution_count": 9,
   "id": "f93100b1",
   "metadata": {},
   "outputs": [
    {
     "data": {
      "text/plain": [
       "{'val': 9, '_protected_val': 109, '_Example__private_val': 1009}"
      ]
     },
     "execution_count": 9,
     "metadata": {},
     "output_type": "execute_result"
    }
   ],
   "source": [
    "\n",
    "exp.__dict__"
   ]
  },
  {
   "cell_type": "code",
   "execution_count": 10,
   "id": "52f0c16c",
   "metadata": {},
   "outputs": [],
   "source": [
    "exp._Example__private_val = 999999"
   ]
  },
  {
   "cell_type": "code",
   "execution_count": 11,
   "id": "91fbbdc0",
   "metadata": {},
   "outputs": [
    {
     "name": "stdout",
     "output_type": "stream",
     "text": [
      "19 999999\n"
     ]
    }
   ],
   "source": [
    "exp.print_offset()"
   ]
  },
  {
   "cell_type": "code",
   "execution_count": 12,
   "id": "5c33d5fb",
   "metadata": {},
   "outputs": [
    {
     "data": {
      "text/plain": [
       "('XXX', 'XXX', True)"
      ]
     },
     "execution_count": 12,
     "metadata": {},
     "output_type": "execute_result"
    }
   ],
   "source": [
    "exp.name, Example.name, exp.name is Example.name"
   ]
  },
  {
   "cell_type": "code",
   "execution_count": 13,
   "id": "af9b3b04",
   "metadata": {},
   "outputs": [
    {
     "data": {
      "text/plain": [
       "{'val': 9, '_protected_val': 109, '_Example__private_val': 999999}"
      ]
     },
     "execution_count": 13,
     "metadata": {},
     "output_type": "execute_result"
    }
   ],
   "source": [
    "exp.__dict__"
   ]
  },
  {
   "cell_type": "code",
   "execution_count": 14,
   "id": "d6edcc83",
   "metadata": {},
   "outputs": [
    {
     "data": {
      "text/plain": [
       "999999"
      ]
     },
     "execution_count": 14,
     "metadata": {},
     "output_type": "execute_result"
    }
   ],
   "source": [
    "exp._Example__private_val"
   ]
  },
  {
   "cell_type": "code",
   "execution_count": 15,
   "id": "798537a6",
   "metadata": {},
   "outputs": [
    {
     "data": {
      "text/plain": [
       "mappingproxy({'__module__': '__main__',\n",
       "              'name': 'XXX',\n",
       "              'print_static': <staticmethod at 0x22388f8dd90>,\n",
       "              'print_cls': <classmethod at 0x22388f887c0>,\n",
       "              '__init__': <function __main__.Example.__init__(self, val)>,\n",
       "              'print_offset': <function __main__.Example.print_offset(self, offset=10)>,\n",
       "              '__str__': <function __main__.Example.__str__(self)>,\n",
       "              '__dict__': <attribute '__dict__' of 'Example' objects>,\n",
       "              '__weakref__': <attribute '__weakref__' of 'Example' objects>,\n",
       "              '__doc__': None})"
      ]
     },
     "execution_count": 15,
     "metadata": {},
     "output_type": "execute_result"
    }
   ],
   "source": [
    "Example.__dict__"
   ]
  },
  {
   "cell_type": "code",
   "execution_count": 16,
   "id": "abda22f0",
   "metadata": {},
   "outputs": [],
   "source": [
    "exp.name = \"QWERTY\""
   ]
  },
  {
   "cell_type": "code",
   "execution_count": 17,
   "id": "99947bce",
   "metadata": {},
   "outputs": [
    {
     "data": {
      "text/plain": [
       "('QWERTY', 'XXX', False)"
      ]
     },
     "execution_count": 17,
     "metadata": {},
     "output_type": "execute_result"
    }
   ],
   "source": [
    "exp.name, Example.name, exp.name is Example.name"
   ]
  },
  {
   "cell_type": "code",
   "execution_count": 18,
   "id": "bf8f612d",
   "metadata": {},
   "outputs": [
    {
     "data": {
      "text/plain": [
       "{'val': 9,\n",
       " '_protected_val': 109,\n",
       " '_Example__private_val': 999999,\n",
       " 'name': 'QWERTY'}"
      ]
     },
     "execution_count": 18,
     "metadata": {},
     "output_type": "execute_result"
    }
   ],
   "source": [
    "exp.__dict__"
   ]
  },
  {
   "cell_type": "code",
   "execution_count": 19,
   "id": "974a696a",
   "metadata": {},
   "outputs": [],
   "source": [
    "exp.name = \"3333\""
   ]
  },
  {
   "cell_type": "code",
   "execution_count": 20,
   "id": "8f66a8e6",
   "metadata": {},
   "outputs": [],
   "source": [
    "del exp.name"
   ]
  },
  {
   "cell_type": "code",
   "execution_count": 21,
   "id": "68d28fc3",
   "metadata": {},
   "outputs": [
    {
     "data": {
      "text/plain": [
       "('XXX', 'XXX')"
      ]
     },
     "execution_count": 21,
     "metadata": {},
     "output_type": "execute_result"
    }
   ],
   "source": [
    "exp.name, Example.name"
   ]
  },
  {
   "cell_type": "code",
   "execution_count": 22,
   "id": "2489fa4a",
   "metadata": {},
   "outputs": [
    {
     "data": {
      "text/plain": [
       "{'val': 9, '_protected_val': 109, '_Example__private_val': 999999}"
      ]
     },
     "execution_count": 22,
     "metadata": {},
     "output_type": "execute_result"
    }
   ],
   "source": [
    "exp.__dict__"
   ]
  },
  {
   "cell_type": "code",
   "execution_count": 23,
   "id": "b45ccfd8",
   "metadata": {},
   "outputs": [],
   "source": [
    "## Сколько бы классов Singleton мы не создавали - это будет ссылка на один объект\n",
    "\n",
    "class Singleton:\n",
    "    _instance = None\n",
    "    \n",
    "    # Переопределяем класс Singleton \n",
    "    def __new__(cls, *args, **kwargs):\n",
    "        print(\"__new__\", cls, args, kwargs)\n",
    "        if cls._instance is None:\n",
    "            print(\"no_instance\")\n",
    "            cls._instance = super().__new__(cls)\n",
    "        return cls._instance\n",
    "    \n",
    "# inst1 = Singleton()\n",
    "# inst2 = Singleton()\n",
    "# inst1 is inst2"
   ]
  },
  {
   "cell_type": "code",
   "execution_count": 24,
   "id": "a47b7cd9",
   "metadata": {},
   "outputs": [
    {
     "name": "stdout",
     "output_type": "stream",
     "text": [
      "__new__ <class '__main__.SingleConnection'> ('pg',) {}\n",
      "no_instance\n",
      "__init__\n",
      "__new__ <class '__main__.SingleConnection'> ('mysql',) {}\n",
      "__init__\n"
     ]
    },
    {
     "data": {
      "text/plain": [
       "True"
      ]
     },
     "execution_count": 24,
     "metadata": {},
     "output_type": "execute_result"
    }
   ],
   "source": [
    "class SingleConnection(Singleton):\n",
    "    \n",
    "    def __init__(self, domain):\n",
    "        print(\"__init__\")\n",
    "        self.domain = domain\n",
    "    \n",
    "    def __del__(self):\n",
    "        print(\"DELETE\")\n",
    "        \n",
    "inst11 = SingleConnection(\"pg\")\n",
    "inst22 = SingleConnection(\"mysql\")\n",
    "inst11 is inst22"
   ]
  },
  {
   "cell_type": "code",
   "execution_count": 25,
   "id": "83895190",
   "metadata": {},
   "outputs": [
    {
     "name": "stdout",
     "output_type": "stream",
     "text": [
      "__new__ <class '__main__.SingleConnection'> ('pg',) {}\n",
      "__init__\n",
      "domain1 pg 2351645368080\n",
      "<__main__.SingleConnection object at 0x0000022388FC9F10> None\n",
      "------\n",
      "__new__ <class '__main__.SingleConnection'> ('mysql',) {}\n",
      "no_instance\n",
      "__init__\n",
      "domain2 mysql 2351646165936\n"
     ]
    }
   ],
   "source": [
    "inst1 = SingleConnection(\"pg\")\n",
    "print(\"domain1\", inst1.domain, id(inst1))\n",
    "del inst1\n",
    "\n",
    "print(SingleConnection._instance, Singleton._instance)\n",
    "SingleConnection._instance = None\n",
    "print(\"------\")\n",
    "\n",
    "\n",
    "\n",
    "inst2 = SingleConnection(\"mysql\")\n",
    "\n",
    "b = object()\n",
    "for i in range(1000):\n",
    "    d = [1, 2, 3]\n",
    "    d = object()\n",
    "\n",
    "print(\"domain2\", inst2.domain, id(inst2))\n",
    "# inst1 is inst2"
   ]
  },
  {
   "cell_type": "code",
   "execution_count": 26,
   "id": "917f95de",
   "metadata": {},
   "outputs": [
    {
     "name": "stdout",
     "output_type": "stream",
     "text": [
      "2351646154432\n",
      "2351646154240\n",
      "2351646154560\n",
      "2351646154176\n",
      "2351646202112\n",
      "2351646202192\n",
      "2351646202112\n",
      "2351646202192\n"
     ]
    }
   ],
   "source": [
    "print(id([1, 2, 3, 4]))\n",
    "print(id([1, 2, 3, 4]))\n",
    "print(id([1, 2, 3, 4]))\n",
    "print(id([1, 2, 3, 4]))\n",
    "\n",
    "print(id((1, 2, 3, 4)))\n",
    "print(id((1, 2, 3, 4)))\n",
    "print(id((1, 2, 3, 4)))\n",
    "print(id((1, 2, 3, 4)))\n"
   ]
  },
  {
   "cell_type": "code",
   "execution_count": null,
   "id": "e2d721ad",
   "metadata": {},
   "outputs": [],
   "source": []
  },
  {
   "cell_type": "code",
   "execution_count": null,
   "id": "c8072f39",
   "metadata": {},
   "outputs": [],
   "source": []
  },
  {
   "cell_type": "code",
   "execution_count": 27,
   "id": "60ac018c",
   "metadata": {},
   "outputs": [
    {
     "name": "stdout",
     "output_type": "stream",
     "text": [
      "{'self': <__main__.Attr object at 0x0000022388FC9970>, 'owner': <class '__main__.A'>, 'name': 'x'}=\n"
     ]
    }
   ],
   "source": [
    "class Attr:\n",
    "    def __set_name__(self, owner, name):\n",
    "        print(f\"{locals()}=\")\n",
    "        self.name = name\n",
    "    \n",
    "    def __init__(self, val=10):\n",
    "        self.val = val\n",
    "\n",
    "\n",
    "class A:\n",
    "    x = Attr()  # Automatically calls: x.__set_name__(A, \"x\")\n",
    "    #y = Attr(\"yy\")\n",
    "\n",
    "\n",
    "# a = A()"
   ]
  },
  {
   "cell_type": "code",
   "execution_count": 28,
   "id": "d40fa958",
   "metadata": {},
   "outputs": [
    {
     "data": {
      "text/plain": [
       "'x'"
      ]
     },
     "execution_count": 28,
     "metadata": {},
     "output_type": "execute_result"
    }
   ],
   "source": [
    "a = A\n",
    "a.x.name"
   ]
  },
  {
   "cell_type": "code",
   "execution_count": 29,
   "id": "056b1129",
   "metadata": {},
   "outputs": [
    {
     "name": "stdout",
     "output_type": "stream",
     "text": [
      "12\n",
      "5\n",
      "0\n"
     ]
    }
   ],
   "source": [
    "class Adder:\n",
    "    def __init__(self, val):\n",
    "        self._val = val\n",
    "\n",
    "    def __call__(self, number):\n",
    "        return self._val + number\n",
    "    \n",
    "\n",
    "add5 = Adder(5)\n",
    "print(add5(7))\n",
    "print(add5(0))\n",
    "print(add5(-5))\n",
    "        "
   ]
  },
  {
   "cell_type": "code",
   "execution_count": 30,
   "id": "c939b5da",
   "metadata": {},
   "outputs": [],
   "source": [
    "def add(n1, n2):\n",
    "    return n1 + n2"
   ]
  },
  {
   "cell_type": "code",
   "execution_count": 31,
   "id": "d82d5e1f",
   "metadata": {},
   "outputs": [
    {
     "data": {
      "text/plain": [
       "12"
      ]
     },
     "execution_count": 31,
     "metadata": {},
     "output_type": "execute_result"
    }
   ],
   "source": [
    "add.__call__(5, 7)"
   ]
  },
  {
   "cell_type": "code",
   "execution_count": null,
   "id": "1ea43809",
   "metadata": {},
   "outputs": [],
   "source": []
  },
  {
   "cell_type": "code",
   "execution_count": null,
   "id": "195b8122",
   "metadata": {},
   "outputs": [],
   "source": []
  },
  {
   "cell_type": "code",
   "execution_count": 32,
   "id": "0ad61376",
   "metadata": {},
   "outputs": [
    {
     "name": "stdout",
     "output_type": "stream",
     "text": [
      "__setattr__ val 42\n"
     ]
    }
   ],
   "source": [
    "class Attrs:\n",
    "    def __init__(self, val):\n",
    "        self.val = val\n",
    "    \n",
    "    def __getattribute__(self, name):\n",
    "        print(\"__getattribute__\", name)\n",
    "        return super().__getattribute__(name)\n",
    "\n",
    "    def __getattr__(self, name):\n",
    "        print(\"__getattr__\", name)\n",
    "        if name == \"name\":\n",
    "            return 42\n",
    "        return super().__getattribute__(name)\n",
    "\n",
    "    def __setattr__(self, name, val):\n",
    "        print(\"__setattr__\", name, val)\n",
    "        return super().__setattr__(name, val)\n",
    "    \n",
    "    def __delattr__(self, name):\n",
    "        print(\"__delattr__\", name)\n",
    "        return super().__delattr__(name)\n",
    "    \n",
    "\n",
    "    \n",
    "attr = Attrs(42)"
   ]
  },
  {
   "cell_type": "code",
   "execution_count": 33,
   "id": "ee44ffda",
   "metadata": {},
   "outputs": [
    {
     "name": "stdout",
     "output_type": "stream",
     "text": [
      "__getattribute__ val\n"
     ]
    },
    {
     "data": {
      "text/plain": [
       "42"
      ]
     },
     "execution_count": 33,
     "metadata": {},
     "output_type": "execute_result"
    }
   ],
   "source": [
    "attr.val "
   ]
  },
  {
   "cell_type": "code",
   "execution_count": 34,
   "id": "0929403a",
   "metadata": {},
   "outputs": [
    {
     "name": "stdout",
     "output_type": "stream",
     "text": [
      "__getattribute__ name\n",
      "__getattr__ name\n"
     ]
    },
    {
     "data": {
      "text/plain": [
       "False"
      ]
     },
     "execution_count": 34,
     "metadata": {},
     "output_type": "execute_result"
    }
   ],
   "source": [
    "attr.name == \"attribs\""
   ]
  },
  {
   "cell_type": "code",
   "execution_count": 35,
   "id": "96c80d62",
   "metadata": {},
   "outputs": [
    {
     "name": "stdout",
     "output_type": "stream",
     "text": [
      "__getattribute__ not_exist\n",
      "__getattr__ not_exist\n"
     ]
    },
    {
     "ename": "AttributeError",
     "evalue": "'Attrs' object has no attribute 'not_exist'",
     "output_type": "error",
     "traceback": [
      "\u001b[1;31m---------------------------------------------------------------------------\u001b[0m",
      "\u001b[1;31mAttributeError\u001b[0m                            Traceback (most recent call last)",
      "\u001b[1;32m<ipython-input-35-298162295a78>\u001b[0m in \u001b[0;36m<module>\u001b[1;34m\u001b[0m\n\u001b[1;32m----> 1\u001b[1;33m \u001b[0mattr\u001b[0m\u001b[1;33m.\u001b[0m\u001b[0mnot_exist\u001b[0m\u001b[1;33m\u001b[0m\u001b[1;33m\u001b[0m\u001b[0m\n\u001b[0m",
      "\u001b[1;32m<ipython-input-32-bffc92896894>\u001b[0m in \u001b[0;36m__getattr__\u001b[1;34m(self, name)\u001b[0m\n\u001b[0;32m     11\u001b[0m         \u001b[1;32mif\u001b[0m \u001b[0mname\u001b[0m \u001b[1;33m==\u001b[0m \u001b[1;34m\"name\"\u001b[0m\u001b[1;33m:\u001b[0m\u001b[1;33m\u001b[0m\u001b[1;33m\u001b[0m\u001b[0m\n\u001b[0;32m     12\u001b[0m             \u001b[1;32mreturn\u001b[0m \u001b[1;36m42\u001b[0m\u001b[1;33m\u001b[0m\u001b[1;33m\u001b[0m\u001b[0m\n\u001b[1;32m---> 13\u001b[1;33m         \u001b[1;32mreturn\u001b[0m \u001b[0msuper\u001b[0m\u001b[1;33m(\u001b[0m\u001b[1;33m)\u001b[0m\u001b[1;33m.\u001b[0m\u001b[0m__getattribute__\u001b[0m\u001b[1;33m(\u001b[0m\u001b[0mname\u001b[0m\u001b[1;33m)\u001b[0m\u001b[1;33m\u001b[0m\u001b[1;33m\u001b[0m\u001b[0m\n\u001b[0m\u001b[0;32m     14\u001b[0m \u001b[1;33m\u001b[0m\u001b[0m\n\u001b[0;32m     15\u001b[0m     \u001b[1;32mdef\u001b[0m \u001b[0m__setattr__\u001b[0m\u001b[1;33m(\u001b[0m\u001b[0mself\u001b[0m\u001b[1;33m,\u001b[0m \u001b[0mname\u001b[0m\u001b[1;33m,\u001b[0m \u001b[0mval\u001b[0m\u001b[1;33m)\u001b[0m\u001b[1;33m:\u001b[0m\u001b[1;33m\u001b[0m\u001b[1;33m\u001b[0m\u001b[0m\n",
      "\u001b[1;31mAttributeError\u001b[0m: 'Attrs' object has no attribute 'not_exist'"
     ]
    }
   ],
   "source": [
    "attr.not_exist"
   ]
  },
  {
   "cell_type": "code",
   "execution_count": null,
   "id": "92cb7d5c",
   "metadata": {},
   "outputs": [],
   "source": []
  },
  {
   "cell_type": "code",
   "execution_count": 36,
   "id": "60603a33",
   "metadata": {},
   "outputs": [
    {
     "name": "stdout",
     "output_type": "stream",
     "text": [
      "__getattribute__ val\n"
     ]
    },
    {
     "data": {
      "text/plain": [
       "42"
      ]
     },
     "execution_count": 36,
     "metadata": {},
     "output_type": "execute_result"
    }
   ],
   "source": [
    "attr.val"
   ]
  },
  {
   "cell_type": "code",
   "execution_count": 37,
   "id": "7383e7cf",
   "metadata": {},
   "outputs": [
    {
     "name": "stdout",
     "output_type": "stream",
     "text": [
      "__setattr__ name attribs\n"
     ]
    }
   ],
   "source": [
    "attr.name = \"attribs\""
   ]
  },
  {
   "cell_type": "code",
   "execution_count": 38,
   "id": "2d67ac8c",
   "metadata": {},
   "outputs": [
    {
     "name": "stdout",
     "output_type": "stream",
     "text": [
      "__getattribute__ name\n"
     ]
    },
    {
     "data": {
      "text/plain": [
       "'attribs'"
      ]
     },
     "execution_count": 38,
     "metadata": {},
     "output_type": "execute_result"
    }
   ],
   "source": [
    "attr.name"
   ]
  },
  {
   "cell_type": "code",
   "execution_count": 39,
   "id": "26669dc3",
   "metadata": {},
   "outputs": [
    {
     "name": "stdout",
     "output_type": "stream",
     "text": [
      "__delattr__ name\n"
     ]
    }
   ],
   "source": [
    "del attr.name"
   ]
  },
  {
   "cell_type": "code",
   "execution_count": 40,
   "id": "9685b626",
   "metadata": {},
   "outputs": [
    {
     "name": "stdout",
     "output_type": "stream",
     "text": [
      "INIT subclass <class '__main__.MinuteTiming'> {}\n",
      "INIT subclass <class '__main__.HourTiming'> {}\n"
     ]
    }
   ],
   "source": [
    "class Timing:\n",
    "    def __init__(self, start, end):\n",
    "        self.start = start\n",
    "        self.end = end\n",
    "\n",
    "    @classmethod\n",
    "    def __init_subclass__(cls, **kwargs):\n",
    "        print(\"INIT subclass\", cls, kwargs)\n",
    "        super().__init_subclass__(**kwargs)\n",
    "\n",
    "\n",
    "class MinuteTiming(Timing):\n",
    "    pass\n",
    "\n",
    "\n",
    "class HourTiming(MinuteTiming):\n",
    "    pass"
   ]
  },
  {
   "cell_type": "code",
   "execution_count": null,
   "id": "f375ef63",
   "metadata": {},
   "outputs": [],
   "source": []
  },
  {
   "cell_type": "code",
   "execution_count": null,
   "id": "01f5fc4f",
   "metadata": {},
   "outputs": [],
   "source": []
  },
  {
   "cell_type": "code",
   "execution_count": null,
   "id": "dfabbaba",
   "metadata": {},
   "outputs": [],
   "source": []
  },
  {
   "cell_type": "code",
   "execution_count": 41,
   "id": "16357d64",
   "metadata": {},
   "outputs": [
    {
     "data": {
      "text/plain": [
       "(__main__.BoldColoredCursor,\n",
       " __main__.BoldCursor,\n",
       " __main__.ColoredCursor,\n",
       " __main__.Cursor,\n",
       " object)"
      ]
     },
     "execution_count": 41,
     "metadata": {},
     "output_type": "execute_result"
    }
   ],
   "source": [
    "class Cursor:\n",
    "    def __init__(self, name):\n",
    "        print(\"Cursor.__init__\", name)\n",
    "        self.name = name\n",
    "    \n",
    "    def draw(self):\n",
    "        print(\"Cursor.draw\", self.name)\n",
    "\n",
    "\n",
    "class ColoredCursor(Cursor):\n",
    "    def __init__(self, color, *args, **kwargs):\n",
    "        super().__init__(*args, **kwargs)\n",
    "\n",
    "        print(\"ColoredCursor.__init__\", color)\n",
    "        self.color = color\n",
    "    \n",
    "    def draw(self):\n",
    "        print(\"ColoredCursor.draw\", self.color)\n",
    "        #canvas.set_color(self.color)\n",
    "        super().draw()\n",
    "\n",
    "        \n",
    "class BoldCursor(Cursor):\n",
    "    def __init__(self, width, *args, **kwargs):\n",
    "        super().__init__(*args, **kwargs)\n",
    "\n",
    "        print(\"BoldCursor.__init__\", width)\n",
    "        self.width = width\n",
    "    \n",
    "    def draw(self):\n",
    "        print(\"BoldCursor.draw\", self.width)\n",
    "        #canvas.setwidth(self.width)\n",
    "        super().draw()\n",
    "        \n",
    "\n",
    "class BoldColoredCursor(BoldCursor, ColoredCursor):\n",
    "    pass\n",
    "\n",
    "BoldColoredCursor.__mro__"
   ]
  },
  {
   "cell_type": "code",
   "execution_count": 42,
   "id": "6dfd4b38",
   "metadata": {},
   "outputs": [
    {
     "data": {
      "text/plain": [
       "((__main__.BoldCursor, __main__.ColoredCursor), __main__.BoldCursor)"
      ]
     },
     "execution_count": 42,
     "metadata": {},
     "output_type": "execute_result"
    }
   ],
   "source": [
    "BoldColoredCursor.__bases__, BoldColoredCursor.__base__"
   ]
  },
  {
   "cell_type": "code",
   "execution_count": 43,
   "id": "6268ff75",
   "metadata": {},
   "outputs": [
    {
     "name": "stdout",
     "output_type": "stream",
     "text": [
      "Cursor.__init__ text\n",
      "ColoredCursor.__init__ yellow\n",
      "BoldCursor.__init__ 18\n",
      "---\n",
      "BoldCursor.draw 18\n",
      "ColoredCursor.draw yellow\n",
      "Cursor.draw text\n"
     ]
    }
   ],
   "source": [
    "bold_col = BoldColoredCursor(18, \"yellow\", \"text\")\n",
    "print('---')\n",
    "bold_col.draw()"
   ]
  },
  {
   "cell_type": "code",
   "execution_count": null,
   "id": "9c6d9116",
   "metadata": {},
   "outputs": [],
   "source": []
  },
  {
   "cell_type": "code",
   "execution_count": null,
   "id": "d30d5467",
   "metadata": {},
   "outputs": [],
   "source": []
  },
  {
   "cell_type": "code",
   "execution_count": null,
   "id": "c09cc975",
   "metadata": {},
   "outputs": [],
   "source": []
  },
  {
   "cell_type": "code",
   "execution_count": null,
   "id": "fb21bdf1",
   "metadata": {},
   "outputs": [],
   "source": []
  },
  {
   "cell_type": "code",
   "execution_count": 44,
   "id": "6446d073",
   "metadata": {},
   "outputs": [
    {
     "name": "stdout",
     "output_type": "stream",
     "text": [
      "Cursor.__init__ line\n",
      "ColoredCursor.__init__ green\n"
     ]
    }
   ],
   "source": [
    "cur = ColoredCursor(\"green\", \"line\")"
   ]
  },
  {
   "cell_type": "code",
   "execution_count": 98,
   "id": "0451abc0",
   "metadata": {},
   "outputs": [
    {
     "name": "stdout",
     "output_type": "stream",
     "text": [
      "ColoredCursor.draw green\n",
      "Cursor.draw line\n"
     ]
    }
   ],
   "source": [
    "cur.draw()"
   ]
  },
  {
   "cell_type": "code",
   "execution_count": 45,
   "id": "6e2da366",
   "metadata": {},
   "outputs": [
    {
     "name": "stdout",
     "output_type": "stream",
     "text": [
      "Cursor.__init__ text\n",
      "BoldCursor.__init__ 18\n",
      "---\n",
      "BoldCursor.draw 18\n",
      "Cursor.draw text\n"
     ]
    }
   ],
   "source": [
    "bold = BoldCursor(18, \"text\")\n",
    "print('---')\n",
    "bold.draw()"
   ]
  },
  {
   "cell_type": "code",
   "execution_count": 46,
   "id": "a5498017",
   "metadata": {},
   "outputs": [
    {
     "ename": "NameError",
     "evalue": "name 'D' is not defined",
     "output_type": "error",
     "traceback": [
      "\u001b[1;31m---------------------------------------------------------------------------\u001b[0m",
      "\u001b[1;31mNameError\u001b[0m                                 Traceback (most recent call last)",
      "\u001b[1;32m<ipython-input-46-96b5cb73d9b3>\u001b[0m in \u001b[0;36m<module>\u001b[1;34m\u001b[0m\n\u001b[0;32m      8\u001b[0m     \u001b[1;32mpass\u001b[0m\u001b[1;33m\u001b[0m\u001b[1;33m\u001b[0m\u001b[0m\n\u001b[0;32m      9\u001b[0m \u001b[1;33m\u001b[0m\u001b[0m\n\u001b[1;32m---> 10\u001b[1;33m \u001b[0mD\u001b[0m\u001b[1;33m.\u001b[0m\u001b[0m__mro__\u001b[0m\u001b[1;33m\u001b[0m\u001b[1;33m\u001b[0m\u001b[0m\n\u001b[0m",
      "\u001b[1;31mNameError\u001b[0m: name 'D' is not defined"
     ]
    }
   ],
   "source": [
    "class A:\n",
    "    pass\n",
    "\n",
    "class B(A):\n",
    "    pass\n",
    "\n",
    "class C(A):\n",
    "    pass\n",
    "\n",
    "D.__mro__"
   ]
  },
  {
   "cell_type": "code",
   "execution_count": 47,
   "id": "e2c6121c",
   "metadata": {},
   "outputs": [
    {
     "ename": "TypeError",
     "evalue": "Cannot create a consistent method resolution\norder (MRO) for bases A, C",
     "output_type": "error",
     "traceback": [
      "\u001b[1;31m---------------------------------------------------------------------------\u001b[0m",
      "\u001b[1;31mTypeError\u001b[0m                                 Traceback (most recent call last)",
      "\u001b[1;32m<ipython-input-47-b3d2fed4bf21>\u001b[0m in \u001b[0;36m<module>\u001b[1;34m\u001b[0m\n\u001b[1;32m----> 1\u001b[1;33m \u001b[1;32mclass\u001b[0m \u001b[0mD\u001b[0m\u001b[1;33m(\u001b[0m\u001b[0mA\u001b[0m\u001b[1;33m,\u001b[0m \u001b[0mC\u001b[0m\u001b[1;33m)\u001b[0m\u001b[1;33m:\u001b[0m  \u001b[1;31m# A, C, A\u001b[0m\u001b[1;33m\u001b[0m\u001b[1;33m\u001b[0m\u001b[0m\n\u001b[0m\u001b[0;32m      2\u001b[0m     \u001b[1;32mpass\u001b[0m\u001b[1;33m\u001b[0m\u001b[1;33m\u001b[0m\u001b[0m\n",
      "\u001b[1;31mTypeError\u001b[0m: Cannot create a consistent method resolution\norder (MRO) for bases A, C"
     ]
    }
   ],
   "source": [
    "class D(A, C):  # A, C, A\n",
    "    pass"
   ]
  },
  {
   "cell_type": "code",
   "execution_count": null,
   "id": "6d6e7bdc",
   "metadata": {},
   "outputs": [],
   "source": []
  },
  {
   "cell_type": "code",
   "execution_count": null,
   "id": "a7e8fe96",
   "metadata": {},
   "outputs": [],
   "source": []
  },
  {
   "cell_type": "code",
   "execution_count": 49,
   "id": "0adf9bde",
   "metadata": {},
   "outputs": [
    {
     "name": "stdout",
     "output_type": "stream",
     "text": [
      "1\n",
      "1\n",
      "2\n",
      "3\n",
      "5\n",
      "8\n",
      "13\n",
      "21\n",
      "34\n",
      "55\n"
     ]
    }
   ],
   "source": [
    "def fib():\n",
    "    a, b = 0, 1\n",
    "\n",
    "    while True:\n",
    "#         print('take')\n",
    "        a, b = b, a + b\n",
    "        yield a\n",
    "\n",
    "\n",
    "f_gen = fib()\n",
    "\n",
    "        \n",
    "for i in range(10):\n",
    "    print(next(f_gen))"
   ]
  },
  {
   "cell_type": "code",
   "execution_count": 50,
   "id": "3d952030",
   "metadata": {},
   "outputs": [],
   "source": [
    "from itertools import islice"
   ]
  },
  {
   "cell_type": "code",
   "execution_count": 51,
   "id": "a0aff1a2",
   "metadata": {},
   "outputs": [
    {
     "data": {
      "text/plain": [
       "[1, 1, 2, 3, 5, 8, 13, 21, 34, 55]"
      ]
     },
     "execution_count": 51,
     "metadata": {},
     "output_type": "execute_result"
    }
   ],
   "source": [
    "list(islice(fib(), 10))"
   ]
  },
  {
   "cell_type": "code",
   "execution_count": null,
   "id": "4fbcb58b",
   "metadata": {},
   "outputs": [],
   "source": []
  },
  {
   "cell_type": "code",
   "execution_count": 52,
   "id": "e4a63671",
   "metadata": {},
   "outputs": [],
   "source": [
    "f = islice(fib(), 10)\n"
   ]
  },
  {
   "cell_type": "code",
   "execution_count": 53,
   "id": "081813b9",
   "metadata": {},
   "outputs": [
    {
     "data": {
      "text/plain": [
       "1"
      ]
     },
     "execution_count": 53,
     "metadata": {},
     "output_type": "execute_result"
    }
   ],
   "source": [
    "next(f)"
   ]
  },
  {
   "cell_type": "code",
   "execution_count": 54,
   "id": "8cb07753",
   "metadata": {},
   "outputs": [
    {
     "data": {
      "text/plain": [
       "[1, 1, 2, 3, 5, 8, 13, 21, 34, 55]"
      ]
     },
     "execution_count": 54,
     "metadata": {},
     "output_type": "execute_result"
    }
   ],
   "source": [
    "list(islice(fib(), 10))"
   ]
  },
  {
   "cell_type": "code",
   "execution_count": 55,
   "id": "13fdbe79",
   "metadata": {},
   "outputs": [
    {
     "data": {
      "text/plain": [
       "[(1, 101), (2, 103), (5, 108), (13, 121), (34, 155)]"
      ]
     },
     "execution_count": 55,
     "metadata": {},
     "output_type": "execute_result"
    }
   ],
   "source": [
    "f = islice(fib(), 10)\n",
    "\n",
    "list(\n",
    "    zip(f, map(lambda x: x + 100, f))\n",
    ")"
   ]
  },
  {
   "cell_type": "code",
   "execution_count": 56,
   "id": "da403acb",
   "metadata": {},
   "outputs": [
    {
     "data": {
      "text/plain": [
       "[(1, 1, 2, 3), (5, 8, 13, 21)]"
      ]
     },
     "execution_count": 56,
     "metadata": {},
     "output_type": "execute_result"
    }
   ],
   "source": [
    "f = islice(fib(), 10)\n",
    "\n",
    "list(\n",
    "    zip(f, f, f, f)\n",
    ")"
   ]
  },
  {
   "cell_type": "code",
   "execution_count": 57,
   "id": "89d5cfe7",
   "metadata": {},
   "outputs": [
    {
     "data": {
      "text/plain": [
       "[(1, 1, 1, 1), (2, 3, 2, 3), (5, 8, 5, 8), (13, 21, 13, 21), (34, 55, 34, 55)]"
      ]
     },
     "execution_count": 57,
     "metadata": {},
     "output_type": "execute_result"
    }
   ],
   "source": [
    "f1 = islice(fib(), 10)\n",
    "f2 = islice(fib(), 10)\n",
    "\n",
    "list(\n",
    "    zip(f1, f1, f2, f2)\n",
    ")\n",
    "\n",
    "# (1, 1, 1, 1), (2, 3, 2, 3)"
   ]
  },
  {
   "cell_type": "code",
   "execution_count": 59,
   "id": "fbd8738a",
   "metadata": {},
   "outputs": [],
   "source": [
    "lst = iter([1, 2, 3, 4])"
   ]
  },
  {
   "cell_type": "code",
   "execution_count": 60,
   "id": "b2cbae48",
   "metadata": {},
   "outputs": [
    {
     "data": {
      "text/plain": [
       "4"
      ]
     },
     "execution_count": 60,
     "metadata": {},
     "output_type": "execute_result"
    }
   ],
   "source": [
    "next(lst)\n",
    "next(lst)\n",
    "next(lst)\n",
    "next(lst)"
   ]
  },
  {
   "cell_type": "code",
   "execution_count": 61,
   "id": "df32df8a",
   "metadata": {},
   "outputs": [
    {
     "ename": "StopIteration",
     "evalue": "",
     "output_type": "error",
     "traceback": [
      "\u001b[1;31m---------------------------------------------------------------------------\u001b[0m",
      "\u001b[1;31mStopIteration\u001b[0m                             Traceback (most recent call last)",
      "\u001b[1;32m<ipython-input-61-825f57446ad8>\u001b[0m in \u001b[0;36m<module>\u001b[1;34m\u001b[0m\n\u001b[1;32m----> 1\u001b[1;33m \u001b[0mnext\u001b[0m\u001b[1;33m(\u001b[0m\u001b[0mlst\u001b[0m\u001b[1;33m)\u001b[0m\u001b[1;33m\u001b[0m\u001b[1;33m\u001b[0m\u001b[0m\n\u001b[0m",
      "\u001b[1;31mStopIteration\u001b[0m: "
     ]
    }
   ],
   "source": [
    "next(lst)"
   ]
  },
  {
   "cell_type": "code",
   "execution_count": 63,
   "id": "ae37752a",
   "metadata": {},
   "outputs": [
    {
     "ename": "TypeError",
     "evalue": "'list' object is not an iterator",
     "output_type": "error",
     "traceback": [
      "\u001b[1;31m---------------------------------------------------------------------------\u001b[0m",
      "\u001b[1;31mTypeError\u001b[0m                                 Traceback (most recent call last)",
      "\u001b[1;32m<ipython-input-63-0d6ce4b6f508>\u001b[0m in \u001b[0;36m<module>\u001b[1;34m\u001b[0m\n\u001b[0;32m      1\u001b[0m \u001b[0mlst\u001b[0m \u001b[1;33m=\u001b[0m \u001b[1;33m[\u001b[0m\u001b[1;36m1\u001b[0m\u001b[1;33m,\u001b[0m \u001b[1;36m2\u001b[0m\u001b[1;33m,\u001b[0m \u001b[1;36m3\u001b[0m\u001b[1;33m,\u001b[0m \u001b[1;36m4\u001b[0m\u001b[1;33m]\u001b[0m\u001b[1;33m\u001b[0m\u001b[1;33m\u001b[0m\u001b[0m\n\u001b[1;32m----> 2\u001b[1;33m \u001b[0mnext\u001b[0m\u001b[1;33m(\u001b[0m\u001b[0mlst\u001b[0m\u001b[1;33m)\u001b[0m\u001b[1;33m\u001b[0m\u001b[1;33m\u001b[0m\u001b[0m\n\u001b[0m",
      "\u001b[1;31mTypeError\u001b[0m: 'list' object is not an iterator"
     ]
    }
   ],
   "source": [
    "lst = [1, 2, 3, 4]\n",
    "next(lst)"
   ]
  },
  {
   "cell_type": "code",
   "execution_count": null,
   "id": "560f452e",
   "metadata": {},
   "outputs": [],
   "source": [
    "# for i in range():\n",
    "#     for j in [1, 2, 3]:"
   ]
  },
  {
   "cell_type": "code",
   "execution_count": null,
   "id": "1d16f704",
   "metadata": {},
   "outputs": [],
   "source": []
  },
  {
   "cell_type": "code",
   "execution_count": null,
   "id": "fe70bc91",
   "metadata": {},
   "outputs": [],
   "source": []
  },
  {
   "cell_type": "code",
   "execution_count": 64,
   "id": "2f0c0fc3",
   "metadata": {},
   "outputs": [],
   "source": [
    "def fib():\n",
    "    a, b = 0, 1\n",
    "\n",
    "    while True:\n",
    "        a, b = b, a + b\n",
    "        yield a"
   ]
  },
  {
   "cell_type": "code",
   "execution_count": 65,
   "id": "325c69ac",
   "metadata": {},
   "outputs": [
    {
     "name": "stdout",
     "output_type": "stream",
     "text": [
      "__itert__\n",
      "5\n",
      "9\n",
      "11\n",
      "0\n",
      "2\n"
     ]
    }
   ],
   "source": [
    "class CustomIter:\n",
    "    def __init__(self, lst):\n",
    "        self._lst = lst\n",
    "    \n",
    "    def __iter__(self):\n",
    "        print('__itert__')\n",
    "        return iter(self._lst)\n",
    "    \n",
    "\n",
    "for i in CustomIter([5, 9, 11, 0, 2]):\n",
    "    print(i)"
   ]
  },
  {
   "cell_type": "code",
   "execution_count": 66,
   "id": "f800c3a0",
   "metadata": {},
   "outputs": [
    {
     "name": "stdout",
     "output_type": "stream",
     "text": [
      "25\n",
      "81\n",
      "121\n",
      "0\n",
      "4\n"
     ]
    },
    {
     "ename": "StopIteration",
     "evalue": "",
     "output_type": "error",
     "traceback": [
      "\u001b[1;31m---------------------------------------------------------------------------\u001b[0m",
      "\u001b[1;31mStopIteration\u001b[0m                             Traceback (most recent call last)",
      "\u001b[1;32m<ipython-input-66-8c66d734a557>\u001b[0m in \u001b[0;36m<module>\u001b[1;34m\u001b[0m\n\u001b[0;32m     22\u001b[0m \u001b[0mprint\u001b[0m\u001b[1;33m(\u001b[0m\u001b[0mnext\u001b[0m\u001b[1;33m(\u001b[0m\u001b[0mit\u001b[0m\u001b[1;33m)\u001b[0m\u001b[1;33m)\u001b[0m\u001b[1;33m\u001b[0m\u001b[1;33m\u001b[0m\u001b[0m\n\u001b[0;32m     23\u001b[0m \u001b[0mprint\u001b[0m\u001b[1;33m(\u001b[0m\u001b[0mnext\u001b[0m\u001b[1;33m(\u001b[0m\u001b[0mit\u001b[0m\u001b[1;33m)\u001b[0m\u001b[1;33m)\u001b[0m\u001b[1;33m\u001b[0m\u001b[1;33m\u001b[0m\u001b[0m\n\u001b[1;32m---> 24\u001b[1;33m \u001b[0mprint\u001b[0m\u001b[1;33m(\u001b[0m\u001b[0mnext\u001b[0m\u001b[1;33m(\u001b[0m\u001b[0mit\u001b[0m\u001b[1;33m)\u001b[0m\u001b[1;33m)\u001b[0m\u001b[1;33m\u001b[0m\u001b[1;33m\u001b[0m\u001b[0m\n\u001b[0m",
      "\u001b[1;32m<ipython-input-66-8c66d734a557>\u001b[0m in \u001b[0;36m__next__\u001b[1;34m(self)\u001b[0m\n\u001b[0;32m     13\u001b[0m             \u001b[0mself\u001b[0m\u001b[1;33m.\u001b[0m\u001b[0m_i\u001b[0m \u001b[1;33m+=\u001b[0m \u001b[1;36m1\u001b[0m\u001b[1;33m\u001b[0m\u001b[1;33m\u001b[0m\u001b[0m\n\u001b[0;32m     14\u001b[0m             \u001b[1;32mreturn\u001b[0m \u001b[0mval\u001b[0m \u001b[1;33m**\u001b[0m \u001b[1;36m2\u001b[0m\u001b[1;33m\u001b[0m\u001b[1;33m\u001b[0m\u001b[0m\n\u001b[1;32m---> 15\u001b[1;33m         \u001b[1;32mraise\u001b[0m \u001b[0mStopIteration\u001b[0m\u001b[1;33m(\u001b[0m\u001b[1;33m)\u001b[0m\u001b[1;33m\u001b[0m\u001b[1;33m\u001b[0m\u001b[0m\n\u001b[0m\u001b[0;32m     16\u001b[0m \u001b[1;33m\u001b[0m\u001b[0m\n\u001b[0;32m     17\u001b[0m \u001b[1;33m\u001b[0m\u001b[0m\n",
      "\u001b[1;31mStopIteration\u001b[0m: "
     ]
    }
   ],
   "source": [
    "class CustomIter:\n",
    "    def __init__(self, lst):\n",
    "        self._lst = lst\n",
    "        self._i = 0\n",
    "\n",
    "    def __iter__(self):\n",
    "        print('__itert__')\n",
    "        return self\n",
    "\n",
    "    def __next__(self):\n",
    "        if self._i < len(self._lst):\n",
    "            val = self._lst[self._i]\n",
    "            self._i += 1\n",
    "            return val ** 2\n",
    "        raise StopIteration()\n",
    "\n",
    "\n",
    "it = CustomIter([5, 9, 11, 0, 2])\n",
    "print(next(it))\n",
    "print(next(it))\n",
    "print(next(it))\n",
    "print(next(it))\n",
    "print(next(it))\n",
    "print(next(it))"
   ]
  },
  {
   "cell_type": "code",
   "execution_count": 67,
   "id": "661c9338",
   "metadata": {},
   "outputs": [
    {
     "name": "stdout",
     "output_type": "stream",
     "text": [
      "__itert__\n",
      "25\n",
      "81\n",
      "121\n",
      "0\n",
      "4\n"
     ]
    }
   ],
   "source": [
    "for i in CustomIter([5, 9, 11, 0, 2]):\n",
    "    print(i)"
   ]
  },
  {
   "cell_type": "code",
   "execution_count": 68,
   "id": "362b5bed",
   "metadata": {},
   "outputs": [
    {
     "name": "stdout",
     "output_type": "stream",
     "text": [
      "__itert__\n"
     ]
    },
    {
     "data": {
      "text/plain": [
       "<__main__.CustomIter at 0x223890a5460>"
      ]
     },
     "execution_count": 68,
     "metadata": {},
     "output_type": "execute_result"
    }
   ],
   "source": [
    "iter(CustomIter([5, 9, 11, 0, 2]))"
   ]
  },
  {
   "cell_type": "code",
   "execution_count": null,
   "id": "d0ef933f",
   "metadata": {},
   "outputs": [],
   "source": []
  },
  {
   "cell_type": "code",
   "execution_count": null,
   "id": "6656721e",
   "metadata": {},
   "outputs": [],
   "source": []
  },
  {
   "cell_type": "code",
   "execution_count": 161,
   "id": "9238786f",
   "metadata": {},
   "outputs": [],
   "source": [
    "#type(x) == int or type(x) == float"
   ]
  },
  {
   "cell_type": "code",
   "execution_count": 69,
   "id": "0885df11",
   "metadata": {},
   "outputs": [
    {
     "data": {
      "text/plain": [
       "(True, False)"
      ]
     },
     "execution_count": 69,
     "metadata": {},
     "output_type": "execute_result"
    }
   ],
   "source": [
    "isinstance(1, (int, float)), isinstance(\"1\", (int, float))"
   ]
  },
  {
   "cell_type": "code",
   "execution_count": 164,
   "id": "f3892649",
   "metadata": {},
   "outputs": [
    {
     "data": {
      "text/plain": [
       "(__main__.CustomIter, int)"
      ]
     },
     "execution_count": 164,
     "metadata": {},
     "output_type": "execute_result"
    }
   ],
   "source": [
    "type(CustomIter([])), type(1)"
   ]
  },
  {
   "cell_type": "code",
   "execution_count": 165,
   "id": "90584d01",
   "metadata": {},
   "outputs": [
    {
     "name": "stdout",
     "output_type": "stream",
     "text": [
      "Cursor.__init__ line\n",
      "ColoredCursor.__init__ green\n",
      "BoldCursor.__init__ 18\n"
     ]
    }
   ],
   "source": [
    "cur = BoldColoredCursor(\"18\", \"green\", \"line\")"
   ]
  },
  {
   "cell_type": "code",
   "execution_count": 166,
   "id": "2b78aa19",
   "metadata": {},
   "outputs": [
    {
     "data": {
      "text/plain": [
       "__main__.BoldColoredCursor"
      ]
     },
     "execution_count": 166,
     "metadata": {},
     "output_type": "execute_result"
    }
   ],
   "source": [
    "type(cur)"
   ]
  },
  {
   "cell_type": "code",
   "execution_count": 169,
   "id": "564033e8",
   "metadata": {},
   "outputs": [
    {
     "data": {
      "text/plain": [
       "(True, True, True)"
      ]
     },
     "execution_count": 169,
     "metadata": {},
     "output_type": "execute_result"
    }
   ],
   "source": [
    "isinstance(cur, BoldColoredCursor), isinstance(cur, Cursor), isinstance(cur, object)"
   ]
  },
  {
   "cell_type": "code",
   "execution_count": 170,
   "id": "39dc2fb6",
   "metadata": {},
   "outputs": [
    {
     "data": {
      "text/plain": [
       "True"
      ]
     },
     "execution_count": 170,
     "metadata": {},
     "output_type": "execute_result"
    }
   ],
   "source": [
    "def fn(): pass\n",
    "\n",
    "isinstance(fn, object)"
   ]
  },
  {
   "cell_type": "code",
   "execution_count": 173,
   "id": "2b1275fb",
   "metadata": {},
   "outputs": [
    {
     "data": {
      "text/plain": [
       "True"
      ]
     },
     "execution_count": 173,
     "metadata": {},
     "output_type": "execute_result"
    }
   ],
   "source": [
    "isinstance(cur, (str, int, Cursor))"
   ]
  },
  {
   "cell_type": "code",
   "execution_count": 176,
   "id": "2ba5417c",
   "metadata": {},
   "outputs": [
    {
     "name": "stdout",
     "output_type": "stream",
     "text": [
      "Cursor.__init__ name\n",
      "BoldCursor.__init__ 18\n",
      "Cursor.__init__ name\n"
     ]
    }
   ],
   "source": [
    "bold_cur = BoldCursor(18, \"name\")\n",
    "cur = Cursor(\"name\")"
   ]
  },
  {
   "cell_type": "code",
   "execution_count": 179,
   "id": "ec724f6f",
   "metadata": {},
   "outputs": [
    {
     "name": "stdout",
     "output_type": "stream",
     "text": [
      "True False False False\n"
     ]
    }
   ],
   "source": [
    "print(\n",
    "    isinstance(bold_cur, Cursor),\n",
    "    isinstance(bold_cur, BoldColoredCursor),\n",
    "    isinstance(bold_cur, ColoredCursor),\n",
    "    isinstance(cur, BoldColoredCursor),\n",
    ")"
   ]
  },
  {
   "cell_type": "code",
   "execution_count": null,
   "id": "4c95b853",
   "metadata": {},
   "outputs": [],
   "source": []
  },
  {
   "cell_type": "code",
   "execution_count": null,
   "id": "afead784",
   "metadata": {},
   "outputs": [],
   "source": []
  },
  {
   "cell_type": "code",
   "execution_count": 184,
   "id": "e925b0a5",
   "metadata": {},
   "outputs": [
    {
     "name": "stdout",
     "output_type": "stream",
     "text": [
      "<_io.TextIOWrapper name='data.json' mode='w' encoding='UTF-8'>\n"
     ]
    }
   ],
   "source": [
    "import json\n",
    "\n",
    "with open(\"data.json\", \"w\") as f:\n",
    "    print(f)\n",
    "    json.dump({\"x\": \"y\"}, f)"
   ]
  },
  {
   "cell_type": "code",
   "execution_count": 183,
   "id": "5fb403a1",
   "metadata": {},
   "outputs": [
    {
     "name": "stdout",
     "output_type": "stream",
     "text": [
      "{\"x\": \"y\"}"
     ]
    }
   ],
   "source": [
    "!cat data.json"
   ]
  },
  {
   "cell_type": "code",
   "execution_count": 185,
   "id": "8cbeabff",
   "metadata": {},
   "outputs": [],
   "source": [
    "import io"
   ]
  },
  {
   "cell_type": "code",
   "execution_count": 191,
   "id": "ac58e9ec",
   "metadata": {},
   "outputs": [],
   "source": [
    "buf = io.StringIO()"
   ]
  },
  {
   "cell_type": "code",
   "execution_count": 192,
   "id": "4e7e7378",
   "metadata": {},
   "outputs": [],
   "source": [
    "json.dump({\"x\": \"y\"}, buf)\n",
    "json.dump({\"z\": \"22222\"}, buf)"
   ]
  },
  {
   "cell_type": "code",
   "execution_count": 193,
   "id": "85d029a0",
   "metadata": {},
   "outputs": [
    {
     "data": {
      "text/plain": [
       "'{\"x\": \"y\"}{\"z\": \"22222\"}'"
      ]
     },
     "execution_count": 193,
     "metadata": {},
     "output_type": "execute_result"
    }
   ],
   "source": [
    "buf.getvalue()"
   ]
  },
  {
   "cell_type": "code",
   "execution_count": null,
   "id": "71405113",
   "metadata": {},
   "outputs": [],
   "source": []
  },
  {
   "cell_type": "code",
   "execution_count": null,
   "id": "d44d23fc",
   "metadata": {},
   "outputs": [],
   "source": [
    "class TicTac:\n",
    "    def __init__(self, print_fn=print):\n",
    "        self._print = print_fn\n",
    "        \n",
    "    def move(self):\n",
    "        self._print(\"dkwndkwdkwk\")\n",
    "        \n",
    "        \n",
    "\n",
    "def test_xxx():\n",
    "    m_print = mock.Mock()\n",
    "    tt = TicTac(print_fn=m_print)\n",
    "    tt.play()\n",
    "    \n",
    "    self.assertEqual(\n",
    "        [mock.call(\"dkwndkwdkwk\")],\n",
    "        m_print.mock_calls,\n",
    "    )\n",
    "    \n",
    "\n",
    "def test_yyyy():\n",
    "    tt = TicTac()\n",
    "    with mock.patch(\"path_to_TicTac.print\") as m_print:\n",
    "        tt.play()\n",
    "\n",
    "        self.assertEqual(\n",
    "            [mock.call(\"dkwndkwdkwk\")],\n",
    "            m_print.mock_calls,\n",
    "        )"
   ]
  },
  {
   "cell_type": "code",
   "execution_count": null,
   "id": "ad04b74b",
   "metadata": {},
   "outputs": [],
   "source": []
  }
 ],
 "metadata": {
  "kernelspec": {
   "display_name": "Python 3",
   "language": "python",
   "name": "python3"
  },
  "language_info": {
   "codemirror_mode": {
    "name": "ipython",
    "version": 3
   },
   "file_extension": ".py",
   "mimetype": "text/x-python",
   "name": "python",
   "nbconvert_exporter": "python",
   "pygments_lexer": "ipython3",
   "version": "3.8.5"
  }
 },
 "nbformat": 4,
 "nbformat_minor": 5
}
